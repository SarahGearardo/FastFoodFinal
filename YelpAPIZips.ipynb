{
 "cells": [
  {
   "cell_type": "code",
   "execution_count": 3,
   "id": "f12da17c",
   "metadata": {},
   "outputs": [],
   "source": [
    "# import dependancies\n",
    "import requests\n",
    "import pandas as pd\n",
    "import numpy as np\n",
    "import time\n",
    "from datetime import datetime\n",
    "from config import yelp_key"
   ]
  },
  {
   "cell_type": "code",
   "execution_count": 5,
   "id": "8284b51d",
   "metadata": {},
   "outputs": [],
   "source": [
    "# Define API Key, Endpoint and Header\n",
    "api_key = yelp_key\n",
    "endpoint = 'https://api.yelp.com/v3/businesses/search'\n",
    "headers = {'authorization': 'bearer %s' % api_key}"
   ]
  },
  {
   "cell_type": "code",
   "execution_count": 31,
   "id": "661dc491",
   "metadata": {},
   "outputs": [],
   "source": [
    "# Define Paramaters\n",
    "parameters = {'term' : 'fastfood',\n",
    "             'location' : 'Detroit',\n",
    "             'locale' : 'en_US',\n",
    "             'radius' : 10000}"
   ]
  },
  {
   "cell_type": "code",
   "execution_count": 32,
   "id": "7ebc69c3",
   "metadata": {},
   "outputs": [],
   "source": [
    "# Make a request to the Yelp API\n",
    "response = requests.get(url = endpoint, params = parameters, headers = headers)"
   ]
  },
  {
   "cell_type": "code",
   "execution_count": 33,
   "id": "4d87e7af",
   "metadata": {},
   "outputs": [],
   "source": [
    "# Convert JSON string to dictionary\n",
    "business_data = response.json()"
   ]
  },
  {
   "cell_type": "code",
   "execution_count": 34,
   "id": "3bf068fe",
   "metadata": {},
   "outputs": [
    {
     "name": "stdout",
     "output_type": "stream",
     "text": [
      "{'businesses': [{'id': '2LvBZWY2805djuFQ1XgU7w', 'alias': 'mcdonalds-detroit-30', 'name': \"McDonald's\", 'image_url': 'https://s3-media1.fl.yelpcdn.com/bphoto/pdOmEgPPN_xr4d41urhKkA/o.jpg', 'is_closed': False, 'url': 'https://www.yelp.com/biz/mcdonalds-detroit-30?adjust_creative=Mo-FLQHmlM0V8ASDrGnoKA&utm_campaign=yelp_api_v3&utm_medium=api_v3_business_search&utm_source=Mo-FLQHmlM0V8ASDrGnoKA', 'review_count': 41, 'categories': [{'alias': 'hotdogs', 'title': 'Fast Food'}, {'alias': 'burgers', 'title': 'Burgers'}, {'alias': 'coffee', 'title': 'Coffee & Tea'}], 'rating': 1.0, 'coordinates': {'latitude': 42.3678962778675, 'longitude': -83.0809119343758}, 'transactions': ['delivery'], 'price': '$', 'location': {'address1': '2889 W Grand Blvd', 'address2': '', 'address3': '', 'city': 'Detroit', 'zip_code': '48202', 'country': 'US', 'state': 'MI', 'display_address': ['2889 W Grand Blvd', 'Detroit, MI 48202']}, 'phone': '+13138715821', 'display_phone': '(313) 871-5821', 'distance': 1026.764108274058}, {'id': '7q9U7aJMrnghgH1FTSoo0A', 'alias': 'the-potato-place-detroit', 'name': 'The Potato Place', 'image_url': 'https://s3-media3.fl.yelpcdn.com/bphoto/TAsIF8M5znyU_rkYoX1oBg/o.jpg', 'is_closed': False, 'url': 'https://www.yelp.com/biz/the-potato-place-detroit?adjust_creative=Mo-FLQHmlM0V8ASDrGnoKA&utm_campaign=yelp_api_v3&utm_medium=api_v3_business_search&utm_source=Mo-FLQHmlM0V8ASDrGnoKA', 'review_count': 113, 'categories': [{'alias': 'tradamerican', 'title': 'American (Traditional)'}, {'alias': 'icecream', 'title': 'Ice Cream & Frozen Yogurt'}], 'rating': 4.0, 'coordinates': {'latitude': 42.356045, 'longitude': -83.066036}, 'transactions': ['pickup', 'delivery'], 'price': '$', 'location': {'address1': '107 W Warren Ave', 'address2': '', 'address3': '', 'city': 'Detroit', 'zip_code': '48201', 'country': 'US', 'state': 'MI', 'display_address': ['107 W Warren Ave', 'Detroit, MI 48201']}, 'phone': '+13138338948', 'display_phone': '(313) 833-8948', 'distance': 2168.0626310667826}, {'id': 'a7i_HGV7t06jctVk2w5BbA', 'alias': 'burger-king-highland-park-2', 'name': 'Burger King', 'image_url': 'https://s3-media3.fl.yelpcdn.com/bphoto/1B-ic_DZSYuFKJ8TXzuStg/o.jpg', 'is_closed': False, 'url': 'https://www.yelp.com/biz/burger-king-highland-park-2?adjust_creative=Mo-FLQHmlM0V8ASDrGnoKA&utm_campaign=yelp_api_v3&utm_medium=api_v3_business_search&utm_source=Mo-FLQHmlM0V8ASDrGnoKA', 'review_count': 10, 'categories': [{'alias': 'burgers', 'title': 'Burgers'}, {'alias': 'hotdogs', 'title': 'Fast Food'}], 'rating': 2.5, 'coordinates': {'latitude': 42.4029705794038, 'longitude': -83.0944423377513}, 'transactions': ['delivery'], 'price': '$', 'location': {'address1': '13324 Woodward Ave', 'address2': '', 'address3': '', 'city': 'Highland Park', 'zip_code': '48203', 'country': 'US', 'state': 'MI', 'display_address': ['13324 Woodward Ave', 'Highland Park, MI 48203']}, 'phone': '+13138652965', 'display_phone': '(313) 865-2965', 'distance': 4518.169589331277}, {'id': 'z8wiJCwbTBeeNJp2XL1rbg', 'alias': 'burger-king-detroit-5', 'name': 'Burger King', 'image_url': 'https://s3-media3.fl.yelpcdn.com/bphoto/BUFLt_0YaMSBU222H0TQ-A/o.jpg', 'is_closed': False, 'url': 'https://www.yelp.com/biz/burger-king-detroit-5?adjust_creative=Mo-FLQHmlM0V8ASDrGnoKA&utm_campaign=yelp_api_v3&utm_medium=api_v3_business_search&utm_source=Mo-FLQHmlM0V8ASDrGnoKA', 'review_count': 20, 'categories': [{'alias': 'burgers', 'title': 'Burgers'}, {'alias': 'hotdogs', 'title': 'Fast Food'}], 'rating': 1.5, 'coordinates': {'latitude': 42.3751582, 'longitude': -83.0771129}, 'transactions': ['delivery'], 'price': '$', 'location': {'address1': '8201 Woodward Ave', 'address2': '', 'address3': '', 'city': 'Detroit', 'zip_code': '48202', 'country': 'US', 'state': 'MI', 'display_address': ['8201 Woodward Ave', 'Detroit, MI 48202']}, 'phone': '+13138739133', 'display_phone': '(313) 873-9133', 'distance': 1817.4748680147768}, {'id': 'chSxX_mZksLZjJbs4Z8K4g', 'alias': 'popeyes-louisiana-kitchen-windsor-2', 'name': 'Popeyes Louisiana Kitchen', 'image_url': 'https://s3-media1.fl.yelpcdn.com/bphoto/sxb7S8nbj9QBjVDVoMH4NA/o.jpg', 'is_closed': False, 'url': 'https://www.yelp.com/biz/popeyes-louisiana-kitchen-windsor-2?adjust_creative=Mo-FLQHmlM0V8ASDrGnoKA&utm_campaign=yelp_api_v3&utm_medium=api_v3_business_search&utm_source=Mo-FLQHmlM0V8ASDrGnoKA', 'review_count': 18, 'categories': [{'alias': 'hotdogs', 'title': 'Fast Food'}, {'alias': 'chicken_wings', 'title': 'Chicken Wings'}], 'rating': 2.0, 'coordinates': {'latitude': 42.29036, 'longitude': -83.06036}, 'transactions': [], 'price': '$', 'location': {'address1': '1375 Huron Church Road', 'address2': '', 'address3': '', 'city': 'Windsor', 'zip_code': 'N9C 2K8', 'country': 'CA', 'state': 'ON', 'display_address': ['1375 Huron Church Road', 'Windsor, ON N9C 2K8', 'Canada']}, 'phone': '+15192563200', 'display_phone': '+1 519-256-3200', 'distance': 8377.841877361972}], 'total': 5, 'region': {'center': {'longitude': -83.09097290039062, 'latitude': 42.36241855567113}}}\n"
     ]
    }
   ],
   "source": [
    "# Print results\n",
    "print(business_data)"
   ]
  },
  {
   "cell_type": "code",
   "execution_count": 63,
   "id": "ea195fdf",
   "metadata": {},
   "outputs": [
    {
     "data": {
      "text/html": [
       "<div>\n",
       "<style scoped>\n",
       "    .dataframe tbody tr th:only-of-type {\n",
       "        vertical-align: middle;\n",
       "    }\n",
       "\n",
       "    .dataframe tbody tr th {\n",
       "        vertical-align: top;\n",
       "    }\n",
       "\n",
       "    .dataframe thead th {\n",
       "        text-align: right;\n",
       "    }\n",
       "</style>\n",
       "<table border=\"1\" class=\"dataframe\">\n",
       "  <thead>\n",
       "    <tr style=\"text-align: right;\">\n",
       "      <th></th>\n",
       "      <th>name</th>\n",
       "      <th>location</th>\n",
       "    </tr>\n",
       "  </thead>\n",
       "  <tbody>\n",
       "    <tr>\n",
       "      <th>0</th>\n",
       "      <td>McDonald's</td>\n",
       "      <td>{'address1': '2889 W Grand Blvd', 'address2': ...</td>\n",
       "    </tr>\n",
       "    <tr>\n",
       "      <th>1</th>\n",
       "      <td>The Potato Place</td>\n",
       "      <td>{'address1': '107 W Warren Ave', 'address2': '...</td>\n",
       "    </tr>\n",
       "    <tr>\n",
       "      <th>2</th>\n",
       "      <td>Burger King</td>\n",
       "      <td>{'address1': '13324 Woodward Ave', 'address2':...</td>\n",
       "    </tr>\n",
       "    <tr>\n",
       "      <th>3</th>\n",
       "      <td>Burger King</td>\n",
       "      <td>{'address1': '8201 Woodward Ave', 'address2': ...</td>\n",
       "    </tr>\n",
       "    <tr>\n",
       "      <th>4</th>\n",
       "      <td>Popeyes Louisiana Kitchen</td>\n",
       "      <td>{'address1': '1375 Huron Church Road', 'addres...</td>\n",
       "    </tr>\n",
       "  </tbody>\n",
       "</table>\n",
       "</div>"
      ],
      "text/plain": [
       "                        name  \\\n",
       "0                 McDonald's   \n",
       "1           The Potato Place   \n",
       "2                Burger King   \n",
       "3                Burger King   \n",
       "4  Popeyes Louisiana Kitchen   \n",
       "\n",
       "                                            location  \n",
       "0  {'address1': '2889 W Grand Blvd', 'address2': ...  \n",
       "1  {'address1': '107 W Warren Ave', 'address2': '...  \n",
       "2  {'address1': '13324 Woodward Ave', 'address2':...  \n",
       "3  {'address1': '8201 Woodward Ave', 'address2': ...  \n",
       "4  {'address1': '1375 Huron Church Road', 'addres...  "
      ]
     },
     "execution_count": 63,
     "metadata": {},
     "output_type": "execute_result"
    }
   ],
   "source": [
    "# Turn into dataframe\n",
    "\n",
    "cols = list(business_data['businesses'][0].keys())\n",
    "df = pd.DataFrame(columns=cols)\n",
    "for biz in business_data['businesses']:\n",
    "    df = df.append(biz, ignore_index=True)\n",
    "    df = df.drop(['id', 'categories','alias','image_url', 'is_closed', 'url', 'review_count', 'rating', 'transactions', 'price', 'phone', 'distance', 'display_phone', 'coordinates'],axis=1)\n",
    "df.head()"
   ]
  },
  {
   "cell_type": "markdown",
   "id": "1400c87f",
   "metadata": {},
   "source": []
  }
 ],
 "metadata": {
  "kernelspec": {
   "display_name": "Python 3 (ipykernel)",
   "language": "python",
   "name": "python3"
  },
  "language_info": {
   "codemirror_mode": {
    "name": "ipython",
    "version": 3
   },
   "file_extension": ".py",
   "mimetype": "text/x-python",
   "name": "python",
   "nbconvert_exporter": "python",
   "pygments_lexer": "ipython3",
   "version": "3.7.11"
  }
 },
 "nbformat": 4,
 "nbformat_minor": 5
}
