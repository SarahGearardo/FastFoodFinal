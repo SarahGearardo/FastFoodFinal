{
 "cells": [
  {
   "cell_type": "code",
   "execution_count": 5,
   "id": "a10ee2ba",
   "metadata": {},
   "outputs": [],
   "source": [
    "import requests\n",
    "from config import API_Yelp_KEY"
   ]
  },
  {
   "cell_type": "code",
   "execution_count": 9,
   "id": "fa2e511a",
   "metadata": {},
   "outputs": [
    {
     "name": "stdout",
     "output_type": "stream",
     "text": [
      "dict_keys(['businesses', 'total', 'region'])\n"
     ]
    }
   ],
   "source": [
    "#Define API key, endpoint, header\n",
    "API_Key = API_Yelp_KEY\n",
    "Endpoint = 'https://api.yelp.com/v3/businesses/search'\n",
    "Headers = {'Authorization': 'bearer %s' %API_Key}\n",
    "\n",
    "#Define parameters\n",
    "Parameters = {'term':'fast food',\n",
    "             'location': 'cleveland'}\n",
    "\n",
    "#Yelp request\n",
    "response = requests.get(url=Endpoint, params = Parameters, headers = Headers)\n",
    "\n",
    "#Covert json to dictionary\n",
    "business_data = response.json()\n",
    "\n",
    "print(business_data.keys())"
   ]
  },
  {
   "cell_type": "code",
   "execution_count": 10,
   "id": "33d22ce1",
   "metadata": {},
   "outputs": [
    {
     "name": "stdout",
     "output_type": "stream",
     "text": [
      "Potbelly Sandwich Shop\n",
      "{'address1': '515 Euclid Ave', 'address2': '', 'address3': '', 'city': 'Cleveland', 'zip_code': '44114', 'country': 'US', 'state': 'OH', 'display_address': ['515 Euclid Ave', 'Cleveland, OH 44114']}\n",
      "Chicken Ranch\n",
      "{'address1': '13892 Cedar Rd', 'address2': None, 'address3': '', 'city': 'University Heights', 'zip_code': '44118', 'country': 'US', 'state': 'OH', 'display_address': ['13892 Cedar Rd', 'University Heights, OH 44118']}\n",
      "Steak ’n Shake\n",
      "{'address1': '3294 Steelyard Dr', 'address2': '', 'address3': '', 'city': 'Cleveland', 'zip_code': '44109', 'country': 'US', 'state': 'OH', 'display_address': ['3294 Steelyard Dr', 'Cleveland, OH 44109']}\n",
      "Seti's Polish Boys\n",
      "{'address1': 'W 4242 Lorain Ave', 'address2': '', 'address3': '', 'city': 'Cleveland', 'zip_code': '44113', 'country': 'US', 'state': 'OH', 'display_address': ['W 4242 Lorain Ave', 'Cleveland, OH 44113']}\n",
      "Guthrie's Chicken Fingers\n",
      "{'address1': '3465 Steelyard Dr', 'address2': '', 'address3': '', 'city': 'Cleveland', 'zip_code': '44109', 'country': 'US', 'state': 'OH', 'display_address': ['3465 Steelyard Dr', 'Cleveland, OH 44109']}\n",
      "The Crispy Chick\n",
      "{'address1': '5618 Woodland Ave', 'address2': '', 'address3': None, 'city': 'Cleveland', 'zip_code': '44104', 'country': 'US', 'state': 'OH', 'display_address': ['5618 Woodland Ave', 'Cleveland, OH 44104']}\n",
      "Wahlburgers\n",
      "{'address1': '2105 Ontario St', 'address2': '-', 'address3': None, 'city': 'Cleveland', 'zip_code': '44115', 'country': 'US', 'state': 'OH', 'display_address': ['2105 Ontario St', '-', 'Cleveland, OH 44115']}\n",
      "Shake Shack\n",
      "{'address1': '601 Euclid Ave', 'address2': '', 'address3': '', 'city': 'Cleveland', 'zip_code': '44114', 'country': 'US', 'state': 'OH', 'display_address': ['601 Euclid Ave', 'Cleveland, OH 44114']}\n",
      "Ohio City Burrito\n",
      "{'address1': '1844 W 25th St', 'address2': '', 'address3': '', 'city': 'Cleveland', 'zip_code': '44113', 'country': 'US', 'state': 'OH', 'display_address': ['1844 W 25th St', 'Cleveland, OH 44113']}\n",
      "Bonchon Seven Hills\n",
      "{'address1': '7581 Broadview Rd', 'address2': '', 'address3': None, 'city': 'Seven Hills', 'zip_code': '44131', 'country': 'US', 'state': 'OH', 'display_address': ['7581 Broadview Rd', 'Seven Hills, OH 44131']}\n",
      "Raising Cane's Chicken Fingers\n",
      "{'address1': '14115 Detroit Ave', 'address2': '', 'address3': None, 'city': 'Lakewood', 'zip_code': '44105', 'country': 'US', 'state': 'OH', 'display_address': ['14115 Detroit Ave', 'Lakewood, OH 44105']}\n",
      "Urban Kitchen & Deli\n",
      "{'address1': '9751 Chester Ave', 'address2': '', 'address3': None, 'city': 'Cleveland', 'zip_code': '44106', 'country': 'US', 'state': 'OH', 'display_address': ['9751 Chester Ave', 'Cleveland, OH 44106']}\n",
      "Barrister's Deli\n",
      "{'address1': '1424 Hamilton Ave', 'address2': '', 'address3': '', 'city': 'Cleveland', 'zip_code': '44114', 'country': 'US', 'state': 'OH', 'display_address': ['1424 Hamilton Ave', 'Cleveland, OH 44114']}\n",
      "Boney Fingers BBQ\n",
      "{'address1': '1800 Euclid Ave', 'address2': 'Ste 3', 'address3': '', 'city': 'Cleveland', 'zip_code': '44115', 'country': 'US', 'state': 'OH', 'display_address': ['1800 Euclid Ave', 'Ste 3', 'Cleveland, OH 44115']}\n",
      "Swensons Drive-In\n",
      "{'address1': '14510 Cedar Rd', 'address2': '', 'address3': None, 'city': 'Cleveland', 'zip_code': '44122', 'country': 'US', 'state': 'OH', 'display_address': ['14510 Cedar Rd', 'Cleveland, OH 44122']}\n",
      "Rally's\n",
      "{'address1': '3502 Clark Ave', 'address2': None, 'address3': None, 'city': 'Cleveland', 'zip_code': '44113', 'country': 'US', 'state': 'OH', 'display_address': ['3502 Clark Ave', 'Cleveland, OH 44113']}\n",
      "Wendy's\n",
      "{'address1': '2937 Lorain Rd.', 'address2': '', 'address3': '', 'city': 'Cleveland', 'zip_code': '44113', 'country': 'US', 'state': 'OH', 'display_address': ['2937 Lorain Rd.', 'Cleveland, OH 44113']}\n",
      "Jake's\n",
      "{'address1': '140 Public Sq', 'address2': '', 'address3': '', 'city': 'Cleveland', 'zip_code': '44114', 'country': 'US', 'state': 'OH', 'display_address': ['140 Public Sq', 'Cleveland, OH 44114']}\n",
      "McDonald's\n",
      "{'address1': '1540 E 55th St', 'address2': '', 'address3': '', 'city': 'Cleveland', 'zip_code': '44103', 'country': 'US', 'state': 'OH', 'display_address': ['1540 E 55th St', 'Cleveland, OH 44103']}\n",
      "Five Guys\n",
      "{'address1': '3273 Steelyard Dr', 'address2': '', 'address3': '', 'city': 'Cleveland', 'zip_code': '44109', 'country': 'US', 'state': 'OH', 'display_address': ['3273 Steelyard Dr', 'Cleveland, OH 44109']}\n"
     ]
    }
   ],
   "source": [
    "for biz in business_data['businesses']:\n",
    "    print(biz['name']),print(biz['location'])"
   ]
  },
  {
   "cell_type": "code",
   "execution_count": null,
   "id": "b30fa18d",
   "metadata": {},
   "outputs": [],
   "source": []
  }
 ],
 "metadata": {
  "kernelspec": {
   "display_name": "Python 3 (ipykernel)",
   "language": "python",
   "name": "python3"
  },
  "language_info": {
   "codemirror_mode": {
    "name": "ipython",
    "version": 3
   },
   "file_extension": ".py",
   "mimetype": "text/x-python",
   "name": "python",
   "nbconvert_exporter": "python",
   "pygments_lexer": "ipython3",
   "version": "3.9.7"
  }
 },
 "nbformat": 4,
 "nbformat_minor": 5
}
