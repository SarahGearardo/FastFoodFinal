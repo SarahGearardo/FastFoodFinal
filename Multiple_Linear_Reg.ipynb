{
 "cells": [
  {
   "cell_type": "code",
   "execution_count": 1,
   "id": "dd35c801",
   "metadata": {},
   "outputs": [],
   "source": [
    "import pandas as pd\n",
    "from sklearn import linear_model\n",
    "import statsmodels.api as sm"
   ]
  },
  {
   "cell_type": "code",
   "execution_count": 11,
   "id": "3aaad18d",
   "metadata": {},
   "outputs": [],
   "source": [
    "# Read in the data\n",
    "df = pd.read_csv(\"Data_Extraction_&_Cleaning\\data\\\\five_types.csv\")"
   ]
  },
  {
   "cell_type": "code",
   "execution_count": 12,
   "id": "53fe67f2",
   "metadata": {},
   "outputs": [],
   "source": [
    "X = df[['burger_count','hotdog_count','mex_count', 'pizza_count', 'deli_count']].fillna(0) \n",
    "Y = df['median'].fillna(0)"
   ]
  },
  {
   "cell_type": "code",
   "execution_count": 13,
   "id": "c7d533ef",
   "metadata": {},
   "outputs": [
    {
     "name": "stdout",
     "output_type": "stream",
     "text": [
      "Intercept: \n",
      " 99471.28922250071\n",
      "Coefficients: \n",
      " [  -6.15185442 -279.59346361  439.47856563 4856.32475789 2968.74529408]\n"
     ]
    }
   ],
   "source": [
    "regr = linear_model.LinearRegression()\n",
    "regr.fit(X, Y)\n",
    "\n",
    "print('Intercept: \\n', regr.intercept_)\n",
    "print('Coefficients: \\n', regr.coef_)"
   ]
  },
  {
   "cell_type": "code",
   "execution_count": 14,
   "id": "e7830c48",
   "metadata": {},
   "outputs": [
    {
     "name": "stdout",
     "output_type": "stream",
     "text": [
      "                            OLS Regression Results                            \n",
      "==============================================================================\n",
      "Dep. Variable:                 median   R-squared:                       0.003\n",
      "Model:                            OLS   Adj. R-squared:                  0.001\n",
      "Method:                 Least Squares   F-statistic:                     1.674\n",
      "Date:                Wed, 01 Jun 2022   Prob (F-statistic):              0.137\n",
      "Time:                        12:03:06   Log-Likelihood:                -38485.\n",
      "No. Observations:                2994   AIC:                         7.698e+04\n",
      "Df Residuals:                    2988   BIC:                         7.702e+04\n",
      "Df Model:                           5                                         \n",
      "Covariance Type:            nonrobust                                         \n",
      "================================================================================\n",
      "                   coef    std err          t      P>|t|      [0.025      0.975]\n",
      "--------------------------------------------------------------------------------\n",
      "const         9.947e+04   2859.067     34.792      0.000    9.39e+04    1.05e+05\n",
      "burger_count    -6.1519   1570.834     -0.004      0.997   -3086.178    3073.874\n",
      "hotdog_count  -279.5935    918.653     -0.304      0.761   -2080.850    1521.663\n",
      "mex_count      439.4786   1094.565      0.402      0.688   -1706.698    2585.656\n",
      "pizza_count   4856.3248   2344.869      2.071      0.038     258.605    9454.045\n",
      "deli_count    2968.7453   1535.089      1.934      0.053     -41.193    5978.684\n",
      "==============================================================================\n",
      "Omnibus:                      600.680   Durbin-Watson:                   2.067\n",
      "Prob(Omnibus):                  0.000   Jarque-Bera (JB):             1025.055\n",
      "Skew:                           1.412   Prob(JB):                    2.58e-223\n",
      "Kurtosis:                       3.494   Cond. No.                         4.60\n",
      "==============================================================================\n",
      "\n",
      "Notes:\n",
      "[1] Standard Errors assume that the covariance matrix of the errors is correctly specified.\n"
     ]
    },
    {
     "name": "stderr",
     "output_type": "stream",
     "text": [
      "C:\\Users\\menon\\anaconda3\\envs\\PythonData\\envs\\mlenv\\lib\\site-packages\\statsmodels\\tsa\\tsatools.py:142: FutureWarning: In a future version of pandas all arguments of concat except for the argument 'objs' will be keyword-only\n",
      "  x = pd.concat(x[::order], 1)\n"
     ]
    }
   ],
   "source": [
    "# with statsmodels\n",
    "X = sm.add_constant(X) # adding a constant\n",
    " \n",
    "model = sm.OLS(Y, X).fit()\n",
    "predictions = model.predict(X) \n",
    " \n",
    "print_model = model.summary()\n",
    "print(print_model)"
   ]
  }
 ],
 "metadata": {
  "kernelspec": {
   "display_name": "mlenv",
   "language": "python",
   "name": "mlenv"
  },
  "language_info": {
   "codemirror_mode": {
    "name": "ipython",
    "version": 3
   },
   "file_extension": ".py",
   "mimetype": "text/x-python",
   "name": "python",
   "nbconvert_exporter": "python",
   "pygments_lexer": "ipython3",
   "version": "3.7.11"
  }
 },
 "nbformat": 4,
 "nbformat_minor": 5
}
