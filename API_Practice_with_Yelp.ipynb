{
 "cells": [
  {
   "cell_type": "code",
   "execution_count": 18,
   "id": "48ee9de4",
   "metadata": {},
   "outputs": [
    {
     "name": "stdout",
     "output_type": "stream",
     "text": [
      "{'error': {'code': 'VALIDATION_ERROR', 'description': 'Please specify a location or a latitude and longitude'}}\n"
     ]
    }
   ],
   "source": [
    "# Import the requests library.\n",
    "import requests\n",
    "\n",
    "# Import the API key.\n",
    "from config import Yelp_API_Key"
   ]
  },
  {
   "cell_type": "code",
   "execution_count": 32,
   "id": "dcc26c92",
   "metadata": {},
   "outputs": [
    {
     "name": "stdout",
     "output_type": "stream",
     "text": [
      "{'businesses': [{'id': 'zLtEXalAtgWpwON9BEvOJQ', 'alias': 'wendys-milwaukee-2', 'name': \"Wendy's\", 'image_url': 'https://s3-media3.fl.yelpcdn.com/bphoto/-gGuS6eZkPcs4ZQVrODlOw/o.jpg', 'is_closed': False, 'url': 'https://www.yelp.com/biz/wendys-milwaukee-2?adjust_creative=XzK19ZTiN3mgGdqg5oa27w&utm_campaign=yelp_api_v3&utm_medium=api_v3_business_search&utm_source=XzK19ZTiN3mgGdqg5oa27w', 'review_count': 6, 'categories': [{'alias': 'hotdogs', 'title': 'Fast Food'}, {'alias': 'burgers', 'title': 'Burgers'}], 'rating': 1.5, 'coordinates': {'latitude': 43.041811, 'longitude': -87.94744}, 'transactions': ['delivery'], 'price': '$', 'location': {'address1': '914 N. 27Th Street', 'address2': None, 'address3': None, 'city': 'Milwaukee', 'zip_code': '53208', 'country': 'US', 'state': 'WI', 'display_address': ['914 N. 27Th Street', 'Milwaukee, WI 53208']}, 'phone': '+14149339144', 'display_phone': '(414) 933-9144', 'distance': 630.3723675694844}, {'id': '4KpCV0okoVRvBJAlXCvD2A', 'alias': 'jj-fish-and-chicken-milwaukee', 'name': 'JJ Fish & Chicken', 'image_url': 'https://s3-media3.fl.yelpcdn.com/bphoto/_q4g9Ra7BLMqj2zXDhmLng/o.jpg', 'is_closed': False, 'url': 'https://www.yelp.com/biz/jj-fish-and-chicken-milwaukee?adjust_creative=XzK19ZTiN3mgGdqg5oa27w&utm_campaign=yelp_api_v3&utm_medium=api_v3_business_search&utm_source=XzK19ZTiN3mgGdqg5oa27w', 'review_count': 24, 'categories': [{'alias': 'chicken_wings', 'title': 'Chicken Wings'}, {'alias': 'hotdogs', 'title': 'Fast Food'}], 'rating': 3.5, 'coordinates': {'latitude': 43.0481033325195, 'longitude': -87.9573669433594}, 'transactions': ['delivery', 'pickup'], 'price': '$', 'location': {'address1': '1334 N 35th St', 'address2': None, 'address3': None, 'city': 'Milwaukee', 'zip_code': '53208', 'country': 'US', 'state': 'WI', 'display_address': ['1334 N 35th St', 'Milwaukee, WI 53208']}, 'phone': '+14149351000', 'display_phone': '(414) 935-1000', 'distance': 750.7491776097432}], 'total': 2, 'region': {'center': {'longitude': -87.95516967773438, 'latitude': 43.04160973514253}}}\n"
     ]
    }
   ],
   "source": [
    "# Define the API key, Endpoint, and Header\n",
    "API_KEY = Yelp_API_Key\n",
    "ENDPOINT = 'https://api.yelp.com/v3/businesses/search'\n",
    "HEADERS = {'Authorization':'bearer %s' % API_KEY}\n",
    "\n",
    "# Define the parameters of the query\n",
    "PARAMETERS = {'term': 'fast food',\n",
    "              'limit': 50,\n",
    "              'radius': 1000,\n",
    "              'location': 'Milwaukee'}\n",
    "\n",
    "# Make a request to the Yelp API\n",
    "response = requests.get(url = ENDPOINT, params = PARAMETERS, headers = HEADERS)\n",
    "\n",
    "# convert JSON string to a dictionary\n",
    "business_data = response.json()\n",
    "\n",
    "print(business_data)"
   ]
  },
  {
   "cell_type": "code",
   "execution_count": null,
   "id": "6bd528ad",
   "metadata": {},
   "outputs": [],
   "source": []
  },
  {
   "cell_type": "code",
   "execution_count": null,
   "id": "db87d721",
   "metadata": {},
   "outputs": [],
   "source": [
    "\n",
    "    "
   ]
  },
  {
   "cell_type": "code",
   "execution_count": 33,
   "id": "9b35b0be",
   "metadata": {},
   "outputs": [
    {
     "name": "stdout",
     "output_type": "stream",
     "text": [
      "dict_keys(['businesses', 'total', 'region'])\n"
     ]
    }
   ],
   "source": [
    "print(business_data.keys())"
   ]
  },
  {
   "cell_type": "code",
   "execution_count": 34,
   "id": "93755885",
   "metadata": {},
   "outputs": [
    {
     "name": "stdout",
     "output_type": "stream",
     "text": [
      "{'address1': '914 N. 27Th Street', 'address2': None, 'address3': None, 'city': 'Milwaukee', 'zip_code': '53208', 'country': 'US', 'state': 'WI', 'display_address': ['914 N. 27Th Street', 'Milwaukee, WI 53208']}\n",
      "{'address1': '1334 N 35th St', 'address2': None, 'address3': None, 'city': 'Milwaukee', 'zip_code': '53208', 'country': 'US', 'state': 'WI', 'display_address': ['1334 N 35th St', 'Milwaukee, WI 53208']}\n"
     ]
    }
   ],
   "source": [
    "for biz in business_data['businesses']:\n",
    "    print(biz['location'])"
   ]
  },
  {
   "cell_type": "code",
   "execution_count": null,
   "id": "b2fdf590",
   "metadata": {},
   "outputs": [],
   "source": []
  }
 ],
 "metadata": {
  "kernelspec": {
   "display_name": "Python 3 (ipykernel)",
   "language": "python",
   "name": "python3"
  },
  "language_info": {
   "codemirror_mode": {
    "name": "ipython",
    "version": 3
   },
   "file_extension": ".py",
   "mimetype": "text/x-python",
   "name": "python",
   "nbconvert_exporter": "python",
   "pygments_lexer": "ipython3",
   "version": "3.7.11"
  }
 },
 "nbformat": 4,
 "nbformat_minor": 5
}
