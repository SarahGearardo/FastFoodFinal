{
 "cells": [
  {
   "cell_type": "code",
   "execution_count": 1,
   "id": "48ee9de4",
   "metadata": {},
   "outputs": [],
   "source": [
    "# Import the requests library.\n",
    "import requests\n",
    "import pandas as pd\n",
    "\n",
    "# Import the API key.\n",
    "from config import Yelp_API_Key"
   ]
  },
  {
   "cell_type": "code",
   "execution_count": 35,
   "id": "dcc26c92",
   "metadata": {},
   "outputs": [
    {
     "name": "stdout",
     "output_type": "stream",
     "text": [
      "{'businesses': [{'id': 'hqePmfhjxFpPj_Wyjosm_g', 'alias': 'viet-nom-noms-bellaire', 'name': 'Viet Nom Noms', 'image_url': 'https://s3-media2.fl.yelpcdn.com/bphoto/n9-WRfolb5i7C6QF7pg8NQ/o.jpg', 'is_closed': False, 'url': 'https://www.yelp.com/biz/viet-nom-noms-bellaire?adjust_creative=XzK19ZTiN3mgGdqg5oa27w&utm_campaign=yelp_api_v3&utm_medium=api_v3_business_search&utm_source=XzK19ZTiN3mgGdqg5oa27w', 'review_count': 175, 'categories': [{'alias': 'vietnamese', 'title': 'Vietnamese'}, {'alias': 'sandwiches', 'title': 'Sandwiches'}], 'rating': 4.0, 'coordinates': {'latitude': 29.7051133747974, 'longitude': -95.4711166396737}, 'transactions': ['pickup', 'delivery'], 'price': '$', 'location': {'address1': '5221 Bellaire Blvd', 'address2': '', 'address3': None, 'city': 'Bellaire', 'zip_code': '77401', 'country': 'US', 'state': 'TX', 'display_address': ['5221 Bellaire Blvd', 'Bellaire, TX 77401']}, 'phone': '+18325825056', 'display_phone': '(832) 582-5056', 'distance': 3592.9217898599536}, {'id': 'zEhxBvcwyYKUgX05L1iLjg', 'alias': 'jollibee-houston', 'name': 'Jollibee', 'image_url': 'https://s3-media1.fl.yelpcdn.com/bphoto/peoRLW10vyTLTDd-3qgaGw/o.jpg', 'is_closed': False, 'url': 'https://www.yelp.com/biz/jollibee-houston?adjust_creative=XzK19ZTiN3mgGdqg5oa27w&utm_campaign=yelp_api_v3&utm_medium=api_v3_business_search&utm_source=XzK19ZTiN3mgGdqg5oa27w', 'review_count': 620, 'categories': [{'alias': 'hotdogs', 'title': 'Fast Food'}, {'alias': 'chickenshop', 'title': 'Chicken Shop'}], 'rating': 3.5, 'coordinates': {'latitude': 29.69340225027342, 'longitude': -95.4146390797449}, 'transactions': ['delivery'], 'price': '$', 'location': {'address1': '8001 S Main St', 'address2': 'Ste 100', 'address3': '', 'city': 'Houston', 'zip_code': '77025', 'country': 'US', 'state': 'TX', 'display_address': ['8001 S Main St', 'Ste 100', 'Houston, TX 77025']}, 'phone': '+17136658914', 'display_phone': '(713) 665-8914', 'distance': 6547.854461954885}, {'id': 'QR_G6ctvDYGHy2zn5wtpEA', 'alias': 'raising-canes-chicken-fingers-houston-20', 'name': \"Raising Cane's Chicken Fingers\", 'image_url': 'https://s3-media2.fl.yelpcdn.com/bphoto/w02HqOzNIxDmlVTcSKOCMw/o.jpg', 'is_closed': False, 'url': 'https://www.yelp.com/biz/raising-canes-chicken-fingers-houston-20?adjust_creative=XzK19ZTiN3mgGdqg5oa27w&utm_campaign=yelp_api_v3&utm_medium=api_v3_business_search&utm_source=XzK19ZTiN3mgGdqg5oa27w', 'review_count': 59, 'categories': [{'alias': 'hotdogs', 'title': 'Fast Food'}], 'rating': 3.5, 'coordinates': {'latitude': 29.6811526, 'longitude': -95.425221}, 'transactions': ['delivery'], 'price': '$', 'location': {'address1': '9530 Main St', 'address2': None, 'address3': None, 'city': 'Houston', 'zip_code': '77025', 'country': 'US', 'state': 'TX', 'display_address': ['9530 Main St', 'Houston, TX 77025']}, 'phone': '+17136667718', 'display_phone': '(713) 666-7718', 'distance': 5197.05194072558}, {'id': 'orXZMTxjMBOqwcvoXdhelQ', 'alias': 'chick-fil-a-houston-37', 'name': 'Chick-fil-A', 'image_url': 'https://s3-media2.fl.yelpcdn.com/bphoto/kpFgoLXc1Hnm1OqN5Up4lA/o.jpg', 'is_closed': False, 'url': 'https://www.yelp.com/biz/chick-fil-a-houston-37?adjust_creative=XzK19ZTiN3mgGdqg5oa27w&utm_campaign=yelp_api_v3&utm_medium=api_v3_business_search&utm_source=XzK19ZTiN3mgGdqg5oa27w', 'review_count': 129, 'categories': [{'alias': 'hotdogs', 'title': 'Fast Food'}, {'alias': 'chickenshop', 'title': 'Chicken Shop'}], 'rating': 3.0, 'coordinates': {'latitude': 29.6888024, 'longitude': -95.465121}, 'transactions': ['delivery'], 'price': '$', 'location': {'address1': '5001 Beechnut St', 'address2': None, 'address3': '', 'city': 'Houston', 'zip_code': '77096', 'country': 'US', 'state': 'TX', 'display_address': ['5001 Beechnut St', 'Houston, TX 77096']}, 'phone': '+17138397700', 'display_phone': '(713) 839-7700', 'distance': 2137.479843288966}, {'id': 'aPQV9HXInCq_Miqv9wGfLA', 'alias': 'annies-hamburgers-houston', 'name': \"Annie's Hamburgers\", 'image_url': 'https://s3-media3.fl.yelpcdn.com/bphoto/lLe70v8zyKvsfe6STqURaw/o.jpg', 'is_closed': False, 'url': 'https://www.yelp.com/biz/annies-hamburgers-houston?adjust_creative=XzK19ZTiN3mgGdqg5oa27w&utm_campaign=yelp_api_v3&utm_medium=api_v3_business_search&utm_source=XzK19ZTiN3mgGdqg5oa27w', 'review_count': 151, 'categories': [{'alias': 'burgers', 'title': 'Burgers'}, {'alias': 'breakfast_brunch', 'title': 'Breakfast & Brunch'}], 'rating': 4.0, 'coordinates': {'latitude': 29.6630107, 'longitude': -95.4638011}, 'transactions': ['delivery'], 'price': '$', 'location': {'address1': '10821 S Post Oak Rd', 'address2': '', 'address3': '', 'city': 'Houston', 'zip_code': '77035', 'country': 'US', 'state': 'TX', 'display_address': ['10821 S Post Oak Rd', 'Houston, TX 77035']}, 'phone': '+17137299861', 'display_phone': '(713) 729-9861', 'distance': 1837.3233568710095}, {'id': 'K3iT9-l69JzAqvDcgSbVlw', 'alias': 'shake-shack-houston-6', 'name': 'Shake Shack', 'image_url': 'https://s3-media3.fl.yelpcdn.com/bphoto/SnGKNv4htb-G7BjGnSnanw/o.jpg', 'is_closed': False, 'url': 'https://www.yelp.com/biz/shake-shack-houston-6?adjust_creative=XzK19ZTiN3mgGdqg5oa27w&utm_campaign=yelp_api_v3&utm_medium=api_v3_business_search&utm_source=XzK19ZTiN3mgGdqg5oa27w', 'review_count': 317, 'categories': [{'alias': 'burgers', 'title': 'Burgers'}, {'alias': 'icecream', 'title': 'Ice Cream & Frozen Yogurt'}, {'alias': 'hotdog', 'title': 'Hot Dogs'}], 'rating': 3.5, 'coordinates': {'latitude': 29.7156618, 'longitude': -95.4182541}, 'transactions': ['pickup', 'delivery'], 'price': '$$', 'location': {'address1': '6205 Kirby Dr', 'address2': '', 'address3': None, 'city': 'Houston', 'zip_code': '77005', 'country': 'US', 'state': 'TX', 'display_address': ['6205 Kirby Dr', 'Houston, TX 77005']}, 'phone': '+13469982820', 'display_phone': '(346) 998-2820', 'distance': 7495.178390712219}, {'id': 'PIIZN_e4dGQevlh0FdwIcg', 'alias': 'main-bird-hot-chicken-houston-houston', 'name': 'Main Bird Hot Chicken - Houston', 'image_url': 'https://s3-media2.fl.yelpcdn.com/bphoto/WEvHOEsOAA8GjH3xB5XI0g/o.jpg', 'is_closed': False, 'url': 'https://www.yelp.com/biz/main-bird-hot-chicken-houston-houston?adjust_creative=XzK19ZTiN3mgGdqg5oa27w&utm_campaign=yelp_api_v3&utm_medium=api_v3_business_search&utm_source=XzK19ZTiN3mgGdqg5oa27w', 'review_count': 232, 'categories': [{'alias': 'chickenshop', 'title': 'Chicken Shop'}, {'alias': 'foodtrucks', 'title': 'Food Trucks'}, {'alias': 'sandwiches', 'title': 'Sandwiches'}], 'rating': 4.0, 'coordinates': {'latitude': 29.742434, 'longitude': -95.403258}, 'transactions': ['pickup', 'delivery'], 'location': {'address1': '1731 Westheimer Rd', 'address2': '', 'address3': None, 'city': 'Houston', 'zip_code': '77098', 'country': 'US', 'state': 'TX', 'display_address': ['1731 Westheimer Rd', 'Houston, TX 77098']}, 'phone': '+17137398898', 'display_phone': '(713) 739-8898', 'distance': 10561.556566585354}, {'id': 'AIrP31QEPQ24n3Wak9TZNQ', 'alias': 'liberty-taco-houston-2', 'name': 'Liberty Taco', 'image_url': 'https://s3-media2.fl.yelpcdn.com/bphoto/fQ8xRsbBKrG82dTK5SLQKA/o.jpg', 'is_closed': False, 'url': 'https://www.yelp.com/biz/liberty-taco-houston-2?adjust_creative=XzK19ZTiN3mgGdqg5oa27w&utm_campaign=yelp_api_v3&utm_medium=api_v3_business_search&utm_source=XzK19ZTiN3mgGdqg5oa27w', 'review_count': 765, 'categories': [{'alias': 'tacos', 'title': 'Tacos'}, {'alias': 'breakfast_brunch', 'title': 'Breakfast & Brunch'}], 'rating': 4.5, 'coordinates': {'latitude': 29.7325893491507, 'longitude': -95.4560000449419}, 'transactions': ['pickup', 'delivery'], 'price': '$', 'location': {'address1': '4703 Richmond Ave', 'address2': 'Ste A', 'address3': None, 'city': 'Houston', 'zip_code': '77027', 'country': 'US', 'state': 'TX', 'display_address': ['4703 Richmond Ave', 'Ste A', 'Houston, TX 77027']}, 'phone': '+17132390881', 'display_phone': '(713) 239-0881', 'distance': 6925.185044906051}, {'id': '24CtuevOqpbyAaXjrZLq1A', 'alias': 'roostar-vietnamese-grill-houston-3', 'name': 'Roostar Vietnamese Grill', 'image_url': 'https://s3-media3.fl.yelpcdn.com/bphoto/8FeToG5vI9YC5xzTzeFCbA/o.jpg', 'is_closed': False, 'url': 'https://www.yelp.com/biz/roostar-vietnamese-grill-houston-3?adjust_creative=XzK19ZTiN3mgGdqg5oa27w&utm_campaign=yelp_api_v3&utm_medium=api_v3_business_search&utm_source=XzK19ZTiN3mgGdqg5oa27w', 'review_count': 964, 'categories': [{'alias': 'vietnamese', 'title': 'Vietnamese'}, {'alias': 'sandwiches', 'title': 'Sandwiches'}, {'alias': 'vegetarian', 'title': 'Vegetarian'}], 'rating': 4.5, 'coordinates': {'latitude': 29.7313251, 'longitude': -95.4753633}, 'transactions': ['pickup', 'delivery'], 'price': '$', 'location': {'address1': '5551 Richmond Ave', 'address2': None, 'address3': '', 'city': 'Houston', 'zip_code': '77056', 'country': 'US', 'state': 'TX', 'display_address': ['5551 Richmond Ave', 'Houston, TX 77056']}, 'phone': '+18327673319', 'display_phone': '(832) 767-3319', 'distance': 6439.386615428681}, {'id': 'gDsRSi9MsboHbRMd-lHa4Q', 'alias': 'bellaire-broiler-burger-bellaire', 'name': 'Bellaire Broiler Burger', 'image_url': 'https://s3-media1.fl.yelpcdn.com/bphoto/D0w_YZOvEIwDqSGNPSXmsQ/o.jpg', 'is_closed': False, 'url': 'https://www.yelp.com/biz/bellaire-broiler-burger-bellaire?adjust_creative=XzK19ZTiN3mgGdqg5oa27w&utm_campaign=yelp_api_v3&utm_medium=api_v3_business_search&utm_source=XzK19ZTiN3mgGdqg5oa27w', 'review_count': 247, 'categories': [{'alias': 'burgers', 'title': 'Burgers'}], 'rating': 4.0, 'coordinates': {'latitude': 29.70624, 'longitude': -95.47186}, 'transactions': ['delivery'], 'price': '$', 'location': {'address1': '5216 Bellaire Blvd', 'address2': '', 'address3': '', 'city': 'Bellaire', 'zip_code': '77401', 'country': 'US', 'state': 'TX', 'display_address': ['5216 Bellaire Blvd', 'Bellaire, TX 77401']}, 'phone': '+17136688171', 'display_phone': '(713) 668-8171', 'distance': 3698.580743536012}, {'id': '8VYj0kuUnzRtcC7bvRb_Lg', 'alias': 'sleepys-po-boys-houston', 'name': \"Sleepy's Po-Boys\", 'image_url': 'https://s3-media2.fl.yelpcdn.com/bphoto/r6iAswIw6FzdiWtp-CGzrA/o.jpg', 'is_closed': False, 'url': 'https://www.yelp.com/biz/sleepys-po-boys-houston?adjust_creative=XzK19ZTiN3mgGdqg5oa27w&utm_campaign=yelp_api_v3&utm_medium=api_v3_business_search&utm_source=XzK19ZTiN3mgGdqg5oa27w', 'review_count': 408, 'categories': [{'alias': 'cajun', 'title': 'Cajun/Creole'}, {'alias': 'sandwiches', 'title': 'Sandwiches'}, {'alias': 'fishnchips', 'title': 'Fish & Chips'}], 'rating': 4.0, 'coordinates': {'latitude': 29.679671, 'longitude': -95.42486}, 'transactions': ['delivery'], 'price': '$$', 'location': {'address1': '9591 S Main St', 'address2': None, 'address3': '', 'city': 'Houston', 'zip_code': '77025', 'country': 'US', 'state': 'TX', 'display_address': ['9591 S Main St', 'Houston, TX 77025']}, 'phone': '+17136623054', 'display_phone': '(713) 662-3054', 'distance': 5218.9920243765655}, {'id': 'oRXcnQb_AQ4DOhN2DdI6lw', 'alias': 'popeyes-louisiana-kitchen-houston-42', 'name': 'Popeyes Louisiana Kitchen', 'image_url': 'https://s3-media2.fl.yelpcdn.com/bphoto/2vnZ8rEeUwPO5hIJ6ddqIA/o.jpg', 'is_closed': False, 'url': 'https://www.yelp.com/biz/popeyes-louisiana-kitchen-houston-42?adjust_creative=XzK19ZTiN3mgGdqg5oa27w&utm_campaign=yelp_api_v3&utm_medium=api_v3_business_search&utm_source=XzK19ZTiN3mgGdqg5oa27w', 'review_count': 28, 'categories': [{'alias': 'hotdogs', 'title': 'Fast Food'}, {'alias': 'chicken_wings', 'title': 'Chicken Wings'}], 'rating': 2.0, 'coordinates': {'latitude': 29.664714, 'longitude': -95.463181}, 'transactions': ['pickup', 'delivery'], 'price': '$', 'location': {'address1': '4862 Willowbend Blvd', 'address2': '', 'address3': '', 'city': 'Houston', 'zip_code': '77035', 'country': 'US', 'state': 'TX', 'display_address': ['4862 Willowbend Blvd', 'Houston, TX 77035']}, 'phone': '+17137213228', 'display_phone': '(713) 721-3228', 'distance': 1761.006362946852}, {'id': 'FyjgnUGKCbL7T13thWEPcA', 'alias': 'calliopes-houston-3', 'name': \"Calliope's\", 'image_url': 'https://s3-media1.fl.yelpcdn.com/bphoto/qexRd-XgRESN8BQm4fKI1A/o.jpg', 'is_closed': False, 'url': 'https://www.yelp.com/biz/calliopes-houston-3?adjust_creative=XzK19ZTiN3mgGdqg5oa27w&utm_campaign=yelp_api_v3&utm_medium=api_v3_business_search&utm_source=XzK19ZTiN3mgGdqg5oa27w', 'review_count': 243, 'categories': [{'alias': 'cajun', 'title': 'Cajun/Creole'}, {'alias': 'seafood', 'title': 'Seafood'}, {'alias': 'chicken_wings', 'title': 'Chicken Wings'}], 'rating': 4.0, 'coordinates': {'latitude': 29.656398178317943, 'longitude': -95.51063126683388}, 'transactions': ['pickup', 'delivery'], 'price': '$$', 'location': {'address1': '7590 W Bellfort Ave', 'address2': None, 'address3': '', 'city': 'Houston', 'zip_code': '77071', 'country': 'US', 'state': 'TX', 'display_address': ['7590 W Bellfort Ave', 'Houston, TX 77071']}, 'phone': '+17137732099', 'display_phone': '(713) 773-2099', 'distance': 3644.6011387841586}, {'id': 'vWK3rvEwImNfWvpWLyPiIw', 'alias': 'taco-cabana-houston-12', 'name': 'Taco Cabana', 'image_url': 'https://s3-media3.fl.yelpcdn.com/bphoto/eraB1hQDT_0STgFFRsuuCw/o.jpg', 'is_closed': False, 'url': 'https://www.yelp.com/biz/taco-cabana-houston-12?adjust_creative=XzK19ZTiN3mgGdqg5oa27w&utm_campaign=yelp_api_v3&utm_medium=api_v3_business_search&utm_source=XzK19ZTiN3mgGdqg5oa27w', 'review_count': 62, 'categories': [{'alias': 'mexican', 'title': 'Mexican'}], 'rating': 2.0, 'coordinates': {'latitude': 29.67016, 'longitude': -95.4626}, 'transactions': ['pickup', 'delivery'], 'price': '$', 'location': {'address1': '4903 W. Bellfort St.', 'address2': '', 'address3': '', 'city': 'Houston', 'zip_code': '77035', 'country': 'US', 'state': 'TX', 'display_address': ['4903 W. Bellfort St.', 'Houston, TX 77035']}, 'phone': '+17137210293', 'display_phone': '(713) 721-0293', 'distance': 1572.7222848564154}, {'id': '7undbaqRYe4TL3zeQpU_7A', 'alias': 'tacos-la-bala-houston-3', 'name': 'Tacos La Bala', 'image_url': 'https://s3-media2.fl.yelpcdn.com/bphoto/7BJK59QSkvUcf-V9eJYybQ/o.jpg', 'is_closed': False, 'url': 'https://www.yelp.com/biz/tacos-la-bala-houston-3?adjust_creative=XzK19ZTiN3mgGdqg5oa27w&utm_campaign=yelp_api_v3&utm_medium=api_v3_business_search&utm_source=XzK19ZTiN3mgGdqg5oa27w', 'review_count': 404, 'categories': [{'alias': 'mexican', 'title': 'Mexican'}], 'rating': 4.0, 'coordinates': {'latitude': 29.705921, 'longitude': -95.484284}, 'transactions': ['pickup', 'delivery'], 'price': '$', 'location': {'address1': '5800 Bellaire Blvd', 'address2': None, 'address3': None, 'city': 'Houston', 'zip_code': '77081', 'country': 'US', 'state': 'TX', 'display_address': ['5800 Bellaire Blvd', 'Houston, TX 77081']}, 'phone': '+17138398226', 'display_phone': '(713) 839-8226', 'distance': 3657.5596751683033}, {'id': '9yh5-fjcFrwaOPad_VFndQ', 'alias': 'firehouse-subs-meyerland', 'name': 'Firehouse Subs', 'image_url': 'https://s3-media1.fl.yelpcdn.com/bphoto/KMb85BQyh399vIYtPYpqBQ/o.jpg', 'is_closed': False, 'url': 'https://www.yelp.com/biz/firehouse-subs-meyerland?adjust_creative=XzK19ZTiN3mgGdqg5oa27w&utm_campaign=yelp_api_v3&utm_medium=api_v3_business_search&utm_source=XzK19ZTiN3mgGdqg5oa27w', 'review_count': 39, 'categories': [{'alias': 'sandwiches', 'title': 'Sandwiches'}, {'alias': 'hotdogs', 'title': 'Fast Food'}, {'alias': 'delis', 'title': 'Delis'}], 'rating': 3.5, 'coordinates': {'latitude': 29.685153, 'longitude': -95.468086}, 'transactions': ['pickup', 'delivery'], 'price': '$', 'location': {'address1': '170 Meyerland Plz', 'address2': '', 'address3': '', 'city': 'Meyerland', 'zip_code': '77096', 'country': 'US', 'state': 'TX', 'display_address': ['170 Meyerland Plz', 'Meyerland, TX 77096']}, 'phone': '+17136607827', 'display_phone': '(713) 660-7827', 'distance': 1641.0617494258113}, {'id': 'yum-XMC6QM1dM4Z9PXt0MA', 'alias': 'little-matts-houston-2', 'name': \"Little Matt's\", 'image_url': 'https://s3-media2.fl.yelpcdn.com/bphoto/p9uzHKDgEAYbbOg__bJCtw/o.jpg', 'is_closed': False, 'url': 'https://www.yelp.com/biz/little-matts-houston-2?adjust_creative=XzK19ZTiN3mgGdqg5oa27w&utm_campaign=yelp_api_v3&utm_medium=api_v3_business_search&utm_source=XzK19ZTiN3mgGdqg5oa27w', 'review_count': 617, 'categories': [{'alias': 'burgers', 'title': 'Burgers'}, {'alias': 'sandwiches', 'title': 'Sandwiches'}, {'alias': 'salad', 'title': 'Salad'}], 'rating': 4.5, 'coordinates': {'latitude': 29.71587, 'longitude': -95.43353}, 'transactions': ['delivery'], 'price': '$$', 'location': {'address1': '6203 Edloe St', 'address2': '', 'address3': '', 'city': 'Houston', 'zip_code': '77005', 'country': 'US', 'state': 'TX', 'display_address': ['6203 Edloe St', 'Houston, TX 77005']}, 'phone': '+17135926200', 'display_phone': '(713) 592-6200', 'distance': 6413.003843933064}, {'id': 'AHnwzRD14atvsFKgpynvwg', 'alias': 'q-wings-seafood-and-boba-houston-2', 'name': 'Q Wings Seafood  & Boba', 'image_url': 'https://s3-media1.fl.yelpcdn.com/bphoto/H_jTCYE0RpSPvzE_5RFeEw/o.jpg', 'is_closed': False, 'url': 'https://www.yelp.com/biz/q-wings-seafood-and-boba-houston-2?adjust_creative=XzK19ZTiN3mgGdqg5oa27w&utm_campaign=yelp_api_v3&utm_medium=api_v3_business_search&utm_source=XzK19ZTiN3mgGdqg5oa27w', 'review_count': 33, 'categories': [{'alias': 'chicken_wings', 'title': 'Chicken Wings'}, {'alias': 'seafood', 'title': 'Seafood'}, {'alias': 'bubbletea', 'title': 'Bubble Tea'}], 'rating': 4.5, 'coordinates': {'latitude': 29.68980079719347, 'longitude': -95.5014776673462}, 'transactions': [], 'location': {'address1': '6715 Bissonnet St', 'address2': 'Ste 500', 'address3': '', 'city': 'Houston', 'zip_code': '77074', 'country': 'US', 'state': 'TX', 'display_address': ['6715 Bissonnet St', 'Ste 500', 'Houston, TX 77074']}, 'phone': '+13462265863', 'display_phone': '(346) 226-5863', 'distance': 2878.2990149281463}, {'id': 'uz2OUI0fIJBRrFnfLUPWuQ', 'alias': 'yoyos-hot-dog-houston-14', 'name': \"Yoyo's Hot Dog\", 'image_url': 'https://s3-media3.fl.yelpcdn.com/bphoto/TfX64197gXczdC48ccTj0A/o.jpg', 'is_closed': False, 'url': 'https://www.yelp.com/biz/yoyos-hot-dog-houston-14?adjust_creative=XzK19ZTiN3mgGdqg5oa27w&utm_campaign=yelp_api_v3&utm_medium=api_v3_business_search&utm_source=XzK19ZTiN3mgGdqg5oa27w', 'review_count': 953, 'categories': [{'alias': 'hotdog', 'title': 'Hot Dogs'}, {'alias': 'foodstands', 'title': 'Food Stands'}], 'rating': 4.5, 'coordinates': {'latitude': 29.716274, 'longitude': -95.416908}, 'transactions': ['delivery'], 'price': '$', 'location': {'address1': '2504 Amherst St', 'address2': None, 'address3': '', 'city': 'Houston', 'zip_code': '77005', 'country': 'US', 'state': 'TX', 'display_address': ['2504 Amherst St', 'Houston, TX 77005']}, 'phone': '+17138396207', 'display_phone': '(713) 839-6207', 'distance': 7614.446599393699}, {'id': 'AT-OVlZqm_uG7g4ZNOWxDg', 'alias': 'whataburger-houston-36', 'name': 'Whataburger', 'image_url': 'https://s3-media2.fl.yelpcdn.com/bphoto/V03uD-RvQNwfE9V_ARIxhA/o.jpg', 'is_closed': False, 'url': 'https://www.yelp.com/biz/whataburger-houston-36?adjust_creative=XzK19ZTiN3mgGdqg5oa27w&utm_campaign=yelp_api_v3&utm_medium=api_v3_business_search&utm_source=XzK19ZTiN3mgGdqg5oa27w', 'review_count': 45, 'categories': [{'alias': 'burgers', 'title': 'Burgers'}, {'alias': 'hotdogs', 'title': 'Fast Food'}], 'rating': 2.0, 'coordinates': {'latitude': 29.66909244699272, 'longitude': -95.46298076511897}, 'transactions': ['delivery'], 'price': '$', 'location': {'address1': '10310 S Post Oak Rd', 'address2': '', 'address3': '', 'city': 'Houston', 'zip_code': '77035', 'country': 'US', 'state': 'TX', 'display_address': ['10310 S Post Oak Rd', 'Houston, TX 77035']}, 'phone': '+17137260031', 'display_phone': '(713) 726-0031', 'distance': 1565.8715968988768}, {'id': 'KQ1TCRXlkI28CQqx_nUdlw', 'alias': 'bubbas-texas-burger-shack-houston', 'name': \"Bubba's Texas Burger Shack\", 'image_url': 'https://s3-media3.fl.yelpcdn.com/bphoto/ADeHO8CB0sG6z6OvydnJdw/o.jpg', 'is_closed': False, 'url': 'https://www.yelp.com/biz/bubbas-texas-burger-shack-houston?adjust_creative=XzK19ZTiN3mgGdqg5oa27w&utm_campaign=yelp_api_v3&utm_medium=api_v3_business_search&utm_source=XzK19ZTiN3mgGdqg5oa27w', 'review_count': 802, 'categories': [{'alias': 'burgers', 'title': 'Burgers'}], 'rating': 4.0, 'coordinates': {'latitude': 29.7259695179953, 'longitude': -95.4668481174935}, 'transactions': ['delivery'], 'price': '$', 'location': {'address1': '5230 Westpark Dr', 'address2': '', 'address3': '', 'city': 'Houston', 'zip_code': '77056', 'country': 'US', 'state': 'TX', 'display_address': ['5230 Westpark Dr', 'Houston, TX 77056']}, 'phone': '+17136611622', 'display_phone': '(713) 661-1622', 'distance': 5948.046482149605}, {'id': 'V9MnldxOlbaBHBL_ufmzHQ', 'alias': 'jack-in-the-box-houston-88', 'name': 'Jack in the Box', 'image_url': 'https://s3-media2.fl.yelpcdn.com/bphoto/00Q8FNQ4HEayBnGNKPWpYQ/o.jpg', 'is_closed': False, 'url': 'https://www.yelp.com/biz/jack-in-the-box-houston-88?adjust_creative=XzK19ZTiN3mgGdqg5oa27w&utm_campaign=yelp_api_v3&utm_medium=api_v3_business_search&utm_source=XzK19ZTiN3mgGdqg5oa27w', 'review_count': 23, 'categories': [{'alias': 'hotdogs', 'title': 'Fast Food'}, {'alias': 'burgers', 'title': 'Burgers'}, {'alias': 'tacos', 'title': 'Tacos'}], 'rating': 3.0, 'coordinates': {'latitude': 29.670970292715687, 'longitude': -95.46278670430183}, 'transactions': ['delivery'], 'price': '$', 'location': {'address1': '4920 W Bellfort St', 'address2': '', 'address3': '', 'city': 'Houston', 'zip_code': '77035', 'country': 'US', 'state': 'TX', 'display_address': ['4920 W Bellfort St', 'Houston, TX 77035']}, 'phone': '+17137285856', 'display_phone': '(713) 728-5856', 'distance': 1533.114735422398}, {'id': 'Z1qi8L5sNxZmzc_47_D-_w', 'alias': 'the-burger-joint-houston-10', 'name': 'The Burger Joint', 'image_url': 'https://s3-media1.fl.yelpcdn.com/bphoto/xt_dS8N8qKk4xLPAqDz4vg/o.jpg', 'is_closed': False, 'url': 'https://www.yelp.com/biz/the-burger-joint-houston-10?adjust_creative=XzK19ZTiN3mgGdqg5oa27w&utm_campaign=yelp_api_v3&utm_medium=api_v3_business_search&utm_source=XzK19ZTiN3mgGdqg5oa27w', 'review_count': 1402, 'categories': [{'alias': 'burgers', 'title': 'Burgers'}, {'alias': 'hotdog', 'title': 'Hot Dogs'}, {'alias': 'sandwiches', 'title': 'Sandwiches'}], 'rating': 4.0, 'coordinates': {'latitude': 29.74533, 'longitude': -95.39118}, 'transactions': ['pickup', 'delivery'], 'price': '$$', 'location': {'address1': '2703 Montrose Blvd', 'address2': '', 'address3': '', 'city': 'Houston', 'zip_code': '77006', 'country': 'US', 'state': 'TX', 'display_address': ['2703 Montrose Blvd', 'Houston, TX 77006']}, 'phone': '+12819742889', 'display_phone': '(281) 974-2889', 'distance': 11619.147209141796}, {'id': '-14r0b71o8tG2tdkTgd9Uw', 'alias': 'busy-boy-sandwiches-houston', 'name': 'Busy Boy Sandwiches', 'image_url': 'https://s3-media3.fl.yelpcdn.com/bphoto/J3WDf2fkKLhdRmdHe7hSvw/o.jpg', 'is_closed': False, 'url': 'https://www.yelp.com/biz/busy-boy-sandwiches-houston?adjust_creative=XzK19ZTiN3mgGdqg5oa27w&utm_campaign=yelp_api_v3&utm_medium=api_v3_business_search&utm_source=XzK19ZTiN3mgGdqg5oa27w', 'review_count': 215, 'categories': [{'alias': 'sandwiches', 'title': 'Sandwiches'}, {'alias': 'mediterranean', 'title': 'Mediterranean'}, {'alias': 'halal', 'title': 'Halal'}], 'rating': 4.5, 'coordinates': {'latitude': 29.720667326492386, 'longitude': -95.50141109127688}, 'transactions': ['delivery'], 'price': '$', 'location': {'address1': '5722 Hillcroft St', 'address2': '', 'address3': '', 'city': 'Houston', 'zip_code': '77036', 'country': 'US', 'state': 'TX', 'display_address': ['5722 Hillcroft St', 'Houston, TX 77036']}, 'phone': '+17137831188', 'display_phone': '(713) 783-1188', 'distance': 5703.698878076258}, {'id': 'aeZwvqF2lBhL7j60Mip5_w', 'alias': 'fuzzys-taco-shop-houston-6', 'name': \"Fuzzy's Taco Shop\", 'image_url': 'https://s3-media1.fl.yelpcdn.com/bphoto/95EXZ6uHo_18xqOXNBvfrg/o.jpg', 'is_closed': False, 'url': 'https://www.yelp.com/biz/fuzzys-taco-shop-houston-6?adjust_creative=XzK19ZTiN3mgGdqg5oa27w&utm_campaign=yelp_api_v3&utm_medium=api_v3_business_search&utm_source=XzK19ZTiN3mgGdqg5oa27w', 'review_count': 160, 'categories': [{'alias': 'mexican', 'title': 'Mexican'}, {'alias': 'breakfast_brunch', 'title': 'Breakfast & Brunch'}, {'alias': 'salad', 'title': 'Salad'}], 'rating': 3.0, 'coordinates': {'latitude': 29.671820929704843, 'longitude': -95.46059132333087}, 'transactions': ['pickup', 'delivery'], 'price': '$', 'location': {'address1': '10275 B South Post Oak', 'address2': '', 'address3': None, 'city': 'Houston', 'zip_code': '77096', 'country': 'US', 'state': 'TX', 'display_address': ['10275 B South Post Oak', 'Houston, TX 77096']}, 'phone': '+12815019917', 'display_phone': '(281) 501-9917', 'distance': 1729.9199016674997}, {'id': '-Gwa8hS7qlR1cCA7UZTkjg', 'alias': 'mcdonalds-houston-197', 'name': \"McDonald's\", 'image_url': 'https://s3-media2.fl.yelpcdn.com/bphoto/JRb4UWhAJsn1wOW2THyuPw/o.jpg', 'is_closed': False, 'url': 'https://www.yelp.com/biz/mcdonalds-houston-197?adjust_creative=XzK19ZTiN3mgGdqg5oa27w&utm_campaign=yelp_api_v3&utm_medium=api_v3_business_search&utm_source=XzK19ZTiN3mgGdqg5oa27w', 'review_count': 25, 'categories': [{'alias': 'burgers', 'title': 'Burgers'}, {'alias': 'hotdogs', 'title': 'Fast Food'}, {'alias': 'coffee', 'title': 'Coffee & Tea'}], 'rating': 2.0, 'coordinates': {'latitude': 29.6699692142859, 'longitude': -95.4614336695795}, 'transactions': ['delivery'], 'price': '$', 'location': {'address1': '10315 S Post Oak', 'address2': '', 'address3': '', 'city': 'Houston', 'zip_code': '77035', 'country': 'US', 'state': 'TX', 'display_address': ['10315 S Post Oak', 'Houston, TX 77035']}, 'phone': '+17137268467', 'display_phone': '(713) 726-8467', 'distance': 1683.7981897138693}, {'id': 'UOvXpw2uQElK7iX2HXn6EQ', 'alias': 'jones-fried-chicken-houston', 'name': 'Jones Fried Chicken', 'image_url': 'https://s3-media2.fl.yelpcdn.com/bphoto/rEr4FfXELPh1u6sq79iDuA/o.jpg', 'is_closed': False, 'url': 'https://www.yelp.com/biz/jones-fried-chicken-houston?adjust_creative=XzK19ZTiN3mgGdqg5oa27w&utm_campaign=yelp_api_v3&utm_medium=api_v3_business_search&utm_source=XzK19ZTiN3mgGdqg5oa27w', 'review_count': 552, 'categories': [{'alias': 'halal', 'title': 'Halal'}, {'alias': 'chickenshop', 'title': 'Chicken Shop'}], 'rating': 3.5, 'coordinates': {'latitude': 29.7076358795166, 'longitude': -95.5211410522461}, 'transactions': ['delivery'], 'price': '$$', 'location': {'address1': '6633 Fondren Rd', 'address2': '', 'address3': '', 'city': 'Houston', 'zip_code': '77036', 'country': 'US', 'state': 'TX', 'display_address': ['6633 Fondren Rd', 'Houston, TX 77036']}, 'phone': '+17137727799', 'display_phone': '(713) 772-7799', 'distance': 5613.714440526538}, {'id': 'v5aL_7GMoMqB0ojyqtEqZA', 'alias': 'chick-fil-a-houston-105', 'name': 'Chick-fil-A', 'image_url': 'https://s3-media1.fl.yelpcdn.com/bphoto/99_tuG4DHyKZA1H3DXFHOw/o.jpg', 'is_closed': False, 'url': 'https://www.yelp.com/biz/chick-fil-a-houston-105?adjust_creative=XzK19ZTiN3mgGdqg5oa27w&utm_campaign=yelp_api_v3&utm_medium=api_v3_business_search&utm_source=XzK19ZTiN3mgGdqg5oa27w', 'review_count': 216, 'categories': [{'alias': 'hotdogs', 'title': 'Fast Food'}, {'alias': 'chickenshop', 'title': 'Chicken Shop'}], 'rating': 3.5, 'coordinates': {'latitude': 29.7297136, 'longitude': -95.42087}, 'transactions': ['delivery'], 'price': '$', 'location': {'address1': '2715 Southwest Fwy', 'address2': '', 'address3': '', 'city': 'Houston', 'zip_code': '77098', 'country': 'US', 'state': 'TX', 'display_address': ['2715 Southwest Fwy', 'Houston, TX 77098']}, 'phone': '+17135232442', 'display_phone': '(713) 523-2442', 'distance': 8369.52331710616}, {'id': '-29-Wp5Rr4JNf4EaN0OmcQ', 'alias': 'hawaiian-bros-island-grill-houston', 'name': 'Hawaiian Bros Island Grill', 'image_url': 'https://s3-media3.fl.yelpcdn.com/bphoto/cAO7zaspbyQBeIZWFVTeVw/o.jpg', 'is_closed': False, 'url': 'https://www.yelp.com/biz/hawaiian-bros-island-grill-houston?adjust_creative=XzK19ZTiN3mgGdqg5oa27w&utm_campaign=yelp_api_v3&utm_medium=api_v3_business_search&utm_source=XzK19ZTiN3mgGdqg5oa27w', 'review_count': 43, 'categories': [{'alias': 'hawaiian', 'title': 'Hawaiian'}, {'alias': 'desserts', 'title': 'Desserts'}, {'alias': 'salad', 'title': 'Salad'}], 'rating': 4.0, 'coordinates': {'latitude': 29.738104391346685, 'longitude': -95.500416}, 'transactions': ['pickup', 'delivery'], 'price': '$$', 'location': {'address1': '6522 Westheimer Rd', 'address2': None, 'address3': '', 'city': 'Houston', 'zip_code': '77057', 'country': 'US', 'state': 'TX', 'display_address': ['6522 Westheimer Rd', 'Houston, TX 77057']}, 'phone': '+12813053007', 'display_phone': '(281) 305-3007', 'distance': 7499.494983751367}, {'id': 'm83IW6FnF4WeMNlMYKPisA', 'alias': 'chick-fil-a-houston-79', 'name': 'Chick-fil-A', 'image_url': 'https://s3-media2.fl.yelpcdn.com/bphoto/OWl099kGg9MK3u09oGhKcg/o.jpg', 'is_closed': False, 'url': 'https://www.yelp.com/biz/chick-fil-a-houston-79?adjust_creative=XzK19ZTiN3mgGdqg5oa27w&utm_campaign=yelp_api_v3&utm_medium=api_v3_business_search&utm_source=XzK19ZTiN3mgGdqg5oa27w', 'review_count': 5, 'categories': [{'alias': 'hotdogs', 'title': 'Fast Food'}, {'alias': 'chickenshop', 'title': 'Chicken Shop'}], 'rating': 3.0, 'coordinates': {'latitude': 29.69509, 'longitude': -95.51582198}, 'transactions': [], 'price': '$', 'location': {'address1': '7502 Fondren Rd', 'address2': 'M.D. Anderson Student Center', 'address3': 'MD Anderson Student Center', 'city': 'Houston', 'zip_code': '77074', 'country': 'US', 'state': 'TX', 'display_address': ['7502 Fondren Rd', 'M.D. Anderson Student Center', 'MD Anderson Student Center', 'Houston, TX 77074']}, 'phone': '', 'display_phone': '', 'distance': 4343.970926820934}, {'id': 'whAGT0ZC9-05USG9vd4yJw', 'alias': 'taco-bell-houston-41', 'name': 'Taco Bell', 'image_url': 'https://s3-media3.fl.yelpcdn.com/bphoto/lBZ0h1dh_0c3kzXhPmrgvg/o.jpg', 'is_closed': False, 'url': 'https://www.yelp.com/biz/taco-bell-houston-41?adjust_creative=XzK19ZTiN3mgGdqg5oa27w&utm_campaign=yelp_api_v3&utm_medium=api_v3_business_search&utm_source=XzK19ZTiN3mgGdqg5oa27w', 'review_count': 35, 'categories': [{'alias': 'mexican', 'title': 'Mexican'}, {'alias': 'hotdogs', 'title': 'Fast Food'}], 'rating': 3.5, 'coordinates': {'latitude': 29.731644, 'longitude': -95.480943}, 'transactions': ['delivery'], 'price': '$', 'location': {'address1': '5818 Richmond Avenue', 'address2': None, 'address3': None, 'city': 'Houston', 'zip_code': '77057', 'country': 'US', 'state': 'TX', 'display_address': ['5818 Richmond Avenue', 'Houston, TX 77057']}, 'phone': '+17139528581', 'display_phone': '(713) 952-8581', 'distance': 6478.062823439974}, {'id': '9XnDhvmvgG4sVwIv8iOeaA', 'alias': 'raising-canes-chicken-fingers-houston-18', 'name': \"Raising Cane's Chicken Fingers\", 'image_url': 'https://s3-media2.fl.yelpcdn.com/bphoto/Khz7eKb3Ds_nnRItBLu1dg/o.jpg', 'is_closed': False, 'url': 'https://www.yelp.com/biz/raising-canes-chicken-fingers-houston-18?adjust_creative=XzK19ZTiN3mgGdqg5oa27w&utm_campaign=yelp_api_v3&utm_medium=api_v3_business_search&utm_source=XzK19ZTiN3mgGdqg5oa27w', 'review_count': 43, 'categories': [{'alias': 'hotdogs', 'title': 'Fast Food'}], 'rating': 3.5, 'coordinates': {'latitude': 29.724009, 'longitude': -95.46863}, 'transactions': ['delivery'], 'price': '$', 'location': {'address1': '5326 S Rice Ave', 'address2': '', 'address3': None, 'city': 'Houston', 'zip_code': '77081', 'country': 'US', 'state': 'TX', 'display_address': ['5326 S Rice Ave', 'Houston, TX 77081']}, 'phone': '+17136677532', 'display_phone': '(713) 667-7532', 'distance': 5703.0710681888695}, {'id': 'SjRBrtSmu2D2hOSkXEqvqg', 'alias': 'lotus-seafood-market-houston', 'name': 'Lotus Seafood Market', 'image_url': 'https://s3-media1.fl.yelpcdn.com/bphoto/WtVc5a1LyYeIKlIWj25hGg/o.jpg', 'is_closed': False, 'url': 'https://www.yelp.com/biz/lotus-seafood-market-houston?adjust_creative=XzK19ZTiN3mgGdqg5oa27w&utm_campaign=yelp_api_v3&utm_medium=api_v3_business_search&utm_source=XzK19ZTiN3mgGdqg5oa27w', 'review_count': 415, 'categories': [{'alias': 'seafood', 'title': 'Seafood'}, {'alias': 'cajun', 'title': 'Cajun/Creole'}, {'alias': 'chicken_wings', 'title': 'Chicken Wings'}], 'rating': 4.0, 'coordinates': {'latitude': 29.67631, 'longitude': -95.53974}, 'transactions': ['pickup', 'delivery'], 'price': '$$', 'location': {'address1': '9531 SW Fwy', 'address2': None, 'address3': '', 'city': 'Houston', 'zip_code': '77074', 'country': 'US', 'state': 'TX', 'display_address': ['9531 SW Fwy', 'Houston, TX 77074']}, 'phone': '+17132707987', 'display_phone': '(713) 270-7987', 'distance': 5921.386079632662}, {'id': 'Hb3-8bQ5-Vx2hvqIXrbicQ', 'alias': 'cues-burgers-and-more-houston', 'name': \"Cue's Burgers & More\", 'image_url': 'https://s3-media4.fl.yelpcdn.com/bphoto/opGMLFgOyjS-mBHulh9pKQ/o.jpg', 'is_closed': False, 'url': 'https://www.yelp.com/biz/cues-burgers-and-more-houston?adjust_creative=XzK19ZTiN3mgGdqg5oa27w&utm_campaign=yelp_api_v3&utm_medium=api_v3_business_search&utm_source=XzK19ZTiN3mgGdqg5oa27w', 'review_count': 143, 'categories': [{'alias': 'burgers', 'title': 'Burgers'}], 'rating': 4.0, 'coordinates': {'latitude': 29.6684236, 'longitude': -95.4623239}, 'transactions': ['delivery'], 'price': '$', 'location': {'address1': '10423 S Post Oak Rd', 'address2': '', 'address3': '', 'city': 'Houston', 'zip_code': '77035', 'country': 'US', 'state': 'TX', 'display_address': ['10423 S Post Oak Rd', 'Houston, TX 77035']}, 'phone': '+17137260313', 'display_phone': '(713) 726-0313', 'distance': 1684.968995877318}, {'id': '9r0yFzr3COWcZ9mN9VOMeg', 'alias': 'peru-gourmet-houston-3', 'name': 'Peru Gourmet', 'image_url': 'https://s3-media3.fl.yelpcdn.com/bphoto/2nQtYJTqP8J08g8bgOC9Bw/o.jpg', 'is_closed': False, 'url': 'https://www.yelp.com/biz/peru-gourmet-houston-3?adjust_creative=XzK19ZTiN3mgGdqg5oa27w&utm_campaign=yelp_api_v3&utm_medium=api_v3_business_search&utm_source=XzK19ZTiN3mgGdqg5oa27w', 'review_count': 127, 'categories': [{'alias': 'peruvian', 'title': 'Peruvian'}, {'alias': 'seafood', 'title': 'Seafood'}, {'alias': 'mexican', 'title': 'Mexican'}], 'rating': 4.5, 'coordinates': {'latitude': 29.663261, 'longitude': -95.464823}, 'transactions': ['pickup', 'delivery'], 'price': '$$', 'location': {'address1': '10804 S Post Oak Rd', 'address2': 'Ste 375', 'address3': '', 'city': 'Houston', 'zip_code': '77035', 'country': 'US', 'state': 'TX', 'display_address': ['10804 S Post Oak Rd', 'Ste 375', 'Houston, TX 77035']}, 'phone': '+12818883931', 'display_phone': '(281) 888-3931', 'distance': 1731.7404235811678}, {'id': 'MVOy6lVpZl5jpJDsKsM_Yw', 'alias': 'raising-canes-chicken-fingers-houston-2', 'name': \"Raising Cane's Chicken Fingers\", 'image_url': 'https://s3-media2.fl.yelpcdn.com/bphoto/O1aGdvS2xZkfpDHtEBXPKQ/o.jpg', 'is_closed': False, 'url': 'https://www.yelp.com/biz/raising-canes-chicken-fingers-houston-2?adjust_creative=XzK19ZTiN3mgGdqg5oa27w&utm_campaign=yelp_api_v3&utm_medium=api_v3_business_search&utm_source=XzK19ZTiN3mgGdqg5oa27w', 'review_count': 156, 'categories': [{'alias': 'hotdogs', 'title': 'Fast Food'}], 'rating': 3.5, 'coordinates': {'latitude': 29.73725, 'longitude': -95.502317}, 'transactions': ['delivery'], 'price': '$', 'location': {'address1': '7531 Westheimer Rd', 'address2': '', 'address3': '', 'city': 'Houston', 'zip_code': '77063', 'country': 'US', 'state': 'TX', 'display_address': ['7531 Westheimer Rd', 'Houston, TX 77063']}, 'phone': '+17137803475', 'display_phone': '(713) 780-3475', 'distance': 7463.2079683845395}, {'id': 'bYC6fqM_RDkwIhfAJUp1WQ', 'alias': 'two-hands-houston-4', 'name': 'Two Hands', 'image_url': 'https://s3-media4.fl.yelpcdn.com/bphoto/j29H41zunEWR5nrMNPVVPQ/o.jpg', 'is_closed': False, 'url': 'https://www.yelp.com/biz/two-hands-houston-4?adjust_creative=XzK19ZTiN3mgGdqg5oa27w&utm_campaign=yelp_api_v3&utm_medium=api_v3_business_search&utm_source=XzK19ZTiN3mgGdqg5oa27w', 'review_count': 194, 'categories': [{'alias': 'hotdog', 'title': 'Hot Dogs'}, {'alias': 'korean', 'title': 'Korean'}], 'rating': 4.0, 'coordinates': {'latitude': 29.704471, 'longitude': -95.549025}, 'transactions': ['delivery'], 'price': '$', 'location': {'address1': '9393 Bellaire Blvd', 'address2': 'Ste F', 'address3': '', 'city': 'Houston', 'zip_code': '77036', 'country': 'US', 'state': 'TX', 'display_address': ['9393 Bellaire Blvd', 'Ste F', 'Houston, TX 77036']}, 'phone': '', 'display_phone': '', 'distance': 7647.451199818784}, {'id': 'IXiFquTwcRkhj4Ac6z1KGw', 'alias': 'raising-canes-chicken-fingers-houston-9', 'name': \"Raising Cane's Chicken Fingers\", 'image_url': 'https://s3-media2.fl.yelpcdn.com/bphoto/gc9l-dZZ7dAYpaJjF5ts5A/o.jpg', 'is_closed': False, 'url': 'https://www.yelp.com/biz/raising-canes-chicken-fingers-houston-9?adjust_creative=XzK19ZTiN3mgGdqg5oa27w&utm_campaign=yelp_api_v3&utm_medium=api_v3_business_search&utm_source=XzK19ZTiN3mgGdqg5oa27w', 'review_count': 141, 'categories': [{'alias': 'hotdogs', 'title': 'Fast Food'}, {'alias': 'chicken_wings', 'title': 'Chicken Wings'}], 'rating': 3.5, 'coordinates': {'latitude': 29.7428036551851, 'longitude': -95.4073392037664}, 'transactions': ['delivery'], 'price': '$', 'location': {'address1': '1902 Westheimer Rd', 'address2': '', 'address3': '', 'city': 'Houston', 'zip_code': '77098', 'country': 'US', 'state': 'TX', 'display_address': ['1902 Westheimer Rd', 'Houston, TX 77098']}, 'phone': '+17135289020', 'display_phone': '(713) 528-9020', 'distance': 10325.359748437619}, {'id': 'Ojl0WZt2pczPtryxDx0jRw', 'alias': 'mcdonalds-houston-30', 'name': \"McDonald's\", 'image_url': 'https://s3-media2.fl.yelpcdn.com/bphoto/6vq60oZSGBcKvvf0iFWpIQ/o.jpg', 'is_closed': False, 'url': 'https://www.yelp.com/biz/mcdonalds-houston-30?adjust_creative=XzK19ZTiN3mgGdqg5oa27w&utm_campaign=yelp_api_v3&utm_medium=api_v3_business_search&utm_source=XzK19ZTiN3mgGdqg5oa27w', 'review_count': 24, 'categories': [{'alias': 'hotdogs', 'title': 'Fast Food'}, {'alias': 'burgers', 'title': 'Burgers'}, {'alias': 'coffee', 'title': 'Coffee & Tea'}], 'rating': 2.5, 'coordinates': {'latitude': 29.6773929761542, 'longitude': -95.4940188385081}, 'transactions': ['delivery'], 'price': '$', 'location': {'address1': '5911 S Braeswood Blvd', 'address2': None, 'address3': None, 'city': 'Houston', 'zip_code': '77096', 'country': 'US', 'state': 'TX', 'display_address': ['5911 S Braeswood Blvd', 'Houston, TX 77096']}, 'phone': '+17137214925', 'display_phone': '(713) 721-4925', 'distance': 1571.9567953877515}, {'id': 'px80-KHtlUHJ52Lfm-Dkpw', 'alias': 'cafe-express-houston-4', 'name': 'Cafe Express', 'image_url': 'https://s3-media4.fl.yelpcdn.com/bphoto/_I3gR28D6QhFn19ZA3q_AA/o.jpg', 'is_closed': False, 'url': 'https://www.yelp.com/biz/cafe-express-houston-4?adjust_creative=XzK19ZTiN3mgGdqg5oa27w&utm_campaign=yelp_api_v3&utm_medium=api_v3_business_search&utm_source=XzK19ZTiN3mgGdqg5oa27w', 'review_count': 173, 'categories': [{'alias': 'sandwiches', 'title': 'Sandwiches'}, {'alias': 'cafes', 'title': 'Cafes'}, {'alias': 'salad', 'title': 'Salad'}], 'rating': 3.0, 'coordinates': {'latitude': 29.685565, 'longitude': -95.460577}, 'transactions': ['pickup', 'delivery'], 'price': '$$', 'location': {'address1': '210 Meyerland Plaza', 'address2': '', 'address3': '', 'city': 'Houston', 'zip_code': '77096', 'country': 'US', 'state': 'TX', 'display_address': ['210 Meyerland Plaza', 'Houston, TX 77096']}, 'phone': '+17133499222', 'display_phone': '(713) 349-9222', 'distance': 2191.9200092184064}, {'id': 'cZMcMPW0HUO7SxHznBFS5Q', 'alias': 'smashburger-houston-26', 'name': 'Smashburger', 'image_url': 'https://s3-media2.fl.yelpcdn.com/bphoto/JKAEqa1nxSipbZtn9WJWuQ/o.jpg', 'is_closed': False, 'url': 'https://www.yelp.com/biz/smashburger-houston-26?adjust_creative=XzK19ZTiN3mgGdqg5oa27w&utm_campaign=yelp_api_v3&utm_medium=api_v3_business_search&utm_source=XzK19ZTiN3mgGdqg5oa27w', 'review_count': 341, 'categories': [{'alias': 'burgers', 'title': 'Burgers'}], 'rating': 3.5, 'coordinates': {'latitude': 29.694638, 'longitude': -95.413638}, 'transactions': ['pickup', 'delivery'], 'price': '$', 'location': {'address1': '7811 Main St', 'address2': '', 'address3': '', 'city': 'Houston', 'zip_code': '77030', 'country': 'US', 'state': 'TX', 'display_address': ['7811 Main St', 'Houston, TX 77030']}, 'phone': '+17134914526', 'display_phone': '(713) 491-4526', 'distance': 6686.099027149417}, {'id': 'tYcMzPZ-stv02IP3CL4ZAQ', 'alias': 'original-timmy-chan-houston', 'name': 'Original Timmy Chan', 'image_url': 'https://s3-media3.fl.yelpcdn.com/bphoto/S6mCMv_cGlBZOPkhesdjIw/o.jpg', 'is_closed': False, 'url': 'https://www.yelp.com/biz/original-timmy-chan-houston?adjust_creative=XzK19ZTiN3mgGdqg5oa27w&utm_campaign=yelp_api_v3&utm_medium=api_v3_business_search&utm_source=XzK19ZTiN3mgGdqg5oa27w', 'review_count': 107, 'categories': [{'alias': 'chicken_wings', 'title': 'Chicken Wings'}, {'alias': 'chinese', 'title': 'Chinese'}], 'rating': 3.5, 'coordinates': {'latitude': 29.6785711, 'longitude': -95.41773667914818}, 'transactions': [], 'price': '$', 'location': {'address1': '2596 S Loop W', 'address2': '', 'address3': '', 'city': 'Houston', 'zip_code': '77054', 'country': 'US', 'state': 'TX', 'display_address': ['2596 S Loop W', 'Houston, TX 77054']}, 'phone': '+17135128888', 'display_phone': '(713) 512-8888', 'distance': 5888.665370239298}, {'id': 'jcqCUaOD1_Kz2S3HlW4mQw', 'alias': 'becks-prime-houston-9', 'name': 'Becks Prime', 'image_url': 'https://s3-media2.fl.yelpcdn.com/bphoto/eTSiZ0VPWf86I6hfY8YNHw/o.jpg', 'is_closed': False, 'url': 'https://www.yelp.com/biz/becks-prime-houston-9?adjust_creative=XzK19ZTiN3mgGdqg5oa27w&utm_campaign=yelp_api_v3&utm_medium=api_v3_business_search&utm_source=XzK19ZTiN3mgGdqg5oa27w', 'review_count': 107, 'categories': [{'alias': 'hotdog', 'title': 'Hot Dogs'}, {'alias': 'burgers', 'title': 'Burgers'}, {'alias': 'tradamerican', 'title': 'American (Traditional)'}], 'rating': 3.5, 'coordinates': {'latitude': 29.6888172022814, 'longitude': -95.4619411752548}, 'transactions': [], 'price': '$$', 'location': {'address1': '708 Meyerland Plz', 'address2': '', 'address3': '', 'city': 'Houston', 'zip_code': '77096', 'country': 'US', 'state': 'TX', 'display_address': ['708 Meyerland Plz', 'Houston, TX 77096']}, 'phone': '+17136674076', 'display_phone': '(713) 667-4076', 'distance': 2336.027130861749}, {'id': '1QCHmGUCpXGppI1QvtdUhA', 'alias': 'sonic-drive-in-houston-3', 'name': 'Sonic Drive-In', 'image_url': 'https://s3-media4.fl.yelpcdn.com/bphoto/1duRTpQCxtfXmwsMFjXncA/o.jpg', 'is_closed': False, 'url': 'https://www.yelp.com/biz/sonic-drive-in-houston-3?adjust_creative=XzK19ZTiN3mgGdqg5oa27w&utm_campaign=yelp_api_v3&utm_medium=api_v3_business_search&utm_source=XzK19ZTiN3mgGdqg5oa27w', 'review_count': 31, 'categories': [{'alias': 'hotdogs', 'title': 'Fast Food'}, {'alias': 'burgers', 'title': 'Burgers'}, {'alias': 'icecream', 'title': 'Ice Cream & Frozen Yogurt'}], 'rating': 3.0, 'coordinates': {'latitude': 29.7183166, 'longitude': -95.5011126}, 'transactions': ['pickup', 'delivery'], 'price': '$', 'location': {'address1': '5902 Hillcroft St', 'address2': '', 'address3': '', 'city': 'Houston', 'zip_code': '77036', 'country': 'US', 'state': 'TX', 'display_address': ['5902 Hillcroft St', 'Houston, TX 77036']}, 'phone': '+17139531311', 'display_phone': '(713) 953-1311', 'distance': 5452.2671071521345}, {'id': 'Wjq4pR7qHaoPu4d67v_qlw', 'alias': 'clutch-city-cluckers-houston', 'name': 'Clutch City Cluckers', 'image_url': 'https://s3-media4.fl.yelpcdn.com/bphoto/3B58fX-BqwTosXvjdHAgZQ/o.jpg', 'is_closed': False, 'url': 'https://www.yelp.com/biz/clutch-city-cluckers-houston?adjust_creative=XzK19ZTiN3mgGdqg5oa27w&utm_campaign=yelp_api_v3&utm_medium=api_v3_business_search&utm_source=XzK19ZTiN3mgGdqg5oa27w', 'review_count': 105, 'categories': [{'alias': 'chickenshop', 'title': 'Chicken Shop'}, {'alias': 'foodtrucks', 'title': 'Food Trucks'}], 'rating': 4.0, 'coordinates': {'latitude': 29.73683, 'longitude': -95.47636}, 'transactions': ['pickup', 'delivery'], 'price': '$$', 'location': {'address1': '5550 Val Verde St', 'address2': None, 'address3': '', 'city': 'Houston', 'zip_code': '77056', 'country': 'US', 'state': 'TX', 'display_address': ['5550 Val Verde St', 'Houston, TX 77056']}, 'phone': '+12817665656', 'display_phone': '(281) 766-5656', 'distance': 7047.975784400008}, {'id': '8LI2YiKvakSaRpgJRaGy1w', 'alias': 'popeyes-louisiana-kitchen-houston-40', 'name': 'Popeyes Louisiana Kitchen', 'image_url': 'https://s3-media3.fl.yelpcdn.com/bphoto/iQzY6gbU78t9H5t7lgN10Q/o.jpg', 'is_closed': False, 'url': 'https://www.yelp.com/biz/popeyes-louisiana-kitchen-houston-40?adjust_creative=XzK19ZTiN3mgGdqg5oa27w&utm_campaign=yelp_api_v3&utm_medium=api_v3_business_search&utm_source=XzK19ZTiN3mgGdqg5oa27w', 'review_count': 61, 'categories': [{'alias': 'chicken_wings', 'title': 'Chicken Wings'}, {'alias': 'hotdogs', 'title': 'Fast Food'}], 'rating': 3.0, 'coordinates': {'latitude': 29.73115, 'longitude': -95.47789}, 'transactions': ['pickup', 'delivery'], 'price': '$', 'location': {'address1': '5625 Richmond Ave', 'address2': '', 'address3': '', 'city': 'Houston', 'zip_code': '77057', 'country': 'US', 'state': 'TX', 'display_address': ['5625 Richmond Ave', 'Houston, TX 77057']}, 'phone': '+17137848320', 'display_phone': '(713) 784-8320', 'distance': 6422.031488533433}, {'id': 'bvy1fWB5hNcJWok_JvrzbQ', 'alias': 'shake-shack-houston', 'name': 'Shake Shack', 'image_url': 'https://s3-media1.fl.yelpcdn.com/bphoto/477Zr4HVt6eKqzSdZIjmYA/o.jpg', 'is_closed': False, 'url': 'https://www.yelp.com/biz/shake-shack-houston?adjust_creative=XzK19ZTiN3mgGdqg5oa27w&utm_campaign=yelp_api_v3&utm_medium=api_v3_business_search&utm_source=XzK19ZTiN3mgGdqg5oa27w', 'review_count': 428, 'categories': [{'alias': 'burgers', 'title': 'Burgers'}, {'alias': 'hotdog', 'title': 'Hot Dogs'}], 'rating': 3.5, 'coordinates': {'latitude': 29.7396529991527, 'longitude': -95.4628195613623}, 'transactions': ['pickup', 'delivery'], 'price': '$$', 'location': {'address1': '5015 Westheimer Rd', 'address2': 'Ste A2411', 'address3': '', 'city': 'Houston', 'zip_code': '77056', 'country': 'US', 'state': 'TX', 'display_address': ['5015 Westheimer Rd', 'Ste A2411', 'Houston, TX 77056']}, 'phone': '+12812130445', 'display_phone': '(281) 213-0445', 'distance': 7516.16391857951}, {'id': 'H_WccXvu6KS540IBH59agA', 'alias': 'wendys-bellaire', 'name': \"Wendy's\", 'image_url': 'https://s3-media3.fl.yelpcdn.com/bphoto/G3WKF9TTDOrTPeLbqhdOnw/o.jpg', 'is_closed': False, 'url': 'https://www.yelp.com/biz/wendys-bellaire?adjust_creative=XzK19ZTiN3mgGdqg5oa27w&utm_campaign=yelp_api_v3&utm_medium=api_v3_business_search&utm_source=XzK19ZTiN3mgGdqg5oa27w', 'review_count': 18, 'categories': [{'alias': 'burgers', 'title': 'Burgers'}, {'alias': 'hotdogs', 'title': 'Fast Food'}], 'rating': 3.0, 'coordinates': {'latitude': 29.71518, 'longitude': -95.45396}, 'transactions': ['delivery'], 'price': '$', 'location': {'address1': '4544 Bissonnet', 'address2': '', 'address3': '', 'city': 'Bellaire', 'zip_code': '77401', 'country': 'US', 'state': 'TX', 'display_address': ['4544 Bissonnet', 'Bellaire, TX 77401']}, 'phone': '+17136611914', 'display_phone': '(713) 661-1914', 'distance': 5192.3301796842725}, {'id': 'tjMA7_qDQq7G9u08WuU-Fg', 'alias': 'jci-james-coney-island-meyerland-houston', 'name': 'JCI- James Coney Island- Meyerland', 'image_url': 'https://s3-media2.fl.yelpcdn.com/bphoto/_AdF0RGuOls9xyD8BPyzag/o.jpg', 'is_closed': False, 'url': 'https://www.yelp.com/biz/jci-james-coney-island-meyerland-houston?adjust_creative=XzK19ZTiN3mgGdqg5oa27w&utm_campaign=yelp_api_v3&utm_medium=api_v3_business_search&utm_source=XzK19ZTiN3mgGdqg5oa27w', 'review_count': 73, 'categories': [{'alias': 'hotdog', 'title': 'Hot Dogs'}, {'alias': 'burgers', 'title': 'Burgers'}, {'alias': 'hotdogs', 'title': 'Fast Food'}], 'rating': 3.0, 'coordinates': {'latitude': 29.687223, 'longitude': -95.459799}, 'transactions': ['pickup', 'delivery'], 'price': '$', 'location': {'address1': '530 Meyerland Plz', 'address2': '', 'address3': '', 'city': 'Houston', 'zip_code': '77096', 'country': 'US', 'state': 'TX', 'display_address': ['530 Meyerland Plz', 'Houston, TX 77096']}, 'phone': '+17136644900', 'display_phone': '(713) 664-4900', 'distance': 2362.785025224696}, {'id': 'JKBgc6uXKSVKau05XHEfOw', 'alias': 'panda-express-houston-6', 'name': 'Panda Express', 'image_url': 'https://s3-media2.fl.yelpcdn.com/bphoto/sZp_srtZa-wewfN4Dz2Olw/o.jpg', 'is_closed': False, 'url': 'https://www.yelp.com/biz/panda-express-houston-6?adjust_creative=XzK19ZTiN3mgGdqg5oa27w&utm_campaign=yelp_api_v3&utm_medium=api_v3_business_search&utm_source=XzK19ZTiN3mgGdqg5oa27w', 'review_count': 41, 'categories': [{'alias': 'chinese', 'title': 'Chinese'}, {'alias': 'hotdogs', 'title': 'Fast Food'}], 'rating': 2.5, 'coordinates': {'latitude': 29.68661, 'longitude': -95.4584}, 'transactions': ['pickup', 'delivery'], 'price': '$', 'location': {'address1': '8705 West Loop South', 'address2': 'SUITE 100', 'address3': '', 'city': 'Houston', 'zip_code': '77096', 'country': 'US', 'state': 'TX', 'display_address': ['8705 West Loop South', 'SUITE 100', 'Houston, TX 77096']}, 'phone': '+17136656777', 'display_phone': '(713) 665-6777', 'distance': 2479.433259249263}], 'total': 575, 'region': {'center': {'longitude': -95.47840118408203, 'latitude': 29.673427167467644}}}\n"
     ]
    }
   ],
   "source": [
    "# Define the API key, Endpoint, and Header\n",
    "API_KEY = Yelp_API_Key\n",
    "ENDPOINT = 'https://api.yelp.com/v3/businesses/search'\n",
    "HEADERS = {'Authorization':'bearer %s' % API_KEY}\n",
    "\n",
    "# Define the parameters of the query\n",
    "PARAMETERS = {'term': 'fast food',\n",
    "            'limit': 50,\n",
    "              'radius': 10000,\n",
    "              'location': '77096',\n",
    "             'offset': 50}\n",
    "\n",
    "# Make a request to the Yelp API\n",
    "response = requests.get(url = ENDPOINT, params = PARAMETERS, headers = HEADERS)\n",
    "\n",
    "# convert JSON string to a dictionary\n",
    "business_data = response.json()\n",
    "\n",
    "print(business_data)"
   ]
  },
  {
   "cell_type": "code",
   "execution_count": 19,
   "id": "9b35b0be",
   "metadata": {},
   "outputs": [
    {
     "name": "stdout",
     "output_type": "stream",
     "text": [
      "dict_keys(['businesses', 'total', 'region'])\n"
     ]
    }
   ],
   "source": [
    "print(business_data.keys())"
   ]
  },
  {
   "cell_type": "code",
   "execution_count": 36,
   "id": "93755885",
   "metadata": {},
   "outputs": [
    {
     "name": "stdout",
     "output_type": "stream",
     "text": [
      "Viet Nom Noms\n",
      "Jollibee\n",
      "Raising Cane's Chicken Fingers\n",
      "Chick-fil-A\n",
      "Annie's Hamburgers\n",
      "Shake Shack\n",
      "Main Bird Hot Chicken - Houston\n",
      "Liberty Taco\n",
      "Roostar Vietnamese Grill\n",
      "Bellaire Broiler Burger\n",
      "Sleepy's Po-Boys\n",
      "Popeyes Louisiana Kitchen\n",
      "Calliope's\n",
      "Taco Cabana\n",
      "Tacos La Bala\n",
      "Firehouse Subs\n",
      "Little Matt's\n",
      "Q Wings Seafood  & Boba\n",
      "Yoyo's Hot Dog\n",
      "Whataburger\n",
      "Bubba's Texas Burger Shack\n",
      "Jack in the Box\n",
      "The Burger Joint\n",
      "Busy Boy Sandwiches\n",
      "Fuzzy's Taco Shop\n",
      "McDonald's\n",
      "Jones Fried Chicken\n",
      "Chick-fil-A\n",
      "Hawaiian Bros Island Grill\n",
      "Chick-fil-A\n",
      "Taco Bell\n",
      "Raising Cane's Chicken Fingers\n",
      "Lotus Seafood Market\n",
      "Cue's Burgers & More\n",
      "Peru Gourmet\n",
      "Raising Cane's Chicken Fingers\n",
      "Two Hands\n",
      "Raising Cane's Chicken Fingers\n",
      "McDonald's\n",
      "Cafe Express\n",
      "Smashburger\n",
      "Original Timmy Chan\n",
      "Becks Prime\n",
      "Sonic Drive-In\n",
      "Clutch City Cluckers\n",
      "Popeyes Louisiana Kitchen\n",
      "Shake Shack\n",
      "Wendy's\n",
      "JCI- James Coney Island- Meyerland\n",
      "Panda Express\n"
     ]
    }
   ],
   "source": [
    "for biz in business_data['businesses']:\n",
    "    print(biz['name'])"
   ]
  },
  {
   "cell_type": "code",
   "execution_count": 37,
   "id": "b2fdf590",
   "metadata": {},
   "outputs": [
    {
     "data": {
      "text/html": [
       "<div>\n",
       "<style scoped>\n",
       "    .dataframe tbody tr th:only-of-type {\n",
       "        vertical-align: middle;\n",
       "    }\n",
       "\n",
       "    .dataframe tbody tr th {\n",
       "        vertical-align: top;\n",
       "    }\n",
       "\n",
       "    .dataframe thead th {\n",
       "        text-align: right;\n",
       "    }\n",
       "</style>\n",
       "<table border=\"1\" class=\"dataframe\">\n",
       "  <thead>\n",
       "    <tr style=\"text-align: right;\">\n",
       "      <th></th>\n",
       "      <th>name</th>\n",
       "      <th>price</th>\n",
       "      <th>location</th>\n",
       "    </tr>\n",
       "  </thead>\n",
       "  <tbody>\n",
       "    <tr>\n",
       "      <th>0</th>\n",
       "      <td>Viet Nom Noms</td>\n",
       "      <td>$</td>\n",
       "      <td>{'address1': '5221 Bellaire Blvd', 'address2':...</td>\n",
       "    </tr>\n",
       "    <tr>\n",
       "      <th>1</th>\n",
       "      <td>Jollibee</td>\n",
       "      <td>$</td>\n",
       "      <td>{'address1': '8001 S Main St', 'address2': 'St...</td>\n",
       "    </tr>\n",
       "    <tr>\n",
       "      <th>2</th>\n",
       "      <td>Raising Cane's Chicken Fingers</td>\n",
       "      <td>$</td>\n",
       "      <td>{'address1': '9530 Main St', 'address2': None,...</td>\n",
       "    </tr>\n",
       "    <tr>\n",
       "      <th>3</th>\n",
       "      <td>Chick-fil-A</td>\n",
       "      <td>$</td>\n",
       "      <td>{'address1': '5001 Beechnut St', 'address2': N...</td>\n",
       "    </tr>\n",
       "    <tr>\n",
       "      <th>4</th>\n",
       "      <td>Annie's Hamburgers</td>\n",
       "      <td>$</td>\n",
       "      <td>{'address1': '10821 S Post Oak Rd', 'address2'...</td>\n",
       "    </tr>\n",
       "  </tbody>\n",
       "</table>\n",
       "</div>"
      ],
      "text/plain": [
       "                             name price  \\\n",
       "0                   Viet Nom Noms     $   \n",
       "1                        Jollibee     $   \n",
       "2  Raising Cane's Chicken Fingers     $   \n",
       "3                     Chick-fil-A     $   \n",
       "4              Annie's Hamburgers     $   \n",
       "\n",
       "                                            location  \n",
       "0  {'address1': '5221 Bellaire Blvd', 'address2':...  \n",
       "1  {'address1': '8001 S Main St', 'address2': 'St...  \n",
       "2  {'address1': '9530 Main St', 'address2': None,...  \n",
       "3  {'address1': '5001 Beechnut St', 'address2': N...  \n",
       "4  {'address1': '10821 S Post Oak Rd', 'address2'...  "
      ]
     },
     "execution_count": 37,
     "metadata": {},
     "output_type": "execute_result"
    }
   ],
   "source": [
    "# Turn into dataframe\n",
    "\n",
    "cols = list(business_data['businesses'][0].keys())\n",
    "df = pd.DataFrame(columns=cols)\n",
    "for biz in business_data['businesses']:\n",
    "    df = df.append(biz, ignore_index=True)\n",
    "    df = df.drop(['id', 'categories','alias','image_url', 'is_closed', 'url', 'review_count', 'rating', 'transactions', 'phone', 'distance', 'display_phone', 'coordinates'],axis=1)\n",
    "df.head()"
   ]
  },
  {
   "cell_type": "code",
   "execution_count": 32,
   "id": "62cf2847",
   "metadata": {},
   "outputs": [
    {
     "data": {
      "text/plain": [
       "name        50\n",
       "price       38\n",
       "location    50\n",
       "dtype: int64"
      ]
     },
     "execution_count": 32,
     "metadata": {},
     "output_type": "execute_result"
    }
   ],
   "source": [
    "df.count()"
   ]
  }
 ],
 "metadata": {
  "kernelspec": {
   "display_name": "Python 3 (ipykernel)",
   "language": "python",
   "name": "python3"
  },
  "language_info": {
   "codemirror_mode": {
    "name": "ipython",
    "version": 3
   },
   "file_extension": ".py",
   "mimetype": "text/x-python",
   "name": "python",
   "nbconvert_exporter": "python",
   "pygments_lexer": "ipython3",
   "version": "3.7.11"
  }
 },
 "nbformat": 4,
 "nbformat_minor": 5
}
