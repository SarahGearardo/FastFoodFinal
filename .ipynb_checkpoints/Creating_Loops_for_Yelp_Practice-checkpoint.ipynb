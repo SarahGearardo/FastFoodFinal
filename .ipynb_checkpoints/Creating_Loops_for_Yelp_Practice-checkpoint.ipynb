{
 "cells": [
  {
   "cell_type": "code",
   "execution_count": 1,
   "id": "48ee9de4",
   "metadata": {},
   "outputs": [],
   "source": [
    "# Import the requests library.\n",
    "import requests as r\n",
    "import pandas as pd\n",
    "import numpy as np\n",
    "from itertools import product\n",
    "\n",
    "# Import the API key.\n",
    "from config import Yelp_API_Key"
   ]
  },
  {
   "cell_type": "code",
   "execution_count": 2,
   "id": "dcc26c92",
   "metadata": {},
   "outputs": [],
   "source": [
    "# Define the API key, Endpoint, and Header\n",
    "key = Yelp_API_Key\n",
    "url = 'https://api.yelp.com/v3/businesses/search'\n",
    "headers = {'Authorization':'bearer %s' % key}"
   ]
  },
  {
   "cell_type": "code",
   "execution_count": 3,
   "id": "ff8bde4a",
   "metadata": {},
   "outputs": [],
   "source": [
    "# Scrape\n",
    "\n",
    "# Include 2 addresses and 100 results\n",
    "addresses = ['8722 Braewick, Houston TX 77096', '7 Lothian Rd, Brighton MA 02135']\n",
    "offset = np.arange(0,100,50)\n",
    "\n",
    "# Create list of tuples of combinations between addresses and offset\n",
    "tuples = list(product(addresses, offset))"
   ]
  },
  {
   "cell_type": "code",
   "execution_count": 4,
   "id": "e042bffb",
   "metadata": {},
   "outputs": [
    {
     "name": "stdout",
     "output_type": "stream",
     "text": [
      "Total Records: 200\n"
     ]
    },
    {
     "data": {
      "text/html": [
       "<div>\n",
       "<style scoped>\n",
       "    .dataframe tbody tr th:only-of-type {\n",
       "        vertical-align: middle;\n",
       "    }\n",
       "\n",
       "    .dataframe tbody tr th {\n",
       "        vertical-align: top;\n",
       "    }\n",
       "\n",
       "    .dataframe thead th {\n",
       "        text-align: right;\n",
       "    }\n",
       "</style>\n",
       "<table border=\"1\" class=\"dataframe\">\n",
       "  <thead>\n",
       "    <tr style=\"text-align: right;\">\n",
       "      <th></th>\n",
       "      <th>Type</th>\n",
       "      <th>Address</th>\n",
       "      <th>Zip Code</th>\n",
       "    </tr>\n",
       "    <tr>\n",
       "      <th>Name</th>\n",
       "      <th></th>\n",
       "      <th></th>\n",
       "      <th></th>\n",
       "    </tr>\n",
       "  </thead>\n",
       "  <tbody>\n",
       "    <tr>\n",
       "      <th>(Two Hands,)</th>\n",
       "      <td>hotdog</td>\n",
       "      <td>(9393 Bellaire Blvd,)</td>\n",
       "      <td>(77036,)</td>\n",
       "    </tr>\n",
       "    <tr>\n",
       "      <th>(Q Wings Seafood  &amp; Boba,)</th>\n",
       "      <td>chicken_wings</td>\n",
       "      <td>(6715 Bissonnet St,)</td>\n",
       "      <td>(77074,)</td>\n",
       "    </tr>\n",
       "    <tr>\n",
       "      <th>(Jones Fried Chicken,)</th>\n",
       "      <td>halal</td>\n",
       "      <td>(6633 Fondren Rd,)</td>\n",
       "      <td>(77036,)</td>\n",
       "    </tr>\n",
       "    <tr>\n",
       "      <th>(Calliope's,)</th>\n",
       "      <td>cajun</td>\n",
       "      <td>(7590 W Bellfort Ave,)</td>\n",
       "      <td>(77071,)</td>\n",
       "    </tr>\n",
       "    <tr>\n",
       "      <th>(Chick-fil-A,)</th>\n",
       "      <td>hotdogs</td>\n",
       "      <td>(7502 Fondren Rd,)</td>\n",
       "      <td>(77074,)</td>\n",
       "    </tr>\n",
       "  </tbody>\n",
       "</table>\n",
       "</div>"
      ],
      "text/plain": [
       "                                     Type                 Address  Zip Code\n",
       "Name                                                                       \n",
       "(Two Hands,)                       hotdog   (9393 Bellaire Blvd,)  (77036,)\n",
       "(Q Wings Seafood  & Boba,)  chicken_wings    (6715 Bissonnet St,)  (77074,)\n",
       "(Jones Fried Chicken,)              halal      (6633 Fondren Rd,)  (77036,)\n",
       "(Calliope's,)                       cajun  (7590 W Bellfort Ave,)  (77071,)\n",
       "(Chick-fil-A,)                    hotdogs      (7502 Fondren Rd,)  (77074,)"
      ]
     },
     "execution_count": 4,
     "metadata": {},
     "output_type": "execute_result"
    }
   ],
   "source": [
    "# Use a for loop store results into list of lists, and turn that into a DF\n",
    "# Empty list\n",
    "list = []\n",
    "\n",
    "# Future DF columns\n",
    "cols = ['Name', 'Type', 'Address', 'Zip Code']\n",
    "\n",
    "# for loop\n",
    "for address, step in tuples:\n",
    "    search_parameters = {\n",
    "        'location': address,     # in the future, zip will go here\n",
    "        'term': 'fast food',\n",
    "        'radius': 8000,\n",
    "        'limit': 50,\n",
    "        'offset': step}\n",
    "    resp = r.get(url, headers=headers, params=search_parameters)\n",
    "    raw_data = resp.json()\n",
    "    \n",
    "    for business in raw_data['businesses']:\n",
    "        name = business['name'],\n",
    "        food_type = business['categories'][0]['alias']\n",
    "        address = business['location']['address1'],\n",
    "        zip_code = business['location']['zip_code'],\n",
    "        list.append([name, food_type, address, zip_code])\n",
    "    df = pd.DataFrame.from_records(list, index='Name', columns=cols)\n",
    "print(f'Total Records: {len(df)}')\n",
    "df.head()\n",
    "        \n"
   ]
  },
  {
   "cell_type": "code",
   "execution_count": 5,
   "id": "450cd658",
   "metadata": {},
   "outputs": [
    {
     "data": {
      "text/plain": [
       "<bound method DataFrame.info of                                          Type                   Address  \\\n",
       "Name                                                                      \n",
       "(Two Hands,)                           hotdog     (9393 Bellaire Blvd,)   \n",
       "(Q Wings Seafood  & Boba,)      chicken_wings      (6715 Bissonnet St,)   \n",
       "(Jones Fried Chicken,)                  halal        (6633 Fondren Rd,)   \n",
       "(Calliope's,)                           cajun    (7590 W Bellfort Ave,)   \n",
       "(Chick-fil-A,)                        hotdogs        (7502 Fondren Rd,)   \n",
       "...                                       ...                       ...   \n",
       "(Wings Over Boston,)            chicken_wings     (325 Huntington Ave,)   \n",
       "(El Pelón Taquería,)                  mexican     (92 Peterborough St,)   \n",
       "(Beantown Taqueria,)                  tex-mex  (245 Massachusetts Ave,)   \n",
       "(Ma Magoo's Pizza & Sub Shop,)          pizza           (6 Concord Ln,)   \n",
       "(Chipotle Mexican Grill,)             mexican         (300 Needham St,)   \n",
       "\n",
       "                                Zip Code  \n",
       "Name                                      \n",
       "(Two Hands,)                    (77036,)  \n",
       "(Q Wings Seafood  & Boba,)      (77074,)  \n",
       "(Jones Fried Chicken,)          (77036,)  \n",
       "(Calliope's,)                   (77071,)  \n",
       "(Chick-fil-A,)                  (77074,)  \n",
       "...                                  ...  \n",
       "(Wings Over Boston,)            (02115,)  \n",
       "(El Pelón Taquería,)            (02215,)  \n",
       "(Beantown Taqueria,)            (02139,)  \n",
       "(Ma Magoo's Pizza & Sub Shop,)  (02138,)  \n",
       "(Chipotle Mexican Grill,)       (02464,)  \n",
       "\n",
       "[200 rows x 3 columns]>"
      ]
     },
     "metadata": {},
     "output_type": "display_data"
    },
    {
     "data": {
      "text/plain": [
       "<bound method NDFrame.describe of                                          Type                   Address  \\\n",
       "Name                                                                      \n",
       "(Two Hands,)                           hotdog     (9393 Bellaire Blvd,)   \n",
       "(Q Wings Seafood  & Boba,)      chicken_wings      (6715 Bissonnet St,)   \n",
       "(Jones Fried Chicken,)                  halal        (6633 Fondren Rd,)   \n",
       "(Calliope's,)                           cajun    (7590 W Bellfort Ave,)   \n",
       "(Chick-fil-A,)                        hotdogs        (7502 Fondren Rd,)   \n",
       "...                                       ...                       ...   \n",
       "(Wings Over Boston,)            chicken_wings     (325 Huntington Ave,)   \n",
       "(El Pelón Taquería,)                  mexican     (92 Peterborough St,)   \n",
       "(Beantown Taqueria,)                  tex-mex  (245 Massachusetts Ave,)   \n",
       "(Ma Magoo's Pizza & Sub Shop,)          pizza           (6 Concord Ln,)   \n",
       "(Chipotle Mexican Grill,)             mexican         (300 Needham St,)   \n",
       "\n",
       "                                Zip Code  \n",
       "Name                                      \n",
       "(Two Hands,)                    (77036,)  \n",
       "(Q Wings Seafood  & Boba,)      (77074,)  \n",
       "(Jones Fried Chicken,)          (77036,)  \n",
       "(Calliope's,)                   (77071,)  \n",
       "(Chick-fil-A,)                  (77074,)  \n",
       "...                                  ...  \n",
       "(Wings Over Boston,)            (02115,)  \n",
       "(El Pelón Taquería,)            (02215,)  \n",
       "(Beantown Taqueria,)            (02139,)  \n",
       "(Ma Magoo's Pizza & Sub Shop,)  (02138,)  \n",
       "(Chipotle Mexican Grill,)       (02464,)  \n",
       "\n",
       "[200 rows x 3 columns]>"
      ]
     },
     "metadata": {},
     "output_type": "display_data"
    }
   ],
   "source": [
    "display(df.info)\n",
    "display(df.describe)"
   ]
  },
  {
   "cell_type": "code",
   "execution_count": 6,
   "id": "9b35b0be",
   "metadata": {},
   "outputs": [],
   "source": [
    "def yelp_biz_function(zip):\n",
    "    # Define the API key, Endpoint, and Header\n",
    "    API_KEY = Yelp_API_Key\n",
    "    ENDPOINT = 'https://api.yelp.com/v3/businesses/search'\n",
    "    HEADERS = {'Authorization':'bearer %s' % API_KEY}\n",
    "\n",
    "    # Define the parameters of the query\n",
    "    PARAMETERS = {'term': 'fast food',\n",
    "                  'limit': 50,\n",
    "                  'radius': 8000,\n",
    "                  'location': zip,\n",
    "                  'offset': 50}\n",
    "\n",
    "    # Make a request to the Yelp API\n",
    "    response = requests.get(url = ENDPOINT, params = PARAMETERS, headers = HEADERS)\n",
    "\n",
    "    # convert JSON string to a dictionary\n",
    "    business_data = response.json()\n",
    "    \n",
    "    for biz in business_data['businesses']:\n",
    "        print(biz['name'],biz['location'])"
   ]
  },
  {
   "cell_type": "code",
   "execution_count": 7,
   "id": "93755885",
   "metadata": {},
   "outputs": [],
   "source": [
    "def get_restaurants():\n",
    "    for i in range(5):\n",
    "        yelp_biz_function('77051')"
   ]
  },
  {
   "cell_type": "code",
   "execution_count": 8,
   "id": "746f75b7",
   "metadata": {},
   "outputs": [
    {
     "ename": "NameError",
     "evalue": "name 'requests' is not defined",
     "output_type": "error",
     "traceback": [
      "\u001b[1;31m---------------------------------------------------------------------------\u001b[0m",
      "\u001b[1;31mNameError\u001b[0m                                 Traceback (most recent call last)",
      "\u001b[1;32m~\\AppData\\Local\\Temp\\ipykernel_1156\\1672908600.py\u001b[0m in \u001b[0;36m<module>\u001b[1;34m\u001b[0m\n\u001b[1;32m----> 1\u001b[1;33m \u001b[0mget_restaurants\u001b[0m\u001b[1;33m(\u001b[0m\u001b[1;33m)\u001b[0m\u001b[1;33m\u001b[0m\u001b[1;33m\u001b[0m\u001b[0m\n\u001b[0m",
      "\u001b[1;32m~\\AppData\\Local\\Temp\\ipykernel_1156\\2600037152.py\u001b[0m in \u001b[0;36mget_restaurants\u001b[1;34m()\u001b[0m\n\u001b[0;32m      1\u001b[0m \u001b[1;32mdef\u001b[0m \u001b[0mget_restaurants\u001b[0m\u001b[1;33m(\u001b[0m\u001b[1;33m)\u001b[0m\u001b[1;33m:\u001b[0m\u001b[1;33m\u001b[0m\u001b[1;33m\u001b[0m\u001b[0m\n\u001b[0;32m      2\u001b[0m     \u001b[1;32mfor\u001b[0m \u001b[0mi\u001b[0m \u001b[1;32min\u001b[0m \u001b[0mrange\u001b[0m\u001b[1;33m(\u001b[0m\u001b[1;36m5\u001b[0m\u001b[1;33m)\u001b[0m\u001b[1;33m:\u001b[0m\u001b[1;33m\u001b[0m\u001b[1;33m\u001b[0m\u001b[0m\n\u001b[1;32m----> 3\u001b[1;33m         \u001b[0myelp_biz_function\u001b[0m\u001b[1;33m(\u001b[0m\u001b[1;34m'77051'\u001b[0m\u001b[1;33m)\u001b[0m\u001b[1;33m\u001b[0m\u001b[1;33m\u001b[0m\u001b[0m\n\u001b[0m",
      "\u001b[1;32m~\\AppData\\Local\\Temp\\ipykernel_1156\\3217869028.py\u001b[0m in \u001b[0;36myelp_biz_function\u001b[1;34m(zip)\u001b[0m\n\u001b[0;32m     13\u001b[0m \u001b[1;33m\u001b[0m\u001b[0m\n\u001b[0;32m     14\u001b[0m     \u001b[1;31m# Make a request to the Yelp API\u001b[0m\u001b[1;33m\u001b[0m\u001b[1;33m\u001b[0m\u001b[1;33m\u001b[0m\u001b[0m\n\u001b[1;32m---> 15\u001b[1;33m     \u001b[0mresponse\u001b[0m \u001b[1;33m=\u001b[0m \u001b[0mrequests\u001b[0m\u001b[1;33m.\u001b[0m\u001b[0mget\u001b[0m\u001b[1;33m(\u001b[0m\u001b[0murl\u001b[0m \u001b[1;33m=\u001b[0m \u001b[0mENDPOINT\u001b[0m\u001b[1;33m,\u001b[0m \u001b[0mparams\u001b[0m \u001b[1;33m=\u001b[0m \u001b[0mPARAMETERS\u001b[0m\u001b[1;33m,\u001b[0m \u001b[0mheaders\u001b[0m \u001b[1;33m=\u001b[0m \u001b[0mHEADERS\u001b[0m\u001b[1;33m)\u001b[0m\u001b[1;33m\u001b[0m\u001b[1;33m\u001b[0m\u001b[0m\n\u001b[0m\u001b[0;32m     16\u001b[0m \u001b[1;33m\u001b[0m\u001b[0m\n\u001b[0;32m     17\u001b[0m     \u001b[1;31m# convert JSON string to a dictionary\u001b[0m\u001b[1;33m\u001b[0m\u001b[1;33m\u001b[0m\u001b[1;33m\u001b[0m\u001b[0m\n",
      "\u001b[1;31mNameError\u001b[0m: name 'requests' is not defined"
     ]
    }
   ],
   "source": [
    "get_restaurants()"
   ]
  },
  {
   "cell_type": "code",
   "execution_count": null,
   "id": "b539827e",
   "metadata": {},
   "outputs": [],
   "source": [
    "# Turn into dataframe\n",
    "\n",
    "cols = list(business_data['businesses'][0].keys())\n",
    "df = pd.DataFrame(columns=cols)\n",
    "for biz in business_data['businesses']:\n",
    "    df = df.append(biz, ignore_index=True)\n",
    "    df = df.drop(['id', 'categories','alias','image_url', 'is_closed', 'url', 'review_count', 'rating', 'transactions', 'phone', 'distance', 'display_phone', 'coordinates'],axis=1)\n",
    "df.head()"
   ]
  }
 ],
 "metadata": {
  "kernelspec": {
   "display_name": "Python 3 (ipykernel)",
   "language": "python",
   "name": "python3"
  },
  "language_info": {
   "codemirror_mode": {
    "name": "ipython",
    "version": 3
   },
   "file_extension": ".py",
   "mimetype": "text/x-python",
   "name": "python",
   "nbconvert_exporter": "python",
   "pygments_lexer": "ipython3",
   "version": "3.7.11"
  }
 },
 "nbformat": 4,
 "nbformat_minor": 5
}
