{
 "cells": [
  {
   "cell_type": "code",
   "execution_count": 18,
   "id": "19053995",
   "metadata": {},
   "outputs": [],
   "source": [
    "import numpy as np \n",
    "import chardet\n",
    "import pandas as pd \n",
    "import gmaps\n",
    "from config import g_key"
   ]
  },
  {
   "cell_type": "code",
   "execution_count": 19,
   "id": "d1035b3d",
   "metadata": {},
   "outputs": [],
   "source": [
    "# For Initial Pull of Raw Data\n",
    "with open('data/HH/kaggle_income.csv', 'rb') as f:\n",
    "    enc = chardet.detect(f.read())\n",
    "US_HH_Income_df = pd.read_csv('data/HH/kaggle_income.csv', encoding = enc['encoding'])"
   ]
  },
  {
   "cell_type": "code",
   "execution_count": null,
   "id": "e5d35824",
   "metadata": {},
   "outputs": [],
   "source": [
    "nRow, nCol = US_HH_Income_df.shape\n",
    "print(f'There are {nRow} rows and {nCol} columns')"
   ]
  },
  {
   "cell_type": "code",
   "execution_count": null,
   "id": "7a3a892f",
   "metadata": {},
   "outputs": [],
   "source": [
    "US_HH_Income_df.dtypes"
   ]
  },
  {
   "cell_type": "code",
   "execution_count": null,
   "id": "f53763c6",
   "metadata": {
    "scrolled": true
   },
   "outputs": [],
   "source": [
    "US_HH_Income_df.columns.tolist()"
   ]
  },
  {
   "cell_type": "code",
   "execution_count": 20,
   "id": "97e01c75",
   "metadata": {},
   "outputs": [],
   "source": [
    "# Cleaning the data\n",
    "\n",
    "# Drop unwanted columns\n",
    "US_HH_Income_df = US_HH_Income_df.drop([\"id\",'State_Code','State_Name','County','Place','Type','Primary','Area_Code','ALand','AWater','Mean','sum_w'], axis = 1)\n",
    "\n",
    "# Drop duplicate Zip Codes\n",
    "US_HH_Income_df = US_HH_Income_df.drop_duplicates([\"Zip_Code\"])\n",
    "\n",
    "# Drop PR and DC from DataFrame\n",
    "US_HH_Income_df = US_HH_Income_df[US_HH_Income_df['State_ab'] != 'PR']\n",
    "US_HH_Income_df = US_HH_Income_df[US_HH_Income_df['State_ab'] != 'DC']\n",
    "\n",
    "# Drop null values\n",
    "US_HH_Income_df= US_HH_Income_df.dropna()\n",
    "\n",
    "# Pad zip codes with fewer than 5 numbers with leading zeros\n",
    "US_HH_Income_df['Zip_Code'] = US_HH_Income_df['Zip_Code'].map(\"{:05d}\".format)"
   ]
  },
  {
   "cell_type": "code",
   "execution_count": 21,
   "id": "54b9a49d",
   "metadata": {},
   "outputs": [],
   "source": [
    "US_HH_Income_df = US_HH_Income_df.set_index('State_ab')"
   ]
  },
  {
   "cell_type": "code",
   "execution_count": null,
   "id": "f7082b1f",
   "metadata": {},
   "outputs": [],
   "source": [
    "US_HH_Income_df"
   ]
  },
  {
   "cell_type": "code",
   "execution_count": null,
   "id": "c721591e",
   "metadata": {},
   "outputs": [],
   "source": [
    "#US_HH_Income_df.to_csv('data/cleaned_HH_Income.csv', sep = ',', header = True)"
   ]
  },
  {
   "cell_type": "code",
   "execution_count": null,
   "id": "81816212",
   "metadata": {},
   "outputs": [],
   "source": [
    "#US_HH_Income_df.to_csv('data/cleaned_HH_Income_Zips_List.csv', columns = [\"Zip_Code\"], header = True)"
   ]
  },
  {
   "cell_type": "code",
   "execution_count": 22,
   "id": "d0eb3759",
   "metadata": {},
   "outputs": [],
   "source": [
    "# Configure gmaps to use your Google API key.\n",
    "gmaps.configure(api_key=g_key)"
   ]
  },
  {
   "cell_type": "code",
   "execution_count": 23,
   "id": "3ff56f46",
   "metadata": {},
   "outputs": [],
   "source": [
    "# Get the latitude and longitude of the eight selected states.\n",
    "marker_locations = US_HH_Income_df.loc[['CA', 'CO', 'FL', 'IL', 'NY', 'TN', 'TX', 'VA'], ['Lat','Lon']]"
   ]
  },
  {
   "cell_type": "code",
   "execution_count": 24,
   "id": "0c0917d6",
   "metadata": {},
   "outputs": [
    {
     "data": {
      "text/html": [
       "<div>\n",
       "<style scoped>\n",
       "    .dataframe tbody tr th:only-of-type {\n",
       "        vertical-align: middle;\n",
       "    }\n",
       "\n",
       "    .dataframe tbody tr th {\n",
       "        vertical-align: top;\n",
       "    }\n",
       "\n",
       "    .dataframe thead th {\n",
       "        text-align: right;\n",
       "    }\n",
       "</style>\n",
       "<table border=\"1\" class=\"dataframe\">\n",
       "  <thead>\n",
       "    <tr style=\"text-align: right;\">\n",
       "      <th></th>\n",
       "      <th>Lat</th>\n",
       "      <th>Lon</th>\n",
       "    </tr>\n",
       "    <tr>\n",
       "      <th>State_ab</th>\n",
       "      <th></th>\n",
       "      <th></th>\n",
       "    </tr>\n",
       "  </thead>\n",
       "  <tbody>\n",
       "    <tr>\n",
       "      <th>CA</th>\n",
       "      <td>41.199312</td>\n",
       "      <td>-120.956779</td>\n",
       "    </tr>\n",
       "    <tr>\n",
       "      <th>CA</th>\n",
       "      <td>40.161347</td>\n",
       "      <td>-123.615729</td>\n",
       "    </tr>\n",
       "    <tr>\n",
       "      <th>CA</th>\n",
       "      <td>32.842286</td>\n",
       "      <td>-116.756044</td>\n",
       "    </tr>\n",
       "    <tr>\n",
       "      <th>CA</th>\n",
       "      <td>36.959483</td>\n",
       "      <td>-121.781739</td>\n",
       "    </tr>\n",
       "    <tr>\n",
       "      <th>CA</th>\n",
       "      <td>36.991147</td>\n",
       "      <td>-121.892758</td>\n",
       "    </tr>\n",
       "    <tr>\n",
       "      <th>...</th>\n",
       "      <td>...</td>\n",
       "      <td>...</td>\n",
       "    </tr>\n",
       "    <tr>\n",
       "      <th>VA</th>\n",
       "      <td>39.096696</td>\n",
       "      <td>-77.650343</td>\n",
       "    </tr>\n",
       "    <tr>\n",
       "      <th>VA</th>\n",
       "      <td>37.145192</td>\n",
       "      <td>-80.256589</td>\n",
       "    </tr>\n",
       "    <tr>\n",
       "      <th>VA</th>\n",
       "      <td>38.244527</td>\n",
       "      <td>-77.977450</td>\n",
       "    </tr>\n",
       "    <tr>\n",
       "      <th>VA</th>\n",
       "      <td>36.765792</td>\n",
       "      <td>-80.237710</td>\n",
       "    </tr>\n",
       "    <tr>\n",
       "      <th>VA</th>\n",
       "      <td>38.601336</td>\n",
       "      <td>-77.306730</td>\n",
       "    </tr>\n",
       "  </tbody>\n",
       "</table>\n",
       "<p>5121 rows × 2 columns</p>\n",
       "</div>"
      ],
      "text/plain": [
       "                Lat         Lon\n",
       "State_ab                       \n",
       "CA        41.199312 -120.956779\n",
       "CA        40.161347 -123.615729\n",
       "CA        32.842286 -116.756044\n",
       "CA        36.959483 -121.781739\n",
       "CA        36.991147 -121.892758\n",
       "...             ...         ...\n",
       "VA        39.096696  -77.650343\n",
       "VA        37.145192  -80.256589\n",
       "VA        38.244527  -77.977450\n",
       "VA        36.765792  -80.237710\n",
       "VA        38.601336  -77.306730\n",
       "\n",
       "[5121 rows x 2 columns]"
      ]
     },
     "execution_count": 24,
     "metadata": {},
     "output_type": "execute_result"
    }
   ],
   "source": [
    "marker_locations"
   ]
  },
  {
   "cell_type": "code",
   "execution_count": 25,
   "id": "2005587c",
   "metadata": {},
   "outputs": [
    {
     "data": {
      "application/vnd.jupyter.widget-view+json": {
       "model_id": "9c6962d63cae405f829fa0bd54b26080",
       "version_major": 2,
       "version_minor": 0
      },
      "text/plain": [
       "Figure(layout=FigureLayout(height='420px'))"
      ]
     },
     "metadata": {},
     "output_type": "display_data"
    }
   ],
   "source": [
    "zips_layer = gmaps.symbol_layer(\n",
    "    marker_locations, fill_color='purple', stroke_color='purple', scale=2\n",
    ")\n",
    "fig = gmaps.figure()\n",
    "fig.add_layer(zips_layer)\n",
    "fig"
   ]
  },
  {
   "cell_type": "code",
   "execution_count": null,
   "id": "c91ed077",
   "metadata": {},
   "outputs": [],
   "source": []
  },
  {
   "cell_type": "code",
   "execution_count": null,
   "id": "04c8a39a",
   "metadata": {},
   "outputs": [],
   "source": []
  },
  {
   "cell_type": "code",
   "execution_count": null,
   "id": "fc5f46f2",
   "metadata": {},
   "outputs": [],
   "source": [
    "\n"
   ]
  }
 ],
 "metadata": {
  "kernelspec": {
   "display_name": "PythonData",
   "language": "python",
   "name": "pythondata"
  },
  "language_info": {
   "codemirror_mode": {
    "name": "ipython",
    "version": 3
   },
   "file_extension": ".py",
   "mimetype": "text/x-python",
   "name": "python",
   "nbconvert_exporter": "python",
   "pygments_lexer": "ipython3",
   "version": "3.9.7"
  }
 },
 "nbformat": 4,
 "nbformat_minor": 5
}
