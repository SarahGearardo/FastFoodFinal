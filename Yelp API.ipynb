{
 "cells": [
  {
   "cell_type": "code",
   "execution_count": 2,
   "id": "a84ec978",
   "metadata": {},
   "outputs": [],
   "source": [
    "#Import\n",
    "#Module 6/World Weather \n",
    "\n",
    "import requests\n",
    "from config import API_Key"
   ]
  },
  {
   "cell_type": "code",
   "execution_count": 92,
   "id": "d914e885",
   "metadata": {},
   "outputs": [
    {
     "name": "stdout",
     "output_type": "stream",
     "text": [
      "dict_keys(['businesses', 'total', 'region'])\n"
     ]
    }
   ],
   "source": [
    "#Define API key, endpoint, header\n",
    "API_Key = API_Key\n",
    "Endpoint = 'https://api.yelp.com/v3/businesses/search'\n",
    "Headers = {'Authorization': 'bearer %s' %API_Key}\n",
    "\n",
    "#Define parameters\n",
    "Parameters = {'term':'fast food',\n",
    "             'location': 'cleveland'}\n",
    "\n",
    "#Yelp request\n",
    "response = requests.get(url=Endpoint, params = Parameters, headers = Headers)\n",
    "\n",
    "#Covert json to dictionary\n",
    "business_data = response.json()\n",
    "\n",
    "print(business_data.keys())\n"
   ]
  },
  {
   "cell_type": "code",
   "execution_count": 93,
   "id": "5e57a72e",
   "metadata": {},
   "outputs": [
    {
     "name": "stdout",
     "output_type": "stream",
     "text": [
      "Potbelly Sandwich Shop\n",
      "{'address1': '515 Euclid Ave', 'address2': '', 'address3': '', 'city': 'Cleveland', 'zip_code': '44114', 'country': 'US', 'state': 'OH', 'display_address': ['515 Euclid Ave', 'Cleveland, OH 44114']}\n",
      "The Crispy Chick\n",
      "{'address1': '5618 Woodland Ave', 'address2': '', 'address3': None, 'city': 'Cleveland', 'zip_code': '44104', 'country': 'US', 'state': 'OH', 'display_address': ['5618 Woodland Ave', 'Cleveland, OH 44104']}\n",
      "Guthrie's Chicken Fingers\n",
      "{'address1': '3465 Steelyard Dr', 'address2': '', 'address3': '', 'city': 'Cleveland', 'zip_code': '44109', 'country': 'US', 'state': 'OH', 'display_address': ['3465 Steelyard Dr', 'Cleveland, OH 44109']}\n",
      "Swensons Drive-In\n",
      "{'address1': '14510 Cedar Rd', 'address2': '', 'address3': None, 'city': 'Cleveland', 'zip_code': '44122', 'country': 'US', 'state': 'OH', 'display_address': ['14510 Cedar Rd', 'Cleveland, OH 44122']}\n",
      "Chicken Ranch\n",
      "{'address1': '13892 Cedar Rd', 'address2': None, 'address3': '', 'city': 'University Heights', 'zip_code': '44118', 'country': 'US', 'state': 'OH', 'display_address': ['13892 Cedar Rd', 'University Heights, OH 44118']}\n",
      "Wahlburgers\n",
      "{'address1': '2105 Ontario St', 'address2': '-', 'address3': None, 'city': 'Cleveland', 'zip_code': '44115', 'country': 'US', 'state': 'OH', 'display_address': ['2105 Ontario St', '-', 'Cleveland, OH 44115']}\n",
      "Shake Shack\n",
      "{'address1': '601 Euclid Ave', 'address2': '', 'address3': '', 'city': 'Cleveland', 'zip_code': '44113', 'country': 'US', 'state': 'OH', 'display_address': ['601 Euclid Ave', 'Cleveland, OH 44113']}\n",
      "Ohio City Burrito\n",
      "{'address1': '1844 W 25th St', 'address2': '', 'address3': '', 'city': 'Cleveland', 'zip_code': '44113', 'country': 'US', 'state': 'OH', 'display_address': ['1844 W 25th St', 'Cleveland, OH 44113']}\n",
      "Steak ’n Shake\n",
      "{'address1': '3294 Steelyard Dr', 'address2': '', 'address3': '', 'city': 'Cleveland', 'zip_code': '44109', 'country': 'US', 'state': 'OH', 'display_address': ['3294 Steelyard Dr', 'Cleveland, OH 44109']}\n",
      "Bonchon Seven Hills\n",
      "{'address1': '7581 Broadview Rd', 'address2': '', 'address3': None, 'city': 'Seven Hills', 'zip_code': '44131', 'country': 'US', 'state': 'OH', 'display_address': ['7581 Broadview Rd', 'Seven Hills, OH 44131']}\n",
      "Swensons Drive-In\n",
      "{'address1': '7635 Broadview Rd', 'address2': '', 'address3': '', 'city': 'Seven Hills', 'zip_code': '44131', 'country': 'US', 'state': 'OH', 'display_address': ['7635 Broadview Rd', 'Seven Hills, OH 44131']}\n",
      "Seti's Polish Boys\n",
      "{'address1': 'W 4242 Lorain Ave', 'address2': '', 'address3': '', 'city': 'Cleveland', 'zip_code': '44113', 'country': 'US', 'state': 'OH', 'display_address': ['W 4242 Lorain Ave', 'Cleveland, OH 44113']}\n",
      "Barrio\n",
      "{'address1': '806 Literary Rd', 'address2': '', 'address3': '', 'city': 'Cleveland', 'zip_code': '44113', 'country': 'US', 'state': 'OH', 'display_address': ['806 Literary Rd', 'Cleveland, OH 44113']}\n",
      "Raising Cane's Chicken Fingers\n",
      "{'address1': '14115 Detroit Ave', 'address2': '', 'address3': None, 'city': 'Lakewood', 'zip_code': '44105', 'country': 'US', 'state': 'OH', 'display_address': ['14115 Detroit Ave', 'Lakewood, OH 44105']}\n",
      "Boney Fingers BBQ\n",
      "{'address1': '1800 Euclid Ave', 'address2': 'Ste 3', 'address3': '', 'city': 'Cleveland', 'zip_code': '44115', 'country': 'US', 'state': 'OH', 'display_address': ['1800 Euclid Ave', 'Ste 3', 'Cleveland, OH 44115']}\n",
      "Barrio\n",
      "{'address1': '527 Prospect Ave', 'address2': '', 'address3': None, 'city': 'Cleveland', 'zip_code': '44115', 'country': 'US', 'state': 'OH', 'display_address': ['527 Prospect Ave', 'Cleveland, OH 44115']}\n",
      "Happy Dog\n",
      "{'address1': '5801 Detroit Ave', 'address2': '', 'address3': '', 'city': 'Cleveland', 'zip_code': '44102', 'country': 'US', 'state': 'OH', 'display_address': ['5801 Detroit Ave', 'Cleveland, OH 44102']}\n",
      "Wendy's\n",
      "{'address1': '2937 Lorain Rd.', 'address2': '', 'address3': '', 'city': 'Cleveland', 'zip_code': '44113', 'country': 'US', 'state': 'OH', 'display_address': ['2937 Lorain Rd.', 'Cleveland, OH 44113']}\n",
      "Five Guys\n",
      "{'address1': '3273 Steelyard Dr', 'address2': '', 'address3': '', 'city': 'Cleveland', 'zip_code': '44109', 'country': 'US', 'state': 'OH', 'display_address': ['3273 Steelyard Dr', 'Cleveland, OH 44109']}\n",
      "McDonald's\n",
      "{'address1': '1540 E 55th St', 'address2': '', 'address3': '', 'city': 'Cleveland', 'zip_code': '44103', 'country': 'US', 'state': 'OH', 'display_address': ['1540 E 55th St', 'Cleveland, OH 44103']}\n"
     ]
    }
   ],
   "source": [
    "for biz in business_data['businesses']:\n",
    "    print(biz['name']),print(biz['location'])"
   ]
  },
  {
   "cell_type": "code",
   "execution_count": null,
   "id": "a251df3a",
   "metadata": {},
   "outputs": [],
   "source": []
  },
  {
   "cell_type": "code",
   "execution_count": null,
   "id": "71894833",
   "metadata": {},
   "outputs": [],
   "source": []
  }
 ],
 "metadata": {
  "kernelspec": {
   "display_name": "Python 3 (ipykernel)",
   "language": "python",
   "name": "python3"
  },
  "language_info": {
   "codemirror_mode": {
    "name": "ipython",
    "version": 3
   },
   "file_extension": ".py",
   "mimetype": "text/x-python",
   "name": "python",
   "nbconvert_exporter": "python",
   "pygments_lexer": "ipython3",
   "version": "3.9.7"
  }
 },
 "nbformat": 4,
 "nbformat_minor": 5
}
