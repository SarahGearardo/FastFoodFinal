{
 "cells": [
  {
   "cell_type": "code",
   "execution_count": 1,
   "id": "48ee9de4",
   "metadata": {},
   "outputs": [],
   "source": [
    "# Import the requests library.\n",
    "import requests\n",
    "import pandas as pd\n",
    "\n",
    "# Import the API key.\n",
    "from config import Yelp_API_Key"
   ]
  },
  {
   "cell_type": "code",
   "execution_count": 2,
   "id": "dcc26c92",
   "metadata": {},
   "outputs": [
    {
     "name": "stdout",
     "output_type": "stream",
     "text": [
      "{'businesses': [{'id': '5Odx-ZRX1BtvR8rR4yJa0A', 'alias': 'jack-in-the-box-houston-85', 'name': 'Jack in the Box', 'image_url': 'https://s3-media4.fl.yelpcdn.com/bphoto/bcHxP-dNHPytWmIcCKTGuQ/o.jpg', 'is_closed': False, 'url': 'https://www.yelp.com/biz/jack-in-the-box-houston-85?adjust_creative=XzK19ZTiN3mgGdqg5oa27w&utm_campaign=yelp_api_v3&utm_medium=api_v3_business_search&utm_source=XzK19ZTiN3mgGdqg5oa27w', 'review_count': 20, 'categories': [{'alias': 'hotdogs', 'title': 'Fast Food'}, {'alias': 'burgers', 'title': 'Burgers'}, {'alias': 'tacos', 'title': 'Tacos'}], 'rating': 2.0, 'coordinates': {'latitude': 29.687365359647604, 'longitude': -95.49274697899824}, 'transactions': ['delivery'], 'price': '$', 'location': {'address1': '8410 Hillcroft St', 'address2': '', 'address3': '', 'city': 'Houston', 'zip_code': '77096', 'country': 'US', 'state': 'TX', 'display_address': ['8410 Hillcroft St', 'Houston, TX 77096']}, 'phone': '+19794847994', 'display_phone': '(979) 484-7994', 'distance': 2079.12143225935}, {'id': 'gh4xsHOJj3cYOBg4DP_4qQ', 'alias': 'fajita-petes-bellaire-houston-2', 'name': \"Fajita Pete's - Bellaire\", 'image_url': 'https://s3-media1.fl.yelpcdn.com/bphoto/kctZNuW8irutjWbhEvC46w/o.jpg', 'is_closed': False, 'url': 'https://www.yelp.com/biz/fajita-petes-bellaire-houston-2?adjust_creative=XzK19ZTiN3mgGdqg5oa27w&utm_campaign=yelp_api_v3&utm_medium=api_v3_business_search&utm_source=XzK19ZTiN3mgGdqg5oa27w', 'review_count': 205, 'categories': [{'alias': 'mexican', 'title': 'Mexican'}, {'alias': 'tex-mex', 'title': 'Tex-Mex'}], 'rating': 4.0, 'coordinates': {'latitude': 29.7068578624641, 'longitude': -95.4408636465496}, 'transactions': ['pickup', 'delivery'], 'price': '$$', 'location': {'address1': '6719 Weslayan St', 'address2': '', 'address3': '', 'city': 'Houston', 'zip_code': '77005', 'country': 'US', 'state': 'TX', 'display_address': ['6719 Weslayan St', 'Houston, TX 77005']}, 'phone': '+17137238100', 'display_phone': '(713) 723-8100', 'distance': 5192.916323086528}, {'id': 'U_C7225NikDjhWiTJNhTDQ', 'alias': 'texas-hamburger-palace-houston-2', 'name': 'Texas Hamburger Palace', 'image_url': 'https://s3-media4.fl.yelpcdn.com/bphoto/JOIlLNVPaQsw2OsjTQtiUA/o.jpg', 'is_closed': False, 'url': 'https://www.yelp.com/biz/texas-hamburger-palace-houston-2?adjust_creative=XzK19ZTiN3mgGdqg5oa27w&utm_campaign=yelp_api_v3&utm_medium=api_v3_business_search&utm_source=XzK19ZTiN3mgGdqg5oa27w', 'review_count': 122, 'categories': [{'alias': 'burgers', 'title': 'Burgers'}], 'rating': 4.0, 'coordinates': {'latitude': 29.7184188763393, 'longitude': -95.5483249018524}, 'transactions': ['pickup', 'delivery'], 'price': '$', 'location': {'address1': '5757 Ranchester Dr', 'address2': '', 'address3': None, 'city': 'Houston', 'zip_code': '77036', 'country': 'US', 'state': 'TX', 'display_address': ['5757 Ranchester Dr', 'Houston, TX 77036']}, 'phone': '+17139815151', 'display_phone': '(713) 981-5151', 'distance': 8405.070045062505}, {'id': 'aVIilWig257viPrNI_Ivpw', 'alias': 'whataburger-houston-49', 'name': 'Whataburger', 'image_url': 'https://s3-media2.fl.yelpcdn.com/bphoto/Na9paA-hYhcahai_uZho6Q/o.jpg', 'is_closed': False, 'url': 'https://www.yelp.com/biz/whataburger-houston-49?adjust_creative=XzK19ZTiN3mgGdqg5oa27w&utm_campaign=yelp_api_v3&utm_medium=api_v3_business_search&utm_source=XzK19ZTiN3mgGdqg5oa27w', 'review_count': 75, 'categories': [{'alias': 'hotdogs', 'title': 'Fast Food'}, {'alias': 'burgers', 'title': 'Burgers'}], 'rating': 3.0, 'coordinates': {'latitude': 29.67674479066751, 'longitude': -95.42754939079}, 'transactions': ['delivery'], 'price': '$', 'location': {'address1': '9955 Main St', 'address2': '', 'address3': '', 'city': 'Houston', 'zip_code': '77025', 'country': 'US', 'state': 'TX', 'display_address': ['9955 Main St', 'Houston, TX 77025']}, 'phone': '+17136614094', 'display_phone': '(713) 661-4094', 'distance': 4926.686469264577}, {'id': 'Fnw1x13LGMOQEqfETga7RA', 'alias': 'burger-chan-houston-3', 'name': 'burger-chan', 'image_url': 'https://s3-media4.fl.yelpcdn.com/bphoto/wVRtuoDtUzSQBTVyjLLkZQ/o.jpg', 'is_closed': False, 'url': 'https://www.yelp.com/biz/burger-chan-houston-3?adjust_creative=XzK19ZTiN3mgGdqg5oa27w&utm_campaign=yelp_api_v3&utm_medium=api_v3_business_search&utm_source=XzK19ZTiN3mgGdqg5oa27w', 'review_count': 47, 'categories': [{'alias': 'burgers', 'title': 'Burgers'}, {'alias': 'tradamerican', 'title': 'American (Traditional)'}, {'alias': 'hotdog', 'title': 'Hot Dogs'}], 'rating': 5.0, 'coordinates': {'latitude': 29.737458, 'longitude': -95.469555}, 'transactions': [], 'price': '$$', 'location': {'address1': '5353 W Alabama St', 'address2': 'Ste 110', 'address3': None, 'city': 'Houston', 'zip_code': '77056', 'country': 'US', 'state': 'TX', 'display_address': ['5353 W Alabama St', 'Ste 110', 'Houston, TX 77056']}, 'phone': '+18324080860', 'display_phone': '(832) 408-0860', 'distance': 7183.843578712789}, {'id': 'OdAC92_WUTFCcoAqGR33kQ', 'alias': 'southwells-hamburger-grill-houston-2', 'name': \"Southwell's Hamburger Grill\", 'image_url': 'https://s3-media4.fl.yelpcdn.com/bphoto/yySrxq6FFgoUjHp3_UADMA/o.jpg', 'is_closed': False, 'url': 'https://www.yelp.com/biz/southwells-hamburger-grill-houston-2?adjust_creative=XzK19ZTiN3mgGdqg5oa27w&utm_campaign=yelp_api_v3&utm_medium=api_v3_business_search&utm_source=XzK19ZTiN3mgGdqg5oa27w', 'review_count': 198, 'categories': [{'alias': 'burgers', 'title': 'Burgers'}, {'alias': 'hotdog', 'title': 'Hot Dogs'}, {'alias': 'sandwiches', 'title': 'Sandwiches'}], 'rating': 4.0, 'coordinates': {'latitude': 29.7064049, 'longitude': -95.41164}, 'transactions': ['delivery'], 'price': '$$', 'location': {'address1': '2252 W Holcombe Blvd', 'address2': '', 'address3': '', 'city': 'Houston', 'zip_code': '77030', 'country': 'US', 'state': 'TX', 'display_address': ['2252 W Holcombe Blvd', 'Houston, TX 77030']}, 'phone': '+17136644959', 'display_phone': '(713) 664-4959', 'distance': 7431.347867538477}, {'id': '-Y5gYbTA-9LKOKysyk8-ng', 'alias': 'whataburger-houston-46', 'name': 'Whataburger', 'image_url': 'https://s3-media2.fl.yelpcdn.com/bphoto/NAw9rNb4Tm_F8xFtTJUgIw/o.jpg', 'is_closed': False, 'url': 'https://www.yelp.com/biz/whataburger-houston-46?adjust_creative=XzK19ZTiN3mgGdqg5oa27w&utm_campaign=yelp_api_v3&utm_medium=api_v3_business_search&utm_source=XzK19ZTiN3mgGdqg5oa27w', 'review_count': 26, 'categories': [{'alias': 'burgers', 'title': 'Burgers'}, {'alias': 'hotdogs', 'title': 'Fast Food'}], 'rating': 2.0, 'coordinates': {'latitude': 29.655632640061892, 'longitude': -95.510533}, 'transactions': ['delivery'], 'price': '$', 'location': {'address1': '7629 W Bellfort St', 'address2': '', 'address3': '', 'city': 'Houston', 'zip_code': '77071', 'country': 'US', 'state': 'TX', 'display_address': ['7629 W Bellfort St', 'Houston, TX 77071']}, 'phone': '+17137298025', 'display_phone': '(713) 729-8025', 'distance': 3681.543495724447}, {'id': 'r6Su47CkkWGWVJsKrNxYCQ', 'alias': 'chick-fil-a-houston-56', 'name': 'Chick-fil-A', 'image_url': 'https://s3-media1.fl.yelpcdn.com/bphoto/J9t3TKtHCVohxKbVuxlaFQ/o.jpg', 'is_closed': False, 'url': 'https://www.yelp.com/biz/chick-fil-a-houston-56?adjust_creative=XzK19ZTiN3mgGdqg5oa27w&utm_campaign=yelp_api_v3&utm_medium=api_v3_business_search&utm_source=XzK19ZTiN3mgGdqg5oa27w', 'review_count': 38, 'categories': [{'alias': 'hotdogs', 'title': 'Fast Food'}, {'alias': 'chickenshop', 'title': 'Chicken Shop'}], 'rating': 3.5, 'coordinates': {'latitude': 29.7390231, 'longitude': -95.4630836}, 'transactions': ['delivery'], 'price': '$', 'location': {'address1': '5015 Westheimer Rd', 'address2': 'Ste 1330', 'address3': '', 'city': 'Houston', 'zip_code': '77056', 'country': 'US', 'state': 'TX', 'display_address': ['5015 Westheimer Rd', 'Ste 1330', 'Houston, TX 77056']}, 'phone': '+17138408810', 'display_phone': '(713) 840-8810', 'distance': 7442.443835996579}, {'id': '6IyhtBrdULyP5smHnJW_rg', 'alias': 'the-stuffed-baked-potato-factory-houston-3', 'name': 'The Stuffed Baked Potato Factory', 'image_url': 'https://s3-media4.fl.yelpcdn.com/bphoto/FD3uzulBE0Qvl-Rd966FAw/o.jpg', 'is_closed': False, 'url': 'https://www.yelp.com/biz/the-stuffed-baked-potato-factory-houston-3?adjust_creative=XzK19ZTiN3mgGdqg5oa27w&utm_campaign=yelp_api_v3&utm_medium=api_v3_business_search&utm_source=XzK19ZTiN3mgGdqg5oa27w', 'review_count': 140, 'categories': [{'alias': 'comfortfood', 'title': 'Comfort Food'}, {'alias': 'sandwiches', 'title': 'Sandwiches'}, {'alias': 'seafood', 'title': 'Seafood'}], 'rating': 3.5, 'coordinates': {'latitude': 29.6125730417702, 'longitude': -95.4462454114841}, 'transactions': ['pickup', 'delivery'], 'price': '$', 'location': {'address1': '14708 Hiram Clarke Rd', 'address2': '', 'address3': None, 'city': 'Houston', 'zip_code': '77053', 'country': 'US', 'state': 'TX', 'display_address': ['14708 Hiram Clarke Rd', 'Houston, TX 77053']}, 'phone': '+12815012270', 'display_phone': '(281) 501-2270', 'distance': 7446.133262690589}, {'id': 'ynJVQdicFBOkU4UE1evf-w', 'alias': 'popeyes-louisiana-kitchen-houston-9', 'name': 'Popeyes Louisiana Kitchen', 'image_url': 'https://s3-media2.fl.yelpcdn.com/bphoto/rSyR9OB_unKHG7ItHyj6lw/o.jpg', 'is_closed': False, 'url': 'https://www.yelp.com/biz/popeyes-louisiana-kitchen-houston-9?adjust_creative=XzK19ZTiN3mgGdqg5oa27w&utm_campaign=yelp_api_v3&utm_medium=api_v3_business_search&utm_source=XzK19ZTiN3mgGdqg5oa27w', 'review_count': 28, 'categories': [{'alias': 'hotdogs', 'title': 'Fast Food'}, {'alias': 'chicken_wings', 'title': 'Chicken Wings'}], 'rating': 2.5, 'coordinates': {'latitude': 29.70519, 'longitude': -95.48147}, 'transactions': ['pickup', 'delivery'], 'price': '$', 'location': {'address1': '5721 Bellaire Blvd', 'address2': '', 'address3': '', 'city': 'Houston', 'zip_code': '77081', 'country': 'US', 'state': 'TX', 'display_address': ['5721 Bellaire Blvd', 'Houston, TX 77081']}, 'phone': '+17136664422', 'display_phone': '(713) 666-4422', 'distance': 3531.661999083223}, {'id': 'mMUPanRGVEF6X6w5JiGZiw', 'alias': 'potbelly-sandwich-shop-west-university-place', 'name': 'Potbelly Sandwich Shop', 'image_url': 'https://s3-media2.fl.yelpcdn.com/bphoto/P0327iMQb32GdO25ZBoZNg/o.jpg', 'is_closed': False, 'url': 'https://www.yelp.com/biz/potbelly-sandwich-shop-west-university-place?adjust_creative=XzK19ZTiN3mgGdqg5oa27w&utm_campaign=yelp_api_v3&utm_medium=api_v3_business_search&utm_source=XzK19ZTiN3mgGdqg5oa27w', 'review_count': 75, 'categories': [{'alias': 'sandwiches', 'title': 'Sandwiches'}], 'rating': 3.5, 'coordinates': {'latitude': 29.7202885330271, 'longitude': -95.4188162039383}, 'transactions': ['pickup', 'delivery'], 'price': '$', 'location': {'address1': '5800 Kirby Dr', 'address2': '', 'address3': '', 'city': 'West University Place', 'zip_code': '77005', 'country': 'US', 'state': 'TX', 'display_address': ['5800 Kirby Dr', 'West University Place, TX 77005']}, 'phone': '+17133439106', 'display_phone': '(713) 343-9106', 'distance': 7763.740605162484}, {'id': 'mFZHvcHK8IXCmuQL3yLPSQ', 'alias': 'mcdonalds-houston-135', 'name': \"McDonald's\", 'image_url': 'https://s3-media1.fl.yelpcdn.com/bphoto/r_V0V9b9I6bmdr80e6Hkfw/o.jpg', 'is_closed': False, 'url': 'https://www.yelp.com/biz/mcdonalds-houston-135?adjust_creative=XzK19ZTiN3mgGdqg5oa27w&utm_campaign=yelp_api_v3&utm_medium=api_v3_business_search&utm_source=XzK19ZTiN3mgGdqg5oa27w', 'review_count': 42, 'categories': [{'alias': 'hotdogs', 'title': 'Fast Food'}, {'alias': 'burgers', 'title': 'Burgers'}, {'alias': 'coffee', 'title': 'Coffee & Tea'}], 'rating': 1.5, 'coordinates': {'latitude': 29.6888639, 'longitude': -95.4581228597158}, 'transactions': ['delivery'], 'price': '$', 'location': {'address1': '4643 Beechnut St', 'address2': '', 'address3': '', 'city': 'Houston', 'zip_code': '77096', 'country': 'US', 'state': 'TX', 'display_address': ['4643 Beechnut St', 'Houston, TX 77096']}, 'phone': '+17136649644', 'display_phone': '(713) 664-9644', 'distance': 2604.6084967923034}, {'id': '8STDO5TWvfIN71APSZDDwg', 'alias': 'whataburger-houston-14', 'name': 'Whataburger', 'image_url': 'https://s3-media1.fl.yelpcdn.com/bphoto/mIKUgTBUAIVMwojbDOMlKA/o.jpg', 'is_closed': False, 'url': 'https://www.yelp.com/biz/whataburger-houston-14?adjust_creative=XzK19ZTiN3mgGdqg5oa27w&utm_campaign=yelp_api_v3&utm_medium=api_v3_business_search&utm_source=XzK19ZTiN3mgGdqg5oa27w', 'review_count': 40, 'categories': [{'alias': 'hotdogs', 'title': 'Fast Food'}, {'alias': 'burgers', 'title': 'Burgers'}], 'rating': 2.5, 'coordinates': {'latitude': 29.61570709158856, 'longitude': -95.4963344335556}, 'transactions': ['delivery'], 'price': '$', 'location': {'address1': '7418 S Sam Houston Pkwy W', 'address2': None, 'address3': None, 'city': 'Houston', 'zip_code': '77085', 'country': 'US', 'state': 'TX', 'display_address': ['7418 S Sam Houston Pkwy W', 'Houston, TX 77085']}, 'phone': '+17132831070', 'display_phone': '(713) 283-1070', 'distance': 6648.044952905815}, {'id': '4Nz_0oRBR-iPMDV9sL6lWw', 'alias': 'checkers-houston-19', 'name': 'Checkers', 'image_url': 'https://s3-media1.fl.yelpcdn.com/bphoto/mwd3Sbbt9sTzv_U68S6u3Q/o.jpg', 'is_closed': False, 'url': 'https://www.yelp.com/biz/checkers-houston-19?adjust_creative=XzK19ZTiN3mgGdqg5oa27w&utm_campaign=yelp_api_v3&utm_medium=api_v3_business_search&utm_source=XzK19ZTiN3mgGdqg5oa27w', 'review_count': 6, 'categories': [{'alias': 'burgers', 'title': 'Burgers'}, {'alias': 'hotdogs', 'title': 'Fast Food'}], 'rating': 3.0, 'coordinates': {'latitude': 29.630021, 'longitude': -95.4648499935865}, 'transactions': ['delivery'], 'location': {'address1': '13500 S Post Oak Rd', 'address2': '', 'address3': None, 'city': 'Houston', 'zip_code': '77045', 'country': 'US', 'state': 'TX', 'display_address': ['13500 S Post Oak Rd', 'Houston, TX 77045']}, 'phone': '+18324337299', 'display_phone': '(832) 433-7299', 'distance': 5001.028408955636}, {'id': 'I2EHZl8a6uAQIwtOoDW82Q', 'alias': 'boston-market-houston-5', 'name': 'Boston Market', 'image_url': 'https://s3-media4.fl.yelpcdn.com/bphoto/rosyLM22b05uF-P-yCcrhw/o.jpg', 'is_closed': False, 'url': 'https://www.yelp.com/biz/boston-market-houston-5?adjust_creative=XzK19ZTiN3mgGdqg5oa27w&utm_campaign=yelp_api_v3&utm_medium=api_v3_business_search&utm_source=XzK19ZTiN3mgGdqg5oa27w', 'review_count': 46, 'categories': [{'alias': 'tradamerican', 'title': 'American (Traditional)'}, {'alias': 'comfortfood', 'title': 'Comfort Food'}, {'alias': 'sandwiches', 'title': 'Sandwiches'}], 'rating': 3.0, 'coordinates': {'latitude': 29.6893757, 'longitude': -95.4576385}, 'transactions': ['pickup', 'delivery'], 'price': '$', 'location': {'address1': '4672 Beechnut St', 'address2': '', 'address3': '', 'city': 'Houston', 'zip_code': '77096', 'country': 'US', 'state': 'TX', 'display_address': ['4672 Beechnut St', 'Houston, TX 77096']}, 'phone': '+17136678800', 'display_phone': '(713) 667-8800', 'distance': 2677.329171459699}, {'id': 'tsvlSOxIh_joemzbusdhMw', 'alias': 'wingstop-houston-42', 'name': 'Wingstop', 'image_url': 'https://s3-media4.fl.yelpcdn.com/bphoto/MiJTm1txiYY-uogIpyV1fQ/o.jpg', 'is_closed': False, 'url': 'https://www.yelp.com/biz/wingstop-houston-42?adjust_creative=XzK19ZTiN3mgGdqg5oa27w&utm_campaign=yelp_api_v3&utm_medium=api_v3_business_search&utm_source=XzK19ZTiN3mgGdqg5oa27w', 'review_count': 94, 'categories': [{'alias': 'chicken_wings', 'title': 'Chicken Wings'}], 'rating': 3.0, 'coordinates': {'latitude': 29.692938, 'longitude': -95.416236}, 'transactions': [], 'price': '$$', 'location': {'address1': '8200 Main St', 'address2': 'Ste 800', 'address3': '', 'city': 'Houston', 'zip_code': '77025', 'country': 'US', 'state': 'TX', 'display_address': ['8200 Main St', 'Ste 800', 'Houston, TX 77025']}, 'phone': '+17136619464', 'display_phone': '(713) 661-9464', 'distance': 6385.236605256748}, {'id': 'qFiMSJiNaz9WE0G7guJAOw', 'alias': 'mcdonalds-houston-188', 'name': \"McDonald's\", 'image_url': 'https://s3-media3.fl.yelpcdn.com/bphoto/fOHg9AhtVn_u2l8t-e5Wkg/o.jpg', 'is_closed': False, 'url': 'https://www.yelp.com/biz/mcdonalds-houston-188?adjust_creative=XzK19ZTiN3mgGdqg5oa27w&utm_campaign=yelp_api_v3&utm_medium=api_v3_business_search&utm_source=XzK19ZTiN3mgGdqg5oa27w', 'review_count': 29, 'categories': [{'alias': 'burgers', 'title': 'Burgers'}, {'alias': 'hotdogs', 'title': 'Fast Food'}, {'alias': 'coffee', 'title': 'Coffee & Tea'}], 'rating': 2.0, 'coordinates': {'latitude': 29.7060420601888, 'longitude': -95.4780927300453}, 'transactions': ['delivery'], 'price': '$', 'location': {'address1': '5512 Bellaire Blvd', 'address2': '', 'address3': '', 'city': 'Houston', 'zip_code': '77081', 'country': 'US', 'state': 'TX', 'display_address': ['5512 Bellaire Blvd', 'Houston, TX 77081']}, 'phone': '+17136612159', 'display_phone': '(713) 661-2159', 'distance': 3626.728978723972}, {'id': '4r5Z6W9Sg25hLjkMUDEtmQ', 'alias': 'frenchys-chicken-wilcrest-murphy-houston', 'name': \"Frenchy's Chicken - Wilcrest/Murphy\", 'image_url': 'https://s3-media2.fl.yelpcdn.com/bphoto/TPQqXDhh7vPA8AgMDxT7kg/o.jpg', 'is_closed': False, 'url': 'https://www.yelp.com/biz/frenchys-chicken-wilcrest-murphy-houston?adjust_creative=XzK19ZTiN3mgGdqg5oa27w&utm_campaign=yelp_api_v3&utm_medium=api_v3_business_search&utm_source=XzK19ZTiN3mgGdqg5oa27w', 'review_count': 55, 'categories': [{'alias': 'cajun', 'title': 'Cajun/Creole'}, {'alias': 'soulfood', 'title': 'Soul Food'}, {'alias': 'chickenshop', 'title': 'Chicken Shop'}], 'rating': 4.0, 'coordinates': {'latitude': 29.65116, 'longitude': -95.5674}, 'transactions': ['pickup', 'delivery'], 'price': '$', 'location': {'address1': '11631 Southwest Fwy', 'address2': '', 'address3': '', 'city': 'Houston', 'zip_code': '77031', 'country': 'US', 'state': 'TX', 'display_address': ['11631 Southwest Fwy', 'Houston, TX 77031']}, 'phone': '+12814954415', 'display_phone': '(281) 495-4415', 'distance': 8936.902193738826}, {'id': 'D7DjitLTf2HOIZnlB8lcfw', 'alias': 'five-guys-houston-9', 'name': 'Five Guys', 'image_url': 'https://s3-media3.fl.yelpcdn.com/bphoto/tqTAEKHwkOOKoS7dzkvsIA/o.jpg', 'is_closed': False, 'url': 'https://www.yelp.com/biz/five-guys-houston-9?adjust_creative=XzK19ZTiN3mgGdqg5oa27w&utm_campaign=yelp_api_v3&utm_medium=api_v3_business_search&utm_source=XzK19ZTiN3mgGdqg5oa27w', 'review_count': 82, 'categories': [{'alias': 'burgers', 'title': 'Burgers'}, {'alias': 'hotdogs', 'title': 'Fast Food'}], 'rating': 3.0, 'coordinates': {'latitude': 29.690885, 'longitude': -95.416003}, 'transactions': ['delivery'], 'price': '$$', 'location': {'address1': '8505 S Main St', 'address2': 'Unit 380', 'address3': '', 'city': 'Houston', 'zip_code': '77025', 'country': 'US', 'state': 'TX', 'display_address': ['8505 S Main St', 'Unit 380', 'Houston, TX 77025']}, 'phone': '+17136622075', 'display_phone': '(713) 662-2075', 'distance': 6332.806058081096}, {'id': 'xN2Dr4KDlUJ3T1HDpiBlwg', 'alias': 'jimmy-johns-bellaire', 'name': \"Jimmy John's\", 'image_url': 'https://s3-media2.fl.yelpcdn.com/bphoto/LJsION0FyjL2zkl_DLJHPA/o.jpg', 'is_closed': False, 'url': 'https://www.yelp.com/biz/jimmy-johns-bellaire?adjust_creative=XzK19ZTiN3mgGdqg5oa27w&utm_campaign=yelp_api_v3&utm_medium=api_v3_business_search&utm_source=XzK19ZTiN3mgGdqg5oa27w', 'review_count': 37, 'categories': [{'alias': 'sandwiches', 'title': 'Sandwiches'}, {'alias': 'delis', 'title': 'Delis'}, {'alias': 'hotdogs', 'title': 'Fast Food'}], 'rating': 2.0, 'coordinates': {'latitude': 29.7067379, 'longitude': -95.4700107}, 'transactions': [], 'price': '$', 'location': {'address1': '5124 Bissonnet St', 'address2': '', 'address3': '', 'city': 'Bellaire', 'zip_code': '77401', 'country': 'US', 'state': 'TX', 'display_address': ['5124 Bissonnet St', 'Bellaire, TX 77401']}, 'phone': '+17136620056', 'display_phone': '(713) 662-0056', 'distance': 3791.618573746196}, {'id': '6GU4bgvxW-CoqaJWQjK4eA', 'alias': 'cliffs-old-fashioned-hamburgers-houston', 'name': \"Cliff's Old Fashioned Hamburgers\", 'image_url': 'https://s3-media2.fl.yelpcdn.com/bphoto/TF_2D3VJIJX5lLLS7pQ71A/o.jpg', 'is_closed': False, 'url': 'https://www.yelp.com/biz/cliffs-old-fashioned-hamburgers-houston?adjust_creative=XzK19ZTiN3mgGdqg5oa27w&utm_campaign=yelp_api_v3&utm_medium=api_v3_business_search&utm_source=XzK19ZTiN3mgGdqg5oa27w', 'review_count': 150, 'categories': [{'alias': 'burgers', 'title': 'Burgers'}, {'alias': 'breakfast_brunch', 'title': 'Breakfast & Brunch'}, {'alias': 'hotdogs', 'title': 'Fast Food'}], 'rating': 4.0, 'coordinates': {'latitude': 29.748851, 'longitude': -95.4865063}, 'transactions': ['pickup', 'delivery'], 'price': '$', 'location': {'address1': '1822 Fountain View Dr', 'address2': '', 'address3': '', 'city': 'Houston', 'zip_code': '77057', 'country': 'US', 'state': 'TX', 'display_address': ['1822 Fountain View Dr', 'Houston, TX 77057']}, 'phone': '+17137804010', 'display_phone': '(713) 780-4010', 'distance': 8423.188123059515}, {'id': 'npHcnsODDB2o5KNZ2ByXvw', 'alias': 'midwest-coney-connection-houston', 'name': 'Midwest Coney Connection', 'image_url': 'https://s3-media2.fl.yelpcdn.com/bphoto/TZLi8_jCg2z1mMvuiDPqFg/o.jpg', 'is_closed': False, 'url': 'https://www.yelp.com/biz/midwest-coney-connection-houston?adjust_creative=XzK19ZTiN3mgGdqg5oa27w&utm_campaign=yelp_api_v3&utm_medium=api_v3_business_search&utm_source=XzK19ZTiN3mgGdqg5oa27w', 'review_count': 141, 'categories': [{'alias': 'hotdog', 'title': 'Hot Dogs'}, {'alias': 'tradamerican', 'title': 'American (Traditional)'}, {'alias': 'foodtrucks', 'title': 'Food Trucks'}], 'rating': 4.5, 'coordinates': {'latitude': 29.7364284, 'longitude': -95.4760301}, 'transactions': ['pickup', 'delivery'], 'price': '$', 'location': {'address1': '2829 Chimney Rock', 'address2': None, 'address3': '', 'city': 'Houston', 'zip_code': '77057', 'country': 'US', 'state': 'TX', 'display_address': ['2829 Chimney Rock', 'Houston, TX 77057']}, 'phone': '+18325232973', 'display_phone': '(832) 523-2973', 'distance': 7009.151729696438}, {'id': '52D7I26xY3t9uz0HgCBeGQ', 'alias': 'piada-italian-street-food-houston-2', 'name': 'Piada Italian Street Food', 'image_url': 'https://s3-media2.fl.yelpcdn.com/bphoto/fexn75FnuH5A6Ai3Jgsxqw/o.jpg', 'is_closed': False, 'url': 'https://www.yelp.com/biz/piada-italian-street-food-houston-2?adjust_creative=XzK19ZTiN3mgGdqg5oa27w&utm_campaign=yelp_api_v3&utm_medium=api_v3_business_search&utm_source=XzK19ZTiN3mgGdqg5oa27w', 'review_count': 505, 'categories': [{'alias': 'salad', 'title': 'Salad'}, {'alias': 'italian', 'title': 'Italian'}, {'alias': 'sandwiches', 'title': 'Sandwiches'}], 'rating': 4.0, 'coordinates': {'latitude': 29.76093669999999, 'longitude': -95.42059}, 'transactions': ['delivery'], 'price': '$', 'location': {'address1': '5801 Memorial Park Dr', 'address2': '', 'address3': '', 'city': 'Houston', 'zip_code': '77007', 'country': 'US', 'state': 'TX', 'display_address': ['5801 Memorial Park Dr', 'Houston, TX 77007']}, 'phone': '+18328346415', 'display_phone': '(832) 834-6415', 'distance': 11218.427669193117}, {'id': 'cFXmLQu0PpOPV2IRLl_xxQ', 'alias': 'sonic-drive-in-houston-76', 'name': 'Sonic Drive-In', 'image_url': 'https://s3-media4.fl.yelpcdn.com/bphoto/nZVbPwSRACtL6DCcx_XwFQ/o.jpg', 'is_closed': False, 'url': 'https://www.yelp.com/biz/sonic-drive-in-houston-76?adjust_creative=XzK19ZTiN3mgGdqg5oa27w&utm_campaign=yelp_api_v3&utm_medium=api_v3_business_search&utm_source=XzK19ZTiN3mgGdqg5oa27w', 'review_count': 79, 'categories': [{'alias': 'hotdogs', 'title': 'Fast Food'}, {'alias': 'burgers', 'title': 'Burgers'}, {'alias': 'icecream', 'title': 'Ice Cream & Frozen Yogurt'}], 'rating': 2.0, 'coordinates': {'latitude': 29.6913837, 'longitude': -95.4169015}, 'transactions': [], 'price': '$', 'location': {'address1': '8504 Main St', 'address2': '', 'address3': '', 'city': 'Houston', 'zip_code': '77025', 'country': 'US', 'state': 'TX', 'display_address': ['8504 Main St', 'Houston, TX 77025']}, 'phone': '+17136680287', 'display_phone': '(713) 668-0287', 'distance': 6267.672517353456}, {'id': 'DjzftqHvL1duGEUFq_vsNA', 'alias': 'firehouse-subs-houston-14', 'name': 'Firehouse Subs', 'image_url': 'https://s3-media2.fl.yelpcdn.com/bphoto/WwAlriB8EpXPOu5-C3-47Q/o.jpg', 'is_closed': False, 'url': 'https://www.yelp.com/biz/firehouse-subs-houston-14?adjust_creative=XzK19ZTiN3mgGdqg5oa27w&utm_campaign=yelp_api_v3&utm_medium=api_v3_business_search&utm_source=XzK19ZTiN3mgGdqg5oa27w', 'review_count': 17, 'categories': [{'alias': 'delis', 'title': 'Delis'}, {'alias': 'hotdogs', 'title': 'Fast Food'}, {'alias': 'sandwiches', 'title': 'Sandwiches'}], 'rating': 3.0, 'coordinates': {'latitude': 29.6979422333263, 'longitude': -95.5190896451418}, 'transactions': ['pickup', 'delivery'], 'location': {'address1': '7505 Southwest Fwy', 'address2': 'Ste 300', 'address3': None, 'city': 'Houston', 'zip_code': '77074', 'country': 'US', 'state': 'TX', 'display_address': ['7505 Southwest Fwy', 'Ste 300', 'Houston, TX 77074']}, 'phone': '+12818887859', 'display_phone': '(281) 888-7859', 'distance': 4783.304990340438}, {'id': 'pVO3Vnp7UCjHtXOT0D36ZQ', 'alias': 'golden-chick-houston-4', 'name': 'Golden Chick', 'image_url': 'https://s3-media4.fl.yelpcdn.com/bphoto/GtOCzPhRzmxL9gPnvl0fmg/o.jpg', 'is_closed': False, 'url': 'https://www.yelp.com/biz/golden-chick-houston-4?adjust_creative=XzK19ZTiN3mgGdqg5oa27w&utm_campaign=yelp_api_v3&utm_medium=api_v3_business_search&utm_source=XzK19ZTiN3mgGdqg5oa27w', 'review_count': 20, 'categories': [{'alias': 'hotdogs', 'title': 'Fast Food'}], 'rating': 3.0, 'coordinates': {'latitude': 29.6294215437328, 'longitude': -95.4647392281336}, 'transactions': ['delivery'], 'location': {'address1': '13600 S Post Oak Blvd', 'address2': None, 'address3': None, 'city': 'Houston', 'zip_code': '77045', 'country': 'US', 'state': 'TX', 'display_address': ['13600 S Post Oak Blvd', 'Houston, TX 77045']}, 'phone': '+13464064021', 'display_phone': '(346) 406-4021', 'distance': 5068.1679069477095}, {'id': 'PRsy8Xwctq3H2suPz0_7Nw', 'alias': 'panda-express-houston-11', 'name': 'Panda Express', 'image_url': 'https://s3-media1.fl.yelpcdn.com/bphoto/qEV9LNi6Nk3cIFStx5ikkA/o.jpg', 'is_closed': False, 'url': 'https://www.yelp.com/biz/panda-express-houston-11?adjust_creative=XzK19ZTiN3mgGdqg5oa27w&utm_campaign=yelp_api_v3&utm_medium=api_v3_business_search&utm_source=XzK19ZTiN3mgGdqg5oa27w', 'review_count': 62, 'categories': [{'alias': 'chinese', 'title': 'Chinese'}, {'alias': 'hotdogs', 'title': 'Fast Food'}], 'rating': 2.5, 'coordinates': {'latitude': 29.690851, 'longitude': -95.416091}, 'transactions': ['pickup', 'delivery'], 'price': '$', 'location': {'address1': '8505 Main Street', 'address2': None, 'address3': None, 'city': 'Houston', 'zip_code': '77025', 'country': 'US', 'state': 'TX', 'display_address': ['8505 Main Street', 'Houston, TX 77025']}, 'phone': '+17136649362', 'display_phone': '(713) 664-9362', 'distance': 6323.556273093765}, {'id': 'OgR6PZhYNI3mUi-4sFA2ag', 'alias': 'tornado-burger-stafford', 'name': 'Tornado Burger', 'image_url': 'https://s3-media3.fl.yelpcdn.com/bphoto/iAeU7ReMmTJVwSNXEnGNfA/o.jpg', 'is_closed': False, 'url': 'https://www.yelp.com/biz/tornado-burger-stafford?adjust_creative=XzK19ZTiN3mgGdqg5oa27w&utm_campaign=yelp_api_v3&utm_medium=api_v3_business_search&utm_source=XzK19ZTiN3mgGdqg5oa27w', 'review_count': 666, 'categories': [{'alias': 'burgers', 'title': 'Burgers'}, {'alias': 'cheesesteaks', 'title': 'Cheesesteaks'}], 'rating': 4.0, 'coordinates': {'latitude': 29.611484, 'longitude': -95.564245}, 'transactions': ['delivery'], 'price': '$', 'location': {'address1': '505 Fm 1092 Rd', 'address2': '', 'address3': '', 'city': 'Stafford', 'zip_code': '77477', 'country': 'US', 'state': 'TX', 'display_address': ['505 Fm 1092 Rd', 'Stafford, TX 77477']}, 'phone': '+12814033278', 'display_phone': '(281) 403-3278', 'distance': 10782.746314784194}, {'id': 'fJK_6T4bkJMpgrpPVoun6w', 'alias': 'five-guys-houston-8', 'name': 'Five Guys', 'image_url': 'https://s3-media1.fl.yelpcdn.com/bphoto/8jPISfES4qAgsva2IEEg_g/o.jpg', 'is_closed': False, 'url': 'https://www.yelp.com/biz/five-guys-houston-8?adjust_creative=XzK19ZTiN3mgGdqg5oa27w&utm_campaign=yelp_api_v3&utm_medium=api_v3_business_search&utm_source=XzK19ZTiN3mgGdqg5oa27w', 'review_count': 92, 'categories': [{'alias': 'burgers', 'title': 'Burgers'}, {'alias': 'hotdogs', 'title': 'Fast Food'}], 'rating': 3.0, 'coordinates': {'latitude': 29.749378178237333, 'longitude': -95.46019293992363}, 'transactions': ['delivery'], 'price': '$', 'location': {'address1': '1715 Post Oak Blvd', 'address2': '', 'address3': '', 'city': 'Houston', 'zip_code': '77056', 'country': 'US', 'state': 'TX', 'display_address': ['1715 Post Oak Blvd', 'Houston, TX 77056']}, 'phone': '+17139601525', 'display_phone': '(713) 960-1525', 'distance': 8626.490460185214}, {'id': 'd62HM9CHDFdV9-b9TQvlvg', 'alias': 'chick-fil-a-houston-5', 'name': 'Chick-fil-A', 'image_url': 'https://s3-media4.fl.yelpcdn.com/bphoto/An_zzZkZ-xEhdOgGqCVmiw/o.jpg', 'is_closed': False, 'url': 'https://www.yelp.com/biz/chick-fil-a-houston-5?adjust_creative=XzK19ZTiN3mgGdqg5oa27w&utm_campaign=yelp_api_v3&utm_medium=api_v3_business_search&utm_source=XzK19ZTiN3mgGdqg5oa27w', 'review_count': 122, 'categories': [{'alias': 'hotdogs', 'title': 'Fast Food'}, {'alias': 'chickenshop', 'title': 'Chicken Shop'}], 'rating': 3.5, 'coordinates': {'latitude': 29.7056269, 'longitude': -95.4253348}, 'transactions': ['delivery'], 'price': '$', 'location': {'address1': '3101 W Holcombe Blvd', 'address2': '', 'address3': '', 'city': 'Houston', 'zip_code': '77025', 'country': 'US', 'state': 'TX', 'display_address': ['3101 W Holcombe Blvd', 'Houston, TX 77025']}, 'phone': '+17136608200', 'display_phone': '(713) 660-8200', 'distance': 6252.695453499213}, {'id': 'JmLUvmh9Rny_hOvGLiTZIw', 'alias': 'taco-bell-houston-63', 'name': 'Taco Bell', 'image_url': 'https://s3-media3.fl.yelpcdn.com/bphoto/8z5T8UU6IgG2nEkBgBIncw/o.jpg', 'is_closed': False, 'url': 'https://www.yelp.com/biz/taco-bell-houston-63?adjust_creative=XzK19ZTiN3mgGdqg5oa27w&utm_campaign=yelp_api_v3&utm_medium=api_v3_business_search&utm_source=XzK19ZTiN3mgGdqg5oa27w', 'review_count': 14, 'categories': [{'alias': 'hotdogs', 'title': 'Fast Food'}, {'alias': 'mexican', 'title': 'Mexican'}], 'rating': 4.0, 'coordinates': {'latitude': 29.65619, 'longitude': -95.51182}, 'transactions': ['delivery'], 'price': '$', 'location': {'address1': '7720 West Bellfort', 'address2': '', 'address3': '', 'city': 'Houston', 'zip_code': '77071', 'country': 'US', 'state': 'TX', 'display_address': ['7720 West Bellfort', 'Houston, TX 77071']}, 'phone': '+17139958267', 'display_phone': '(713) 995-8267', 'distance': 3754.9809871312054}, {'id': 'fkvfL8n_fPkUuTFl_sP6TA', 'alias': 'the-401-bellaire-4', 'name': \"The '401\", 'image_url': 'https://s3-media4.fl.yelpcdn.com/bphoto/9NzE3Si0wolj4-W1zsMgDg/o.jpg', 'is_closed': False, 'url': 'https://www.yelp.com/biz/the-401-bellaire-4?adjust_creative=XzK19ZTiN3mgGdqg5oa27w&utm_campaign=yelp_api_v3&utm_medium=api_v3_business_search&utm_source=XzK19ZTiN3mgGdqg5oa27w', 'review_count': 376, 'categories': [{'alias': 'tradamerican', 'title': 'American (Traditional)'}, {'alias': 'mediterranean', 'title': 'Mediterranean'}, {'alias': 'gastropubs', 'title': 'Gastropubs'}], 'rating': 4.0, 'coordinates': {'latitude': 29.70708, 'longitude': -95.47299}, 'transactions': ['restaurant_reservation', 'delivery'], 'price': '$$', 'location': {'address1': '6700 Ferris St', 'address2': 'Ste 150', 'address3': None, 'city': 'Bellaire', 'zip_code': '77401', 'country': 'US', 'state': 'TX', 'display_address': ['6700 Ferris St', 'Ste 150', 'Bellaire, TX 77401']}, 'phone': '+18329627649', 'display_phone': '(832) 962-7649', 'distance': 3770.6703972997125}, {'id': 'xB2thX8PXmswvG6saJkLuA', 'alias': 'wendys-houston-10', 'name': \"Wendy's\", 'image_url': 'https://s3-media1.fl.yelpcdn.com/bphoto/5VNcU-ZxOrOvkNh3mfpi7Q/o.jpg', 'is_closed': False, 'url': 'https://www.yelp.com/biz/wendys-houston-10?adjust_creative=XzK19ZTiN3mgGdqg5oa27w&utm_campaign=yelp_api_v3&utm_medium=api_v3_business_search&utm_source=XzK19ZTiN3mgGdqg5oa27w', 'review_count': 54, 'categories': [{'alias': 'burgers', 'title': 'Burgers'}, {'alias': 'hotdogs', 'title': 'Fast Food'}], 'rating': 2.0, 'coordinates': {'latitude': 29.682023, 'longitude': -95.4247556}, 'transactions': ['delivery'], 'price': '$', 'location': {'address1': '9500 South Main Street', 'address2': '', 'address3': '', 'city': 'Houston', 'zip_code': '77025', 'country': 'US', 'state': 'TX', 'display_address': ['9500 South Main Street', 'Houston, TX 77025']}, 'phone': '+17136617134', 'display_phone': '(713) 661-7134', 'distance': 5270.03253228263}, {'id': 'Ya7Nz3uAOavCrwTpuMZzOA', 'alias': 'charlies-bbq-and-hamburgers-bellaire-2', 'name': \"Charlie's BBQ & Hamburgers\", 'image_url': 'https://s3-media1.fl.yelpcdn.com/bphoto/MGwkTlYMSK4vDxGo4wbqmA/o.jpg', 'is_closed': False, 'url': 'https://www.yelp.com/biz/charlies-bbq-and-hamburgers-bellaire-2?adjust_creative=XzK19ZTiN3mgGdqg5oa27w&utm_campaign=yelp_api_v3&utm_medium=api_v3_business_search&utm_source=XzK19ZTiN3mgGdqg5oa27w', 'review_count': 96, 'categories': [{'alias': 'bbq', 'title': 'Barbeque'}, {'alias': 'burgers', 'title': 'Burgers'}], 'rating': 4.0, 'coordinates': {'latitude': 29.7099973, 'longitude': -95.4630112}, 'transactions': ['pickup'], 'price': '$$', 'location': {'address1': '4803 Bissonnet', 'address2': '', 'address3': '', 'city': 'Bellaire', 'zip_code': '77401', 'country': 'US', 'state': 'TX', 'display_address': ['4803 Bissonnet', 'Bellaire, TX 77401']}, 'phone': '+17136647964', 'display_phone': '(713) 664-7964', 'distance': 4276.592603246139}, {'id': 'MZliSJsrY4SLduyYeLPBWQ', 'alias': 'hopdoddy-burger-bar-houston', 'name': 'Hopdoddy Burger Bar', 'image_url': 'https://s3-media3.fl.yelpcdn.com/bphoto/wLMOYvlMafFgSWI3g2Q2Ow/o.jpg', 'is_closed': False, 'url': 'https://www.yelp.com/biz/hopdoddy-burger-bar-houston?adjust_creative=XzK19ZTiN3mgGdqg5oa27w&utm_campaign=yelp_api_v3&utm_medium=api_v3_business_search&utm_source=XzK19ZTiN3mgGdqg5oa27w', 'review_count': 824, 'categories': [{'alias': 'burgers', 'title': 'Burgers'}], 'rating': 4.0, 'coordinates': {'latitude': 29.743121341459855, 'longitude': -95.45362089504698}, 'transactions': ['pickup', 'delivery'], 'price': '$$', 'location': {'address1': '4444 Westheimer Rd', 'address2': 'Ste H100', 'address3': 'River Oaks shopping center', 'city': 'Houston', 'zip_code': '77027', 'country': 'US', 'state': 'TX', 'display_address': ['4444 Westheimer Rd', 'Ste H100', 'River Oaks shopping center', 'Houston, TX 77027']}, 'phone': '+17132272337', 'display_phone': '(713) 227-2337', 'distance': 8110.763047336882}, {'id': 'CykwuPyeW5P6_yEbLhVW_w', 'alias': 'el-pollo-loco-houston-9', 'name': 'El Pollo Loco', 'image_url': 'https://s3-media1.fl.yelpcdn.com/bphoto/9MUxcc6pWteICTdfTImC-A/o.jpg', 'is_closed': False, 'url': 'https://www.yelp.com/biz/el-pollo-loco-houston-9?adjust_creative=XzK19ZTiN3mgGdqg5oa27w&utm_campaign=yelp_api_v3&utm_medium=api_v3_business_search&utm_source=XzK19ZTiN3mgGdqg5oa27w', 'review_count': 91, 'categories': [{'alias': 'hotdogs', 'title': 'Fast Food'}, {'alias': 'mexican', 'title': 'Mexican'}], 'rating': 3.0, 'coordinates': {'latitude': 29.7245007301785, 'longitude': -95.46761595952391}, 'transactions': ['delivery'], 'price': '$', 'location': {'address1': '5321 S Rice Ave', 'address2': None, 'address3': None, 'city': 'Houston', 'zip_code': '77081', 'country': 'US', 'state': 'TX', 'display_address': ['5321 S Rice Ave', 'Houston, TX 77081']}, 'phone': '+17136686428', 'display_phone': '(713) 668-6428', 'distance': 5773.866865352674}, {'id': 'GuaxoW7P8RpF_2Rk9dEU-A', 'alias': 'tortas-las-llardas-houston-8', 'name': 'Tortas Las Llardas', 'image_url': 'https://s3-media4.fl.yelpcdn.com/bphoto/fFa1YHXNCZNbW45FUk3M2A/o.jpg', 'is_closed': False, 'url': 'https://www.yelp.com/biz/tortas-las-llardas-houston-8?adjust_creative=XzK19ZTiN3mgGdqg5oa27w&utm_campaign=yelp_api_v3&utm_medium=api_v3_business_search&utm_source=XzK19ZTiN3mgGdqg5oa27w', 'review_count': 24, 'categories': [{'alias': 'hotdogs', 'title': 'Fast Food'}, {'alias': 'sandwiches', 'title': 'Sandwiches'}], 'rating': 3.5, 'coordinates': {'latitude': 29.710811, 'longitude': -95.507957}, 'transactions': ['delivery'], 'price': '$', 'location': {'address1': '6900 Southwest Fwy', 'address2': 'Ste B', 'address3': '', 'city': 'Houston', 'zip_code': '77074', 'country': 'US', 'state': 'TX', 'display_address': ['6900 Southwest Fwy', 'Ste B', 'Houston, TX 77074']}, 'phone': '+18329401477', 'display_phone': '(832) 940-1477', 'distance': 5077.88765265462}, {'id': 'G3sb77JdGoh6bzmtipfeKw', 'alias': 'chicken-kitchen-houston', 'name': 'Chicken Kitchen - Katy', 'image_url': 'https://s3-media2.fl.yelpcdn.com/bphoto/VeIwMdP7Rt5yOcMik-gTGw/o.jpg', 'is_closed': False, 'url': 'https://www.yelp.com/biz/chicken-kitchen-houston?adjust_creative=XzK19ZTiN3mgGdqg5oa27w&utm_campaign=yelp_api_v3&utm_medium=api_v3_business_search&utm_source=XzK19ZTiN3mgGdqg5oa27w', 'review_count': 157, 'categories': [{'alias': 'chickenshop', 'title': 'Chicken Shop'}], 'rating': 4.0, 'coordinates': {'latitude': 29.717661313266564, 'longitude': -95.41743008683228}, 'transactions': ['pickup', 'delivery'], 'price': '$', 'location': {'address1': '3011 W Grand Pkwy N', 'address2': '', 'address3': '', 'city': 'Houston', 'zip_code': '77449', 'country': 'US', 'state': 'TX', 'display_address': ['3011 W Grand Pkwy N', 'Houston, TX 77449']}, 'phone': '+17135232323', 'display_phone': '(713) 523-2323', 'distance': 7673.101949938577}, {'id': 'uajbo6AV9h_9TGnXuyGsJg', 'alias': 'torchys-tacos-houston-2', 'name': \"Torchy's Tacos\", 'image_url': 'https://s3-media1.fl.yelpcdn.com/bphoto/cCgDLJW2CMHlgCBGHIWPEQ/o.jpg', 'is_closed': False, 'url': 'https://www.yelp.com/biz/torchys-tacos-houston-2?adjust_creative=XzK19ZTiN3mgGdqg5oa27w&utm_campaign=yelp_api_v3&utm_medium=api_v3_business_search&utm_source=XzK19ZTiN3mgGdqg5oa27w', 'review_count': 978, 'categories': [{'alias': 'tex-mex', 'title': 'Tex-Mex'}, {'alias': 'tacos', 'title': 'Tacos'}], 'rating': 3.5, 'coordinates': {'latitude': 29.7168832286535, 'longitude': -95.4151740753937}, 'transactions': ['delivery'], 'price': '$', 'location': {'address1': '2400 Times Blvd', 'address2': '', 'address3': '', 'city': 'Houston', 'zip_code': '77005', 'country': 'US', 'state': 'TX', 'display_address': ['2400 Times Blvd', 'Houston, TX 77005']}, 'phone': '+17134870067', 'display_phone': '(713) 487-0067', 'distance': 7787.640263688247}, {'id': 'PyaK2PZr0l57w7MT-uaTqg', 'alias': 'raising-canes-chicken-fingers-houston-17', 'name': \"Raising Cane's Chicken Fingers\", 'image_url': 'https://s3-media2.fl.yelpcdn.com/bphoto/u1kPp52ih_nujh8iE9YDBA/o.jpg', 'is_closed': False, 'url': 'https://www.yelp.com/biz/raising-canes-chicken-fingers-houston-17?adjust_creative=XzK19ZTiN3mgGdqg5oa27w&utm_campaign=yelp_api_v3&utm_medium=api_v3_business_search&utm_source=XzK19ZTiN3mgGdqg5oa27w', 'review_count': 22, 'categories': [{'alias': 'hotdogs', 'title': 'Fast Food'}], 'rating': 3.0, 'coordinates': {'latitude': 29.74062, 'longitude': -95.46134}, 'transactions': ['delivery'], 'price': '$', 'location': {'address1': '5015 Westheimer Rd', 'address2': 'Ste 1470', 'address3': '', 'city': 'Houston', 'zip_code': '77056', 'country': 'US', 'state': 'TX', 'display_address': ['5015 Westheimer Rd', 'Ste 1470', 'Houston, TX 77056']}, 'phone': '+17139930811', 'display_phone': '(713) 993-0811', 'distance': 7435.633196933722}, {'id': 'twwchWEk2s8uQrYWwBEV-Q', 'alias': 'velvet-taco-houston-15', 'name': 'Velvet Taco', 'image_url': 'https://s3-media2.fl.yelpcdn.com/bphoto/rvzTQ6vtDgmws1Fq33FOGA/o.jpg', 'is_closed': False, 'url': 'https://www.yelp.com/biz/velvet-taco-houston-15?adjust_creative=XzK19ZTiN3mgGdqg5oa27w&utm_campaign=yelp_api_v3&utm_medium=api_v3_business_search&utm_source=XzK19ZTiN3mgGdqg5oa27w', 'review_count': 70, 'categories': [{'alias': 'tacos', 'title': 'Tacos'}, {'alias': 'newamerican', 'title': 'American (New)'}, {'alias': 'vegetarian', 'title': 'Vegetarian'}], 'rating': 4.0, 'coordinates': {'latitude': 29.7400513, 'longitude': -95.459045}, 'transactions': ['delivery'], 'location': {'address1': '2626 West Lp S', 'address2': '', 'address3': None, 'city': 'Houston', 'zip_code': '77027', 'country': 'US', 'state': 'TX', 'display_address': ['2626 West Lp S', 'Houston, TX 77027']}, 'phone': '+18329303571', 'display_phone': '(832) 930-3571', 'distance': 7640.48871329808}, {'id': '1JRtTHC128fYfzS68xsmsg', 'alias': 'fajitas-a-go-go-houston', 'name': 'Fajitas A Go Go', 'image_url': 'https://s3-media1.fl.yelpcdn.com/bphoto/USGRdRObkZAMhvF3ImvUcg/o.jpg', 'is_closed': False, 'url': 'https://www.yelp.com/biz/fajitas-a-go-go-houston?adjust_creative=XzK19ZTiN3mgGdqg5oa27w&utm_campaign=yelp_api_v3&utm_medium=api_v3_business_search&utm_source=XzK19ZTiN3mgGdqg5oa27w', 'review_count': 364, 'categories': [{'alias': 'tex-mex', 'title': 'Tex-Mex'}, {'alias': 'mexican', 'title': 'Mexican'}, {'alias': 'salad', 'title': 'Salad'}], 'rating': 4.0, 'coordinates': {'latitude': 29.732429909764942, 'longitude': -95.4372501}, 'transactions': ['pickup', 'delivery'], 'price': '$$', 'location': {'address1': '3773 Richmond Ave', 'address2': 'Ste 1C', 'address3': '', 'city': 'Houston', 'zip_code': '77046', 'country': 'US', 'state': 'TX', 'display_address': ['3773 Richmond Ave', 'Ste 1C', 'Houston, TX 77046']}, 'phone': '+17136610501', 'display_phone': '(713) 661-0501', 'distance': 7670.799976954897}, {'id': '-CQkVUNdNnWvcMtcsxXjpg', 'alias': 'whataburger-houston-19', 'name': 'Whataburger', 'image_url': 'https://s3-media4.fl.yelpcdn.com/bphoto/74NIFhJMkD2q2VDB3kplOw/o.jpg', 'is_closed': False, 'url': 'https://www.yelp.com/biz/whataburger-houston-19?adjust_creative=XzK19ZTiN3mgGdqg5oa27w&utm_campaign=yelp_api_v3&utm_medium=api_v3_business_search&utm_source=XzK19ZTiN3mgGdqg5oa27w', 'review_count': 102, 'categories': [{'alias': 'burgers', 'title': 'Burgers'}, {'alias': 'hotdogs', 'title': 'Fast Food'}], 'rating': 2.5, 'coordinates': {'latitude': 29.705920967122974, 'longitude': -95.41227955131987}, 'transactions': ['delivery'], 'price': '$', 'location': {'address1': '2265 W Holcombe Blvd', 'address2': '', 'address3': '', 'city': 'Houston', 'zip_code': '77030', 'country': 'US', 'state': 'TX', 'display_address': ['2265 W Holcombe Blvd', 'Houston, TX 77030']}, 'phone': '+17138388106', 'display_phone': '(713) 838-8106', 'distance': 7338.303117734961}, {'id': 'lPfsm5FSc8n9AbjHSUtEKQ', 'alias': 'wendys-houston-59', 'name': \"Wendy's\", 'image_url': 'https://s3-media1.fl.yelpcdn.com/bphoto/-UWjYFpHPDPL2ktJDjt34Q/o.jpg', 'is_closed': False, 'url': 'https://www.yelp.com/biz/wendys-houston-59?adjust_creative=XzK19ZTiN3mgGdqg5oa27w&utm_campaign=yelp_api_v3&utm_medium=api_v3_business_search&utm_source=XzK19ZTiN3mgGdqg5oa27w', 'review_count': 10, 'categories': [{'alias': 'hotdogs', 'title': 'Fast Food'}, {'alias': 'burgers', 'title': 'Burgers'}], 'rating': 3.0, 'coordinates': {'latitude': 29.62739, 'longitude': -95.49454}, 'transactions': ['delivery'], 'price': '$', 'location': {'address1': '7090A W. Orem Drive', 'address2': '', 'address3': '', 'city': 'Houston', 'zip_code': '77085', 'country': 'US', 'state': 'TX', 'display_address': ['7090A W. Orem Drive', 'Houston, TX 77085']}, 'phone': '+18326236345', 'display_phone': '(832) 623-6345', 'distance': 5341.9997036379755}, {'id': 'ysnTvDGTO_C2OVlX_7VtMg', 'alias': 'schlotzskys-houston-25', 'name': \"Schlotzsky's\", 'image_url': 'https://s3-media2.fl.yelpcdn.com/bphoto/pnUKuraT004Tv4sAzCrjTA/o.jpg', 'is_closed': False, 'url': 'https://www.yelp.com/biz/schlotzskys-houston-25?adjust_creative=XzK19ZTiN3mgGdqg5oa27w&utm_campaign=yelp_api_v3&utm_medium=api_v3_business_search&utm_source=XzK19ZTiN3mgGdqg5oa27w', 'review_count': 42, 'categories': [{'alias': 'delis', 'title': 'Delis'}, {'alias': 'sandwiches', 'title': 'Sandwiches'}, {'alias': 'catering', 'title': 'Caterers'}], 'rating': 4.0, 'coordinates': {'latitude': 29.73669347705812, 'longitude': -95.49025640232179}, 'transactions': ['pickup'], 'price': '$', 'location': {'address1': '6127 Westheimer Rd', 'address2': '', 'address3': '', 'city': 'Houston', 'zip_code': '77057', 'country': 'US', 'state': 'TX', 'display_address': ['6127 Westheimer Rd', 'Houston, TX 77057']}, 'phone': '+17139742867', 'display_phone': '(713) 974-2867', 'distance': 7127.45699730171}, {'id': '-6M2ZjmETah5dwqE648AVg', 'alias': 'apple-teriyaki-express-houston', 'name': 'Apple Teriyaki Express', 'image_url': 'https://s3-media4.fl.yelpcdn.com/bphoto/_VWJ8ZCYsZkKYE9umlvsHg/o.jpg', 'is_closed': False, 'url': 'https://www.yelp.com/biz/apple-teriyaki-express-houston?adjust_creative=XzK19ZTiN3mgGdqg5oa27w&utm_campaign=yelp_api_v3&utm_medium=api_v3_business_search&utm_source=XzK19ZTiN3mgGdqg5oa27w', 'review_count': 20, 'categories': [{'alias': 'korean', 'title': 'Korean'}, {'alias': 'hotdogs', 'title': 'Fast Food'}], 'rating': 4.0, 'coordinates': {'latitude': 29.686909, 'longitude': -95.509235}, 'transactions': ['pickup', 'delivery'], 'location': {'address1': '7206 Bissonnet St', 'address2': '', 'address3': None, 'city': 'Houston', 'zip_code': '77074', 'country': 'US', 'state': 'TX', 'display_address': ['7206 Bissonnet St', 'Houston, TX 77074']}, 'phone': '', 'display_phone': '', 'distance': 3331.7825627391044}, {'id': 'gpIiMZxd4VIfLUCtk-XYgg', 'alias': 'shawarma-king-houston', 'name': 'Shawarma King', 'image_url': 'https://s3-media1.fl.yelpcdn.com/bphoto/I9MpPI48XiN41pNjuH1EQQ/o.jpg', 'is_closed': False, 'url': 'https://www.yelp.com/biz/shawarma-king-houston?adjust_creative=XzK19ZTiN3mgGdqg5oa27w&utm_campaign=yelp_api_v3&utm_medium=api_v3_business_search&utm_source=XzK19ZTiN3mgGdqg5oa27w', 'review_count': 280, 'categories': [{'alias': 'greek', 'title': 'Greek'}, {'alias': 'mediterranean', 'title': 'Mediterranean'}, {'alias': 'halal', 'title': 'Halal'}], 'rating': 4.0, 'coordinates': {'latitude': 29.7322732348925, 'longitude': -95.5008097884102}, 'transactions': ['pickup', 'delivery'], 'price': '$', 'location': {'address1': '3121 Hillcroft St', 'address2': '', 'address3': '', 'city': 'Houston', 'zip_code': '77057', 'country': 'US', 'state': 'TX', 'display_address': ['3121 Hillcroft St', 'Houston, TX 77057']}, 'phone': '+17137848882', 'display_phone': '(713) 784-8882', 'distance': 6892.030528431557}, {'id': 'AdJkTXaoOONRMdSQ5VtMZg', 'alias': 'taco-cabana-houston-31', 'name': 'Taco Cabana', 'image_url': 'https://s3-media2.fl.yelpcdn.com/bphoto/tKF18Us5kKOmxwdkfBnsmA/o.jpg', 'is_closed': False, 'url': 'https://www.yelp.com/biz/taco-cabana-houston-31?adjust_creative=XzK19ZTiN3mgGdqg5oa27w&utm_campaign=yelp_api_v3&utm_medium=api_v3_business_search&utm_source=XzK19ZTiN3mgGdqg5oa27w', 'review_count': 38, 'categories': [{'alias': 'mexican', 'title': 'Mexican'}], 'rating': 1.5, 'coordinates': {'latitude': 29.7043991, 'longitude': -95.5148773}, 'transactions': ['pickup', 'delivery'], 'price': '$', 'location': {'address1': '7501 Bellaire Blvd.', 'address2': None, 'address3': None, 'city': 'Houston', 'zip_code': '77036', 'country': 'US', 'state': 'TX', 'display_address': ['7501 Bellaire Blvd.', 'Houston, TX 77036']}, 'phone': '+17139817801', 'display_phone': '(713) 981-7801', 'distance': 4926.643369603796}, {'id': 'oOBNrR__6i7hv6K_mmpkfA', 'alias': 'torchys-tacos-houston', 'name': \"Torchy's Tacos\", 'image_url': 'https://s3-media1.fl.yelpcdn.com/bphoto/jcIxox6n2CtXUkrflXnBcQ/o.jpg', 'is_closed': False, 'url': 'https://www.yelp.com/biz/torchys-tacos-houston?adjust_creative=XzK19ZTiN3mgGdqg5oa27w&utm_campaign=yelp_api_v3&utm_medium=api_v3_business_search&utm_source=XzK19ZTiN3mgGdqg5oa27w', 'review_count': 1441, 'categories': [{'alias': 'tex-mex', 'title': 'Tex-Mex'}, {'alias': 'tacos', 'title': 'Tacos'}], 'rating': 4.0, 'coordinates': {'latitude': 29.744123246192668, 'longitude': -95.41040667216288}, 'transactions': ['delivery'], 'price': '$', 'location': {'address1': '2411 S Shepherd Dr', 'address2': '', 'address3': '', 'city': 'Houston', 'zip_code': '77019', 'country': 'US', 'state': 'TX', 'display_address': ['2411 S Shepherd Dr', 'Houston, TX 77019']}, 'phone': '+17135958226', 'display_phone': '(713) 595-8226', 'distance': 10243.006519832154}, {'id': '21EgrftH2mtLTMfwSav-KQ', 'alias': 'wendys-houston-11', 'name': \"Wendy's\", 'image_url': 'https://s3-media3.fl.yelpcdn.com/bphoto/laWZlbTddQiIyqzOHiPEwQ/o.jpg', 'is_closed': False, 'url': 'https://www.yelp.com/biz/wendys-houston-11?adjust_creative=XzK19ZTiN3mgGdqg5oa27w&utm_campaign=yelp_api_v3&utm_medium=api_v3_business_search&utm_source=XzK19ZTiN3mgGdqg5oa27w', 'review_count': 12, 'categories': [{'alias': 'hotdogs', 'title': 'Fast Food'}, {'alias': 'burgers', 'title': 'Burgers'}], 'rating': 2.5, 'coordinates': {'latitude': 29.71501, 'longitude': -95.4965}, 'transactions': ['delivery'], 'price': '$', 'location': {'address1': '6101 Hillcroft', 'address2': None, 'address3': None, 'city': 'Houston', 'zip_code': '77081', 'country': 'US', 'state': 'TX', 'display_address': ['6101 Hillcroft', 'Houston, TX 77081']}, 'phone': '+18324103124', 'display_phone': '(832) 410-3124', 'distance': 4942.559792156248}], 'total': 575, 'region': {'center': {'longitude': -95.47840118408203, 'latitude': 29.673427167467644}}}\n"
     ]
    }
   ],
   "source": [
    "# Define the API key, Endpoint, and Header\n",
    "API_KEY = Yelp_API_Key\n",
    "ENDPOINT = 'https://api.yelp.com/v3/businesses/search'\n",
    "HEADERS = {'Authorization':'bearer %s' % API_KEY}\n",
    "\n",
    "# Define the parameters of the query\n",
    "PARAMETERS = {'term': 'fast food',\n",
    "            'limit': 50,\n",
    "              'radius': 10000,\n",
    "              'location': '77096',\n",
    "             'offset': 50}\n",
    "\n",
    "# Make a request to the Yelp API\n",
    "response = requests.get(url = ENDPOINT, params = PARAMETERS, headers = HEADERS)\n",
    "\n",
    "# convert JSON string to a dictionary\n",
    "business_data = response.json()\n",
    "\n",
    "print(business_data)"
   ]
  },
  {
   "cell_type": "code",
   "execution_count": 3,
   "id": "9b35b0be",
   "metadata": {},
   "outputs": [
    {
     "name": "stdout",
     "output_type": "stream",
     "text": [
      "dict_keys(['businesses', 'total', 'region'])\n"
     ]
    }
   ],
   "source": [
    "print(business_data.keys())"
   ]
  },
  {
   "cell_type": "code",
   "execution_count": 4,
   "id": "93755885",
   "metadata": {},
   "outputs": [
    {
     "name": "stdout",
     "output_type": "stream",
     "text": [
      "Jack in the Box\n",
      "Fajita Pete's - Bellaire\n",
      "Texas Hamburger Palace\n",
      "Whataburger\n",
      "burger-chan\n",
      "Southwell's Hamburger Grill\n",
      "Whataburger\n",
      "Chick-fil-A\n",
      "The Stuffed Baked Potato Factory\n",
      "Popeyes Louisiana Kitchen\n",
      "Potbelly Sandwich Shop\n",
      "McDonald's\n",
      "Whataburger\n",
      "Checkers\n",
      "Boston Market\n",
      "Wingstop\n",
      "McDonald's\n",
      "Frenchy's Chicken - Wilcrest/Murphy\n",
      "Five Guys\n",
      "Jimmy John's\n",
      "Cliff's Old Fashioned Hamburgers\n",
      "Midwest Coney Connection\n",
      "Piada Italian Street Food\n",
      "Sonic Drive-In\n",
      "Firehouse Subs\n",
      "Golden Chick\n",
      "Panda Express\n",
      "Tornado Burger\n",
      "Five Guys\n",
      "Chick-fil-A\n",
      "Taco Bell\n",
      "The '401\n",
      "Wendy's\n",
      "Charlie's BBQ & Hamburgers\n",
      "Hopdoddy Burger Bar\n",
      "El Pollo Loco\n",
      "Tortas Las Llardas\n",
      "Chicken Kitchen - Katy\n",
      "Torchy's Tacos\n",
      "Raising Cane's Chicken Fingers\n",
      "Velvet Taco\n",
      "Fajitas A Go Go\n",
      "Whataburger\n",
      "Wendy's\n",
      "Schlotzsky's\n",
      "Apple Teriyaki Express\n",
      "Shawarma King\n",
      "Taco Cabana\n",
      "Torchy's Tacos\n",
      "Wendy's\n"
     ]
    }
   ],
   "source": [
    "for biz in business_data['businesses']:\n",
    "    print(biz['name'])"
   ]
  },
  {
   "cell_type": "code",
   "execution_count": 5,
   "id": "b2fdf590",
   "metadata": {},
   "outputs": [
    {
     "data": {
      "text/html": [
       "<div>\n",
       "<style scoped>\n",
       "    .dataframe tbody tr th:only-of-type {\n",
       "        vertical-align: middle;\n",
       "    }\n",
       "\n",
       "    .dataframe tbody tr th {\n",
       "        vertical-align: top;\n",
       "    }\n",
       "\n",
       "    .dataframe thead th {\n",
       "        text-align: right;\n",
       "    }\n",
       "</style>\n",
       "<table border=\"1\" class=\"dataframe\">\n",
       "  <thead>\n",
       "    <tr style=\"text-align: right;\">\n",
       "      <th></th>\n",
       "      <th>name</th>\n",
       "      <th>price</th>\n",
       "      <th>location</th>\n",
       "    </tr>\n",
       "  </thead>\n",
       "  <tbody>\n",
       "    <tr>\n",
       "      <th>0</th>\n",
       "      <td>Jack in the Box</td>\n",
       "      <td>$</td>\n",
       "      <td>{'address1': '8410 Hillcroft St', 'address2': ...</td>\n",
       "    </tr>\n",
       "    <tr>\n",
       "      <th>1</th>\n",
       "      <td>Fajita Pete's - Bellaire</td>\n",
       "      <td>$$</td>\n",
       "      <td>{'address1': '6719 Weslayan St', 'address2': '...</td>\n",
       "    </tr>\n",
       "    <tr>\n",
       "      <th>2</th>\n",
       "      <td>Texas Hamburger Palace</td>\n",
       "      <td>$</td>\n",
       "      <td>{'address1': '5757 Ranchester Dr', 'address2':...</td>\n",
       "    </tr>\n",
       "    <tr>\n",
       "      <th>3</th>\n",
       "      <td>Whataburger</td>\n",
       "      <td>$</td>\n",
       "      <td>{'address1': '9955 Main St', 'address2': '', '...</td>\n",
       "    </tr>\n",
       "    <tr>\n",
       "      <th>4</th>\n",
       "      <td>burger-chan</td>\n",
       "      <td>$$</td>\n",
       "      <td>{'address1': '5353 W Alabama St', 'address2': ...</td>\n",
       "    </tr>\n",
       "  </tbody>\n",
       "</table>\n",
       "</div>"
      ],
      "text/plain": [
       "                       name price  \\\n",
       "0           Jack in the Box     $   \n",
       "1  Fajita Pete's - Bellaire    $$   \n",
       "2    Texas Hamburger Palace     $   \n",
       "3               Whataburger     $   \n",
       "4               burger-chan    $$   \n",
       "\n",
       "                                            location  \n",
       "0  {'address1': '8410 Hillcroft St', 'address2': ...  \n",
       "1  {'address1': '6719 Weslayan St', 'address2': '...  \n",
       "2  {'address1': '5757 Ranchester Dr', 'address2':...  \n",
       "3  {'address1': '9955 Main St', 'address2': '', '...  \n",
       "4  {'address1': '5353 W Alabama St', 'address2': ...  "
      ]
     },
     "execution_count": 5,
     "metadata": {},
     "output_type": "execute_result"
    }
   ],
   "source": [
    "# Turn into dataframe\n",
    "\n",
    "cols = list(business_data['businesses'][0].keys())\n",
    "df = pd.DataFrame(columns=cols)\n",
    "for biz in business_data['businesses']:\n",
    "    df = df.append(biz, ignore_index=True)\n",
    "    df = df.drop(['id', 'categories','alias','image_url', 'is_closed', 'url', 'review_count', 'rating', 'transactions', 'phone', 'distance', 'display_phone', 'coordinates'],axis=1)\n",
    "df.head()"
   ]
  },
  {
   "cell_type": "code",
   "execution_count": 6,
   "id": "6e09e41d",
   "metadata": {},
   "outputs": [
    {
     "data": {
      "text/plain": [
       "name        50\n",
       "price       45\n",
       "location    50\n",
       "dtype: int64"
      ]
     },
     "execution_count": 6,
     "metadata": {},
     "output_type": "execute_result"
    }
   ],
   "source": [
    "df.count()"
   ]
  }
 ],
 "metadata": {
  "kernelspec": {
   "display_name": "Python 3 (ipykernel)",
   "language": "python",
   "name": "python3"
  },
  "language_info": {
   "codemirror_mode": {
    "name": "ipython",
    "version": 3
   },
   "file_extension": ".py",
   "mimetype": "text/x-python",
   "name": "python",
   "nbconvert_exporter": "python",
   "pygments_lexer": "ipython3",
   "version": "3.7.11"
  }
 },
 "nbformat": 4,
 "nbformat_minor": 5
}
