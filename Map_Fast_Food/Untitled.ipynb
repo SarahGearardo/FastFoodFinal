{
 "cells": [
  {
   "cell_type": "code",
   "execution_count": 1,
   "id": "9dd55e5a",
   "metadata": {},
   "outputs": [],
   "source": [
    "import json"
   ]
  },
  {
   "cell_type": "code",
   "execution_count": 2,
   "id": "243e4d97",
   "metadata": {},
   "outputs": [],
   "source": [
    "input_file=json.load(open(\"res_types.json\", \"r\", encoding=\"utf-8\"))"
   ]
  },
  {
   "cell_type": "code",
   "execution_count": 5,
   "id": "e461240c",
   "metadata": {},
   "outputs": [],
   "source": [
    "geojs={\n",
    "     \"type\": \"FeatureCollection\",\n",
    "     \"features\":[\n",
    "           {\n",
    "                \"type\":\"Feature\",\n",
    "                \"geometry\": {\n",
    "                \"type\": [feature['longitude'],\n",
    "                         feature['latitude']]}ineString\",\n",
    "                \"coordinates\":d[\"geojson\"][\"coordinates\"],\n",
    "            },\n",
    "                \"properties\":d,\n",
    "        \n",
    "         } for d in input_file \n",
    "    ]  \n",
    " }\n"
   ]
  },
  {
   "cell_type": "code",
   "execution_count": null,
   "id": "54a9b380",
   "metadata": {},
   "outputs": [],
   "source": []
  }
 ],
 "metadata": {
  "kernelspec": {
   "display_name": "Python 3 (ipykernel)",
   "language": "python",
   "name": "python3"
  },
  "language_info": {
   "codemirror_mode": {
    "name": "ipython",
    "version": 3
   },
   "file_extension": ".py",
   "mimetype": "text/x-python",
   "name": "python",
   "nbconvert_exporter": "python",
   "pygments_lexer": "ipython3",
   "version": "3.9.7"
  }
 },
 "nbformat": 4,
 "nbformat_minor": 5
}
