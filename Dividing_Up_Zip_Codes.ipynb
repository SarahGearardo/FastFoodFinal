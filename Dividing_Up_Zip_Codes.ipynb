{
 "cells": [
  {
   "cell_type": "code",
   "execution_count": 11,
   "id": "fb83f251",
   "metadata": {},
   "outputs": [],
   "source": [
    "# Import the requests library.\n",
    "import pandas as pd"
   ]
  },
  {
   "cell_type": "code",
   "execution_count": 12,
   "id": "c231c065",
   "metadata": {},
   "outputs": [],
   "source": [
    "# Reading in the zip code csv file that we extracted from the HH Income dataset\n",
    "zips_data_df = pd.read_csv(\"data/cleaned_HH_Income_Zips_List.csv\", index_col=None,dtype={\"Zip_Code\":\"string\"} )\n",
    "zips_data_df.drop('Unnamed: 0', axis=1, inplace=True) "
   ]
  },
  {
   "cell_type": "code",
   "execution_count": 13,
   "id": "35474c4a",
   "metadata": {},
   "outputs": [],
   "source": [
    "sorted= zips_data_df.sort_values(by = 'Zip_Code')"
   ]
  },
  {
   "cell_type": "code",
   "execution_count": 14,
   "id": "c25d92f2",
   "metadata": {},
   "outputs": [
    {
     "data": {
      "text/html": [
       "<div>\n",
       "<style scoped>\n",
       "    .dataframe tbody tr th:only-of-type {\n",
       "        vertical-align: middle;\n",
       "    }\n",
       "\n",
       "    .dataframe tbody tr th {\n",
       "        vertical-align: top;\n",
       "    }\n",
       "\n",
       "    .dataframe thead th {\n",
       "        text-align: right;\n",
       "    }\n",
       "</style>\n",
       "<table border=\"1\" class=\"dataframe\">\n",
       "  <thead>\n",
       "    <tr style=\"text-align: right;\">\n",
       "      <th></th>\n",
       "      <th>Zip_Code</th>\n",
       "    </tr>\n",
       "  </thead>\n",
       "  <tbody>\n",
       "    <tr>\n",
       "      <th>6006</th>\n",
       "      <td>01001</td>\n",
       "    </tr>\n",
       "    <tr>\n",
       "      <th>6011</th>\n",
       "      <td>01002</td>\n",
       "    </tr>\n",
       "    <tr>\n",
       "      <th>6140</th>\n",
       "      <td>01005</td>\n",
       "    </tr>\n",
       "    <tr>\n",
       "      <th>5999</th>\n",
       "      <td>01013</td>\n",
       "    </tr>\n",
       "    <tr>\n",
       "      <th>5998</th>\n",
       "      <td>01020</td>\n",
       "    </tr>\n",
       "    <tr>\n",
       "      <th>6001</th>\n",
       "      <td>01022</td>\n",
       "    </tr>\n",
       "    <tr>\n",
       "      <th>6017</th>\n",
       "      <td>01027</td>\n",
       "    </tr>\n",
       "    <tr>\n",
       "      <th>6005</th>\n",
       "      <td>01030</td>\n",
       "    </tr>\n",
       "    <tr>\n",
       "      <th>6012</th>\n",
       "      <td>01033</td>\n",
       "    </tr>\n",
       "    <tr>\n",
       "      <th>6014</th>\n",
       "      <td>01035</td>\n",
       "    </tr>\n",
       "    <tr>\n",
       "      <th>6007</th>\n",
       "      <td>01036</td>\n",
       "    </tr>\n",
       "    <tr>\n",
       "      <th>6126</th>\n",
       "      <td>01038</td>\n",
       "    </tr>\n",
       "    <tr>\n",
       "      <th>6000</th>\n",
       "      <td>01040</td>\n",
       "    </tr>\n",
       "    <tr>\n",
       "      <th>5841</th>\n",
       "      <td>01050</td>\n",
       "    </tr>\n",
       "    <tr>\n",
       "      <th>5997</th>\n",
       "      <td>01056</td>\n",
       "    </tr>\n",
       "    <tr>\n",
       "      <th>6016</th>\n",
       "      <td>01060</td>\n",
       "    </tr>\n",
       "    <tr>\n",
       "      <th>6015</th>\n",
       "      <td>01062</td>\n",
       "    </tr>\n",
       "    <tr>\n",
       "      <th>5996</th>\n",
       "      <td>01069</td>\n",
       "    </tr>\n",
       "    <tr>\n",
       "      <th>6013</th>\n",
       "      <td>01075</td>\n",
       "    </tr>\n",
       "    <tr>\n",
       "      <th>6004</th>\n",
       "      <td>01077</td>\n",
       "    </tr>\n",
       "    <tr>\n",
       "      <th>6009</th>\n",
       "      <td>01081</td>\n",
       "    </tr>\n",
       "    <tr>\n",
       "      <th>6010</th>\n",
       "      <td>01082</td>\n",
       "    </tr>\n",
       "    <tr>\n",
       "      <th>6003</th>\n",
       "      <td>01085</td>\n",
       "    </tr>\n",
       "    <tr>\n",
       "      <th>6002</th>\n",
       "      <td>01089</td>\n",
       "    </tr>\n",
       "    <tr>\n",
       "      <th>6162</th>\n",
       "      <td>01092</td>\n",
       "    </tr>\n",
       "    <tr>\n",
       "      <th>6054</th>\n",
       "      <td>01093</td>\n",
       "    </tr>\n",
       "    <tr>\n",
       "      <th>6008</th>\n",
       "      <td>01095</td>\n",
       "    </tr>\n",
       "    <tr>\n",
       "      <th>5989</th>\n",
       "      <td>01104</td>\n",
       "    </tr>\n",
       "    <tr>\n",
       "      <th>5993</th>\n",
       "      <td>01105</td>\n",
       "    </tr>\n",
       "    <tr>\n",
       "      <th>6114</th>\n",
       "      <td>01106</td>\n",
       "    </tr>\n",
       "    <tr>\n",
       "      <th>5990</th>\n",
       "      <td>01107</td>\n",
       "    </tr>\n",
       "    <tr>\n",
       "      <th>5994</th>\n",
       "      <td>01108</td>\n",
       "    </tr>\n",
       "    <tr>\n",
       "      <th>5991</th>\n",
       "      <td>01109</td>\n",
       "    </tr>\n",
       "    <tr>\n",
       "      <th>5995</th>\n",
       "      <td>01118</td>\n",
       "    </tr>\n",
       "    <tr>\n",
       "      <th>5992</th>\n",
       "      <td>01119</td>\n",
       "    </tr>\n",
       "    <tr>\n",
       "      <th>5988</th>\n",
       "      <td>01151</td>\n",
       "    </tr>\n",
       "    <tr>\n",
       "      <th>5925</th>\n",
       "      <td>01201</td>\n",
       "    </tr>\n",
       "    <tr>\n",
       "      <th>5932</th>\n",
       "      <td>01220</td>\n",
       "    </tr>\n",
       "    <tr>\n",
       "      <th>5935</th>\n",
       "      <td>01223</td>\n",
       "    </tr>\n",
       "    <tr>\n",
       "      <th>6165</th>\n",
       "      <td>01225</td>\n",
       "    </tr>\n",
       "  </tbody>\n",
       "</table>\n",
       "</div>"
      ],
      "text/plain": [
       "     Zip_Code\n",
       "6006    01001\n",
       "6011    01002\n",
       "6140    01005\n",
       "5999    01013\n",
       "5998    01020\n",
       "6001    01022\n",
       "6017    01027\n",
       "6005    01030\n",
       "6012    01033\n",
       "6014    01035\n",
       "6007    01036\n",
       "6126    01038\n",
       "6000    01040\n",
       "5841    01050\n",
       "5997    01056\n",
       "6016    01060\n",
       "6015    01062\n",
       "5996    01069\n",
       "6013    01075\n",
       "6004    01077\n",
       "6009    01081\n",
       "6010    01082\n",
       "6003    01085\n",
       "6002    01089\n",
       "6162    01092\n",
       "6054    01093\n",
       "6008    01095\n",
       "5989    01104\n",
       "5993    01105\n",
       "6114    01106\n",
       "5990    01107\n",
       "5994    01108\n",
       "5991    01109\n",
       "5995    01118\n",
       "5992    01119\n",
       "5988    01151\n",
       "5925    01201\n",
       "5932    01220\n",
       "5935    01223\n",
       "6165    01225"
      ]
     },
     "execution_count": 14,
     "metadata": {},
     "output_type": "execute_result"
    }
   ],
   "source": [
    "sorted.head(40)"
   ]
  },
  {
   "cell_type": "code",
   "execution_count": 15,
   "id": "7328bb0a",
   "metadata": {},
   "outputs": [],
   "source": [
    "tiny_zips1 = zips_data_df[(zips_data_df[\"Zip_Code\"] < '01081')]"
   ]
  },
  {
   "cell_type": "code",
   "execution_count": 19,
   "id": "2367fbab",
   "metadata": {},
   "outputs": [],
   "source": [
    "tiny_zips1.to_csv('data/tiny_zips_for_Julie.csv', columns = [\"Zip_Code\"], header = True)"
   ]
  },
  {
   "cell_type": "code",
   "execution_count": 20,
   "id": "5639459d",
   "metadata": {},
   "outputs": [],
   "source": [
    "tiny_zips2 = zips_data_df[(zips_data_df[\"Zip_Code\"] >= '01081') & (zips_data_df[\"Zip_Code\"] <= '01225')]"
   ]
  },
  {
   "cell_type": "code",
   "execution_count": 22,
   "id": "778fdf33",
   "metadata": {},
   "outputs": [],
   "source": [
    "tiny_zips2.to_csv('data/tiny_zips_for_Melissa.csv', columns = [\"Zip_Code\"], header = True)"
   ]
  },
  {
   "cell_type": "code",
   "execution_count": 46,
   "id": "e9dc22b9",
   "metadata": {},
   "outputs": [
    {
     "data": {
      "text/plain": [
       "Zip_Code    4899\n",
       "dtype: int64"
      ]
     },
     "execution_count": 46,
     "metadata": {},
     "output_type": "execute_result"
    }
   ],
   "source": [
    "zips_less_than_3k = zips_data_df[(zips_data_df[\"Zip_Code\"] < '3350')]\n",
    "zips_less_than_3k.count()"
   ]
  },
  {
   "cell_type": "code",
   "execution_count": 49,
   "id": "ac19d81e",
   "metadata": {
    "scrolled": true
   },
   "outputs": [
    {
     "data": {
      "text/plain": [
       "Zip_Code    4902\n",
       "dtype: int64"
      ]
     },
     "execution_count": 49,
     "metadata": {},
     "output_type": "execute_result"
    }
   ],
   "source": [
    "zips_3_to_6k = zips_data_df[(zips_data_df[\"Zip_Code\"] >= '3350') & (zips_data_df[\"Zip_Code\"] < '6500')]\n",
    "zips_3_to_6k.count()"
   ]
  },
  {
   "cell_type": "code",
   "execution_count": 50,
   "id": "201cce24",
   "metadata": {},
   "outputs": [
    {
     "data": {
      "text/plain": [
       "Zip_Code    4863\n",
       "dtype: int64"
      ]
     },
     "execution_count": 50,
     "metadata": {},
     "output_type": "execute_result"
    }
   ],
   "source": [
    "zips_6k_above = zips_data_df[(zips_data_df[\"Zip_Code\"] >= '6500') ]\n",
    "zips_6k_above.count()"
   ]
  },
  {
   "cell_type": "code",
   "execution_count": 54,
   "id": "683f285d",
   "metadata": {},
   "outputs": [],
   "source": [
    "zips_less_than_3k.to_csv('data/zips_less_than_3k.csv', columns = [\"Zip_Code\"], header = True)"
   ]
  },
  {
   "cell_type": "code",
   "execution_count": 57,
   "id": "dc3c340d",
   "metadata": {},
   "outputs": [],
   "source": [
    "zips_3_to_6k.to_csv('data/zips_3_to_6k.csv', columns = [\"Zip_Code\"], header = True)"
   ]
  },
  {
   "cell_type": "code",
   "execution_count": 56,
   "id": "e4c466a5",
   "metadata": {},
   "outputs": [],
   "source": [
    "zips_6k_above.to_csv('data/zips_6k_above.csv', columns = [\"Zip_Code\"], header = True)"
   ]
  }
 ],
 "metadata": {
  "kernelspec": {
   "display_name": "Python 3 (ipykernel)",
   "language": "python",
   "name": "python3"
  },
  "language_info": {
   "codemirror_mode": {
    "name": "ipython",
    "version": 3
   },
   "file_extension": ".py",
   "mimetype": "text/x-python",
   "name": "python",
   "nbconvert_exporter": "python",
   "pygments_lexer": "ipython3",
   "version": "3.7.11"
  }
 },
 "nbformat": 4,
 "nbformat_minor": 5
}
