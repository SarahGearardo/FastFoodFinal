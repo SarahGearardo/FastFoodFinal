{
 "cells": [
  {
   "cell_type": "code",
   "execution_count": 1,
   "id": "19053995",
   "metadata": {},
   "outputs": [],
   "source": [
    "import numpy as np \n",
    "import chardet\n",
    "import pandas as pd \n",
    "import gmaps\n",
    "from config import g_key"
   ]
  },
  {
   "cell_type": "code",
   "execution_count": null,
   "id": "d1035b3d",
   "metadata": {},
   "outputs": [],
   "source": [
    "# For Initial Pull of Raw Data\n",
    "with open('data/HH/kaggle_income.csv', 'rb') as f:\n",
    "    enc = chardet.detect(f.read())\n",
    "US_HH_Income_df = pd.read_csv('data/kaggle_income.csv', encoding = enc['encoding'])"
   ]
  },
  {
   "cell_type": "code",
   "execution_count": null,
   "id": "e5d35824",
   "metadata": {},
   "outputs": [],
   "source": [
    "nRow, nCol = US_HH_Income_df.shape\n",
    "print(f'There are {nRow} rows and {nCol} columns')"
   ]
  },
  {
   "cell_type": "code",
   "execution_count": null,
   "id": "7a3a892f",
   "metadata": {},
   "outputs": [],
   "source": [
    "US_HH_Income_df.dtypes"
   ]
  },
  {
   "cell_type": "code",
   "execution_count": null,
   "id": "f53763c6",
   "metadata": {
    "scrolled": true
   },
   "outputs": [],
   "source": [
    "US_HH_Income_df.columns.tolist()"
   ]
  },
  {
   "cell_type": "code",
   "execution_count": null,
   "id": "97e01c75",
   "metadata": {},
   "outputs": [],
   "source": [
    "# Cleaning the data\n",
    "\n",
    "# Drop unwanted columns\n",
    "US_HH_Income_df = US_HH_Income_df.drop([\"id\",'State_Code','State_Name','County','Place','Type','Primary', 'Area_Code','ALand','AWater'], axis = 1)\n",
    "\n",
    "# Drop duplicate Zip Codes\n",
    "US_HH_Income_df = US_HH_Income_df.drop_duplicates([\"Zip_Code\"])\n",
    "\n",
    "# Drop PR and DC from DataFrame\n",
    "US_HH_Income_df = US_HH_Income_df[US_HH_Income_df['State_ab'] != 'PR']\n",
    "US_HH_Income_df = US_HH_Income_df[US_HH_Income_df['State_ab'] != 'DC']\n",
    "\n",
    "# Drop null values\n",
    "US_HH_Income_df= US_HH_Income_df.dropna()\n",
    "\n",
    "# Pad zip codes with fewer than 5 numbers with leading zeros\n",
    "US_HH_Income_df['Zip_Code'] = US_HH_Income_df['Zip_Code'].map(\"{:05d}\".format)\n"
   ]
  },
  {
   "cell_type": "code",
   "execution_count": null,
   "id": "c721591e",
   "metadata": {},
   "outputs": [],
   "source": [
    "US_HH_Income_df.to_csv('data/cleaned_HH_Income.csv', sep = ',', header = True)"
   ]
  },
  {
   "cell_type": "code",
   "execution_count": null,
   "id": "81816212",
   "metadata": {},
   "outputs": [],
   "source": [
    "US_HH_Income_df.to_csv('data/cleaned_HH_Income_Zips_List.csv', columns = [\"Zip_Code\"], header = True)"
   ]
  },
  {
   "cell_type": "code",
   "execution_count": null,
   "id": "e011d183",
   "metadata": {},
   "outputs": [],
   "source": [
    "US_HH_Income_df.to_csv('data/Zips_less_than_2000.csv', (columns = [\"Zip_Code\"] < 2000), header = True)"
   ]
  },
  {
   "cell_type": "code",
   "execution_count": null,
   "id": "d0eb3759",
   "metadata": {},
   "outputs": [],
   "source": [
    "# Configure gmaps to use your Google API key.\n",
    "gmaps.configure(api_key=g_key)"
   ]
  },
  {
   "cell_type": "code",
   "execution_count": null,
   "id": "86ca80a0",
   "metadata": {},
   "outputs": [],
   "source": [
    "# Get the latitude and longitude.\n",
    "marker_locations = US_HH_Income_df[[\"Lat\", \"Lon\"]]"
   ]
  },
  {
   "cell_type": "code",
   "execution_count": null,
   "id": "2005587c",
   "metadata": {},
   "outputs": [],
   "source": [
    "zips_layer = gmaps.symbol_layer(\n",
    "    marker_locations, fill_color='purple', stroke_color='purple', scale=2\n",
    ")\n",
    "fig = gmaps.figure()\n",
    "fig.add_layer(zips_layer)\n",
    "#fig"
   ]
  },
  {
   "cell_type": "code",
   "execution_count": null,
   "id": "c91ed077",
   "metadata": {},
   "outputs": [],
   "source": []
  },
  {
   "cell_type": "code",
   "execution_count": null,
   "id": "04c8a39a",
   "metadata": {},
   "outputs": [],
   "source": []
  },
  {
   "cell_type": "code",
   "execution_count": null,
   "id": "fc5f46f2",
   "metadata": {},
   "outputs": [],
   "source": [
    "\n"
   ]
  }
 ],
 "metadata": {
  "kernelspec": {
   "display_name": "PythonData",
   "language": "python",
   "name": "pythondata"
  },
  "language_info": {
   "codemirror_mode": {
    "name": "ipython",
    "version": 3
   },
   "file_extension": ".py",
   "mimetype": "text/x-python",
   "name": "python",
   "nbconvert_exporter": "python",
   "pygments_lexer": "ipython3",
   "version": "3.9.7"
  }
 },
 "nbformat": 4,
 "nbformat_minor": 5
}
