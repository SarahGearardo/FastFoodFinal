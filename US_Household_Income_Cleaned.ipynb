{
 "cells": [
  {
   "cell_type": "code",
   "execution_count": 1,
   "id": "19053995",
   "metadata": {},
   "outputs": [],
   "source": [
    "import numpy as np \n",
    "import chardet\n",
    "import pandas as pd \n",
    "import gmaps\n",
    "from config import g_key"
   ]
  },
  {
   "cell_type": "code",
   "execution_count": 2,
   "id": "d1035b3d",
   "metadata": {},
   "outputs": [],
   "source": [
    "with open('data/kaggle_income.csv', 'rb') as f:\n",
    "    enc = chardet.detect(f.read())\n",
    "US_HH_Income_df = pd.read_csv('data/kaggle_income.csv', encoding = enc['encoding'])"
   ]
  },
  {
   "cell_type": "code",
   "execution_count": 3,
   "id": "e5d35824",
   "metadata": {},
   "outputs": [
    {
     "name": "stdout",
     "output_type": "stream",
     "text": [
      "There are 32526 rows and 19 columns\n"
     ]
    }
   ],
   "source": [
    "US_HH_Income_df.dataframeName = 'kaggle_income.csv'\n",
    "nRow, nCol = US_HH_Income_df.shape\n",
    "print(f'There are {nRow} rows and {nCol} columns')"
   ]
  },
  {
   "cell_type": "code",
   "execution_count": 4,
   "id": "7a3a892f",
   "metadata": {},
   "outputs": [
    {
     "data": {
      "text/plain": [
       "id              int64\n",
       "State_Code      int64\n",
       "State_Name     object\n",
       "State_ab       object\n",
       "County         object\n",
       "City           object\n",
       "Place          object\n",
       "Type           object\n",
       "Primary        object\n",
       "Zip_Code        int64\n",
       "Area_Code      object\n",
       "ALand           int64\n",
       "AWater          int64\n",
       "Lat           float64\n",
       "Lon           float64\n",
       "Mean            int64\n",
       "Median          int64\n",
       "Stdev           int64\n",
       "sum_w         float64\n",
       "dtype: object"
      ]
     },
     "execution_count": 4,
     "metadata": {},
     "output_type": "execute_result"
    }
   ],
   "source": [
    "US_HH_Income_df.dtypes"
   ]
  },
  {
   "cell_type": "code",
   "execution_count": 5,
   "id": "f53763c6",
   "metadata": {
    "scrolled": true
   },
   "outputs": [
    {
     "data": {
      "text/plain": [
       "['id',\n",
       " 'State_Code',\n",
       " 'State_Name',\n",
       " 'State_ab',\n",
       " 'County',\n",
       " 'City',\n",
       " 'Place',\n",
       " 'Type',\n",
       " 'Primary',\n",
       " 'Zip_Code',\n",
       " 'Area_Code',\n",
       " 'ALand',\n",
       " 'AWater',\n",
       " 'Lat',\n",
       " 'Lon',\n",
       " 'Mean',\n",
       " 'Median',\n",
       " 'Stdev',\n",
       " 'sum_w']"
      ]
     },
     "execution_count": 5,
     "metadata": {},
     "output_type": "execute_result"
    }
   ],
   "source": [
    "US_HH_Income_df.columns.tolist()"
   ]
  },
  {
   "cell_type": "code",
   "execution_count": 4,
   "id": "97e01c75",
   "metadata": {},
   "outputs": [],
   "source": [
    "# Cleaning the data\n",
    "\n",
    "# Drop unwanted columns\n",
    "US_HH_Income_df = US_HH_Income_df.drop([\"id\",'State_Code','State_Name','County','Place','Type','Primary', 'Area_Code','ALand','AWater'], axis = 1)\n",
    "\n",
    "# Drop duplicate Zip Codes\n",
    "US_HH_Income_df = US_HH_Income_df.drop_duplicates([\"Zip_Code\"])\n",
    "\n",
    "# Drop PR and DC from DataFrame\n",
    "US_HH_Income_df = US_HH_Income_df[US_HH_Income_df['State_ab'] != 'PR']\n",
    "US_HH_Income_df = US_HH_Income_df[US_HH_Income_df['State_ab'] != 'DC']\n",
    "\n",
    "# Drop null values\n",
    "US_HH_Income_df= US_HH_Income_df.dropna()\n",
    "\n",
    "# Pad zip codes with fewer than 5 numbers with leading zeros\n",
    "US_HH_Income_df['Zip_Code'] = US_HH_Income_df['Zip_Code'].map(\"{:05d}\".format)\n"
   ]
  },
  {
   "cell_type": "code",
   "execution_count": 7,
   "id": "c721591e",
   "metadata": {},
   "outputs": [],
   "source": [
    "US_HH_Income_df.to_csv('data/cleaned_HH_Income.csv', sep = ',', header = True)"
   ]
  },
  {
   "cell_type": "code",
   "execution_count": 5,
   "id": "81816212",
   "metadata": {},
   "outputs": [],
   "source": [
    "US_HH_Income_df.to_csv('data/cleaned_HH_Income_Zips_List.csv', columns = [\"Zip_Code\"], header = True)"
   ]
  },
  {
   "cell_type": "code",
   "execution_count": 8,
   "id": "e011d183",
   "metadata": {},
   "outputs": [
    {
     "ename": "SyntaxError",
     "evalue": "invalid syntax (Temp/ipykernel_8688/2700245880.py, line 1)",
     "output_type": "error",
     "traceback": [
      "\u001b[1;36m  File \u001b[1;32m\"C:\\Users\\menon\\AppData\\Local\\Temp/ipykernel_8688/2700245880.py\"\u001b[1;36m, line \u001b[1;32m1\u001b[0m\n\u001b[1;33m    US_HH_Income_df.to_csv('data/Zips_less_than_2000.csv', (columns = [\"Zip_Code\"] < 2000), header = True)\u001b[0m\n\u001b[1;37m                                                                    ^\u001b[0m\n\u001b[1;31mSyntaxError\u001b[0m\u001b[1;31m:\u001b[0m invalid syntax\n"
     ]
    }
   ],
   "source": [
    "US_HH_Income_df.to_csv('data/Zips_less_than_2000.csv', (columns = [\"Zip_Code\"] < 2000), header = True)"
   ]
  },
  {
   "cell_type": "code",
   "execution_count": null,
   "id": "a90dcf4a",
   "metadata": {},
   "outputs": [],
   "source": []
  },
  {
   "cell_type": "code",
   "execution_count": null,
   "id": "d0eb3759",
   "metadata": {},
   "outputs": [],
   "source": [
    "# Configure gmaps to use your Google API key.\n",
    "gmaps.configure(api_key=g_key)"
   ]
  },
  {
   "cell_type": "code",
   "execution_count": null,
   "id": "86ca80a0",
   "metadata": {},
   "outputs": [],
   "source": [
    "# Get the latitude and longitude.\n",
    "marker_locations = US_HH_Income_df[[\"Lat\", \"Lon\"]]"
   ]
  },
  {
   "cell_type": "code",
   "execution_count": null,
   "id": "2005587c",
   "metadata": {},
   "outputs": [],
   "source": [
    "zips_layer = gmaps.symbol_layer(\n",
    "    marker_locations, fill_color='purple', stroke_color='purple', scale=2\n",
    ")\n",
    "fig = gmaps.figure()\n",
    "fig.add_layer(zips_layer)\n",
    "#fig"
   ]
  },
  {
   "cell_type": "code",
   "execution_count": null,
   "id": "c91ed077",
   "metadata": {},
   "outputs": [],
   "source": []
  },
  {
   "cell_type": "code",
   "execution_count": null,
   "id": "04c8a39a",
   "metadata": {},
   "outputs": [],
   "source": []
  },
  {
   "cell_type": "code",
   "execution_count": null,
   "id": "fc5f46f2",
   "metadata": {},
   "outputs": [],
   "source": [
    "\n"
   ]
  }
 ],
 "metadata": {
  "kernelspec": {
   "display_name": "PythonData",
   "language": "python",
   "name": "pythondata"
  },
  "language_info": {
   "codemirror_mode": {
    "name": "ipython",
    "version": 3
   },
   "file_extension": ".py",
   "mimetype": "text/x-python",
   "name": "python",
   "nbconvert_exporter": "python",
   "pygments_lexer": "ipython3",
   "version": "3.9.7"
  }
 },
 "nbformat": 4,
 "nbformat_minor": 5
}
