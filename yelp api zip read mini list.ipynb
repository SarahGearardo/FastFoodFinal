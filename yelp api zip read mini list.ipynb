{
 "cells": [
  {
   "cell_type": "code",
   "execution_count": 1,
   "id": "fe1b2d65",
   "metadata": {
    "scrolled": true
   },
   "outputs": [],
   "source": [
    "# Import the requests library.\n",
    "import requests as r\n",
    "import pandas as pd\n",
    "import numpy as np\n",
    "from itertools import product\n",
    "# Import the API key.\n",
    "from config import YELP_API_key\n",
    "\n",
    "\n",
    "# Define the API key, Endpoint, and Header\n",
    "key = YELP_API_key\n",
    "url = 'https://api.yelp.com/v3/businesses/search'\n",
    "headers = {'Authorization':'bearer %s' % key}\n",
    "## Reading in the zip code csv file that we extracted from the HH Income dataset\n",
    "zips_data_df = pd.read_csv('tiny_zips_for_Julie.csv')"
   ]
  },
  {
   "cell_type": "code",
   "execution_count": 2,
   "id": "a3ad6c85",
   "metadata": {},
   "outputs": [],
   "source": [
    "# Include 2 addresses and 500 results\n",
    "addresses = zips_data_df\n",
    "offset = np.arange(0,100,50)\n",
    "# Create list of tuples of combinations between addresses and offset\n",
    "tuples = list(product(addresses, offset))"
   ]
  },
  {
   "cell_type": "code",
   "execution_count": 3,
   "id": "295cfb4e",
   "metadata": {},
   "outputs": [],
   "source": [
    "# Empty list\n",
    "list = []\n",
    "# Future DF columns\n",
    "cols = ['Name', 'Type', 'Address', 'Zip Code']\n",
    "# for loop"
   ]
  },
  {
   "cell_type": "code",
   "execution_count": 4,
   "id": "e766abdb",
   "metadata": {
    "scrolled": true
   },
   "outputs": [
    {
     "name": "stdout",
     "output_type": "stream",
     "text": [
      "1050\n",
      "Caught an error at line 'businesses'\n",
      "1069\n",
      "Caught an error at line 'businesses'\n",
      "1056\n",
      "Caught an error at line 'businesses'\n",
      "1020\n",
      "Caught an error at line 'businesses'\n",
      "1013\n",
      "Caught an error at line 'businesses'\n",
      "1040\n",
      "Caught an error at line 'businesses'\n",
      "1022\n",
      "Caught an error at line 'businesses'\n",
      "1077\n",
      "Caught an error at line 'businesses'\n",
      "1030\n",
      "1001\n",
      "Caught an error at line 'businesses'\n",
      "1036\n",
      "Caught an error at line 'businesses'\n",
      "1002\n",
      "Caught an error at line 'businesses'\n",
      "1033\n",
      "Caught an error at line 'businesses'\n",
      "1075\n",
      "Caught an error at line 'businesses'\n",
      "1035\n",
      "Caught an error at line 'businesses'\n",
      "1062\n",
      "Caught an error at line 'businesses'\n",
      "1060\n",
      "Caught an error at line 'businesses'\n",
      "1027\n",
      "Caught an error at line 'businesses'\n",
      "1038\n",
      "Caught an error at line 'businesses'\n",
      "1005\n",
      "Caught an error at line 'businesses'\n"
     ]
    },
    {
     "data": {
      "text/html": [
       "<div>\n",
       "<style scoped>\n",
       "    .dataframe tbody tr th:only-of-type {\n",
       "        vertical-align: middle;\n",
       "    }\n",
       "\n",
       "    .dataframe tbody tr th {\n",
       "        vertical-align: top;\n",
       "    }\n",
       "\n",
       "    .dataframe thead th {\n",
       "        text-align: right;\n",
       "    }\n",
       "</style>\n",
       "<table border=\"1\" class=\"dataframe\">\n",
       "  <thead>\n",
       "    <tr style=\"text-align: right;\">\n",
       "      <th></th>\n",
       "      <th>Type</th>\n",
       "      <th>Address</th>\n",
       "      <th>Zip Code</th>\n",
       "    </tr>\n",
       "    <tr>\n",
       "      <th>Name</th>\n",
       "      <th></th>\n",
       "      <th></th>\n",
       "      <th></th>\n",
       "    </tr>\n",
       "  </thead>\n",
       "  <tbody>\n",
       "    <tr>\n",
       "      <th>(Quick,)</th>\n",
       "      <td>hotdogs</td>\n",
       "      <td>(Rue Neuve, 114,)</td>\n",
       "      <td>(1000,)</td>\n",
       "    </tr>\n",
       "    <tr>\n",
       "      <th>(Fat Boy's,)</th>\n",
       "      <td>hotdogs</td>\n",
       "      <td>(Ave de cortenbergh 36,)</td>\n",
       "      <td>(1000,)</td>\n",
       "    </tr>\n",
       "    <tr>\n",
       "      <th>(O'Tacos,)</th>\n",
       "      <td>halal</td>\n",
       "      <td>(Boulevard Adolphe Max 52,)</td>\n",
       "      <td>(1000,)</td>\n",
       "    </tr>\n",
       "    <tr>\n",
       "      <th>(KFC,)</th>\n",
       "      <td>hotdogs</td>\n",
       "      <td>(Rue du Progrès 76,)</td>\n",
       "      <td>(1030,)</td>\n",
       "    </tr>\n",
       "    <tr>\n",
       "      <th>(Mykonos,)</th>\n",
       "      <td>greek</td>\n",
       "      <td>(Rue du Marché aux Fromages 8,)</td>\n",
       "      <td>(1000,)</td>\n",
       "    </tr>\n",
       "  </tbody>\n",
       "</table>\n",
       "</div>"
      ],
      "text/plain": [
       "                 Type                          Address Zip Code\n",
       "Name                                                           \n",
       "(Quick,)      hotdogs                (Rue Neuve, 114,)  (1000,)\n",
       "(Fat Boy's,)  hotdogs         (Ave de cortenbergh 36,)  (1000,)\n",
       "(O'Tacos,)      halal      (Boulevard Adolphe Max 52,)  (1000,)\n",
       "(KFC,)        hotdogs             (Rue du Progrès 76,)  (1030,)\n",
       "(Mykonos,)      greek  (Rue du Marché aux Fromages 8,)  (1000,)"
      ]
     },
     "execution_count": 4,
     "metadata": {},
     "output_type": "execute_result"
    }
   ],
   "source": [
    "for index, row in  addresses.iterrows():\n",
    "    current_zip = row['Zip_Code']\n",
    "    search_parameters = {\n",
    "        'location': current_zip,\n",
    "        'term': 'fast food',\n",
    "        'radius': 5000,\n",
    "        'limit': 50,\n",
    "        'offset': index}\n",
    "    resp = r.get(url, headers=headers, params=search_parameters)\n",
    "    raw_data = resp.json()\n",
    "    print(current_zip)\n",
    "    try:\n",
    "         for business in raw_data['businesses']:\n",
    "                name = business['name'],\n",
    "                food_type = business['categories'][0]['alias']\n",
    "                address = business['location']['address1'],\n",
    "                zip_code = business['location']['zip_code'],\n",
    "                list.append([name, food_type, address, zip_code])\n",
    "    except KeyError as e:\n",
    "        print (f\"Caught an error at line {e}\")\n",
    "        pass\n",
    "df = pd.DataFrame.from_records(list, index='Name', columns=cols)\n",
    "#print(f'Total Records: {len(df)}'))\n",
    "df.head()"
   ]
  },
  {
   "cell_type": "code",
   "execution_count": 5,
   "id": "7900e91a",
   "metadata": {},
   "outputs": [
    {
     "name": "stdout",
     "output_type": "stream",
     "text": [
      "['hotdogs' 'halal' 'greek' 'kebab' 'localflavor' 'turkish' 'friterie'\n",
      " 'indpak' 'tea' 'belgian' 'mexican' 'sandwiches' 'chickenshop'\n",
      " 'brasseries' 'salad' 'burgers' 'modern_european' 'bagels' 'steak']\n",
      "[('Rue Neuve, 114',) ('Ave de cortenbergh 36',)\n",
      " ('Boulevard Adolphe Max 52',) ('Rue du Progrès 76',)\n",
      " ('Rue du Marché aux Fromages 8',) ('24 rue Saint-Michel',)\n",
      " ('Place Saint-Josse',) ('Rue Picard 82',) ('Rue de Malines 44',)\n",
      " ('Ave Félix Marchal 7',) ('Rue de la Madeleine 1',)\n",
      " ('Boulevard Anspach 50',) ('Boulevard Du Jardin Botanique 8',)\n",
      " ('46 rue de la Fourche',) ('Rue Rogier 150',) ('Place Eugène Flagey',)\n",
      " ('Place Jourdan 1',) ('Rue Américaine 91',) ('Boulevard Lambermont 1',)\n",
      " ('Chaussee de Louvain 571',) ('Boulevard Anspach 72',)\n",
      " ('Rue de Midi 92',) ('Rue Neuve 124',) ('Rue Froissartstr. 69',)\n",
      " ('Boulevard Anspach 21',) ('Rue du Marché aux Fromages 11',)\n",
      " ('Boulevard Maurice Lemonnier 216',) ('Chaussée de Louvain 480',)\n",
      " ('Rue Watteeu 31',) ('Rue du Général Eenens 19',)\n",
      " ('Rue du Marché aux Herbes 93',) ('Romeinsesteenweg 199',)\n",
      " (\"Ave de la Toison d'Or 6\",) ('Rue de la Loi 19',) ('Rue du Trône 39',)\n",
      " (\"Chaussée d'Anvers 84\",) ('Avenue Georges Henri 358',)\n",
      " ('Rue Froissart 137-139',) (\"Avenue de la Toison d'Or 4\",)\n",
      " ('Chaussée de Louvain 36',) ('Place Saint-Antoine, 37',)\n",
      " ('Rue du Marché au Charbon 100',) (\"Rue d'Arlon 2\",)\n",
      " ('Place Sainte-Catherine 4',) ('Rue du Noyer 89',)\n",
      " ('21 avenue du Boulevard',) ('Quai à la Houille 6',)\n",
      " ('Place de la Bourse 2',) ('Rue de Heembeek 272',)\n",
      " ('Chaussée de Charleroi 66',)]\n",
      "[('1000',) ('1030',) ('1210',) ('1080',) ('1050',) ('1040',) ('1800',)\n",
      " ('1200',) ('1120',) ('1060',)]\n"
     ]
    }
   ],
   "source": [
    "#df.sort_values(by='Zip Code')\n",
    "#df['Zip Code'].nunique()\n",
    "for col in df:\n",
    "  print(df[col].unique())"
   ]
  },
  {
   "cell_type": "code",
   "execution_count": 6,
   "id": "deba60bd",
   "metadata": {},
   "outputs": [],
   "source": [
    "###for index, row in  addresses.iterrows():\n",
    "    #current_zip = row['Zip_Code']\n",
    "   # search_parameters = {\n",
    "  #      'location': current_zip,\n",
    " #       'term': 'fast food',\n",
    "#        'radius': 8000,\n",
    "#        'limit': 50,\n",
    "#        'offset': index}\n",
    "#    resp = r.get(url, headers=headers, params=search_parameters)\n",
    "#    raw_data = resp.json()\n",
    "#    try:\n",
    "#    for business in raw_data['businesses']:\n",
    "#        name = business['name'],\n",
    "#        food_type = business['categories'][0]['alias']\n",
    "#        address = business['location']['address1'],\n",
    "#        zip_code = business['location']['zip_code'],\n",
    "#        list.append([name, food_type, address, zip_code])\n",
    "#    df = pd.DataFrame.from_records(list, index='Name', columns=cols)\n",
    "#print(f'Total Records: {len(df)}')\n",
    "###df.head()"
   ]
  },
  {
   "cell_type": "code",
   "execution_count": 7,
   "id": "c3542a63",
   "metadata": {},
   "outputs": [
    {
     "data": {
      "text/plain": [
       "1005"
      ]
     },
     "execution_count": 7,
     "metadata": {},
     "output_type": "execute_result"
    }
   ],
   "source": [
    "current_zip"
   ]
  },
  {
   "cell_type": "code",
   "execution_count": 8,
   "id": "95b05c2d",
   "metadata": {},
   "outputs": [],
   "source": [
    "#df.head()\n",
    "#display(df.info)\n",
    "#display(df.describe)"
   ]
  }
 ],
 "metadata": {
  "kernelspec": {
   "display_name": "Python 3 (ipykernel)",
   "language": "python",
   "name": "python3"
  },
  "language_info": {
   "codemirror_mode": {
    "name": "ipython",
    "version": 3
   },
   "file_extension": ".py",
   "mimetype": "text/x-python",
   "name": "python",
   "nbconvert_exporter": "python",
   "pygments_lexer": "ipython3",
   "version": "3.7.11"
  }
 },
 "nbformat": 4,
 "nbformat_minor": 5
}
